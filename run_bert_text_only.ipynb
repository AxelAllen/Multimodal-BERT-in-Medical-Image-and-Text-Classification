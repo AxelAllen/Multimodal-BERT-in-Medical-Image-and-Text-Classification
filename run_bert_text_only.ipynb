{
  "nbformat": 4,
  "nbformat_minor": 0,
  "metadata": {
    "accelerator": "GPU",
    "colab": {
      "name": "run_bert_text_only.ipynb",
      "provenance": [],
      "collapsed_sections": [],
      "toc_visible": true,
      "include_colab_link": true
    },
    "kernelspec": {
      "display_name": "Python 3",
      "language": "python",
      "name": "python3"
    },
    "language_info": {
      "codemirror_mode": {
        "name": "ipython",
        "version": 3
      },
      "file_extension": ".py",
      "mimetype": "text/x-python",
      "name": "python",
      "nbconvert_exporter": "python",
      "pygments_lexer": "ipython3",
      "version": "3.7.9"
    },
    "widgets": {
      "application/vnd.jupyter.widget-state+json": {
        "21df3a41cd1949a28631d7ddcc942e2e": {
          "model_module": "@jupyter-widgets/controls",
          "model_name": "HBoxModel",
          "state": {
            "_dom_classes": [],
            "_model_module": "@jupyter-widgets/controls",
            "_model_module_version": "1.5.0",
            "_model_name": "HBoxModel",
            "_view_count": null,
            "_view_module": "@jupyter-widgets/controls",
            "_view_module_version": "1.5.0",
            "_view_name": "HBoxView",
            "box_style": "",
            "children": [
              "IPY_MODEL_802eb53a671f4d248a43728f9dd119d0",
              "IPY_MODEL_f6d53fbe2885490e8e89d0235dbb44b5"
            ],
            "layout": "IPY_MODEL_d7fdfc9c14774fc69be4ce1240eead6d"
          }
        },
        "802eb53a671f4d248a43728f9dd119d0": {
          "model_module": "@jupyter-widgets/controls",
          "model_name": "FloatProgressModel",
          "state": {
            "_dom_classes": [],
            "_model_module": "@jupyter-widgets/controls",
            "_model_module_version": "1.5.0",
            "_model_name": "FloatProgressModel",
            "_view_count": null,
            "_view_module": "@jupyter-widgets/controls",
            "_view_module_version": "1.5.0",
            "_view_name": "ProgressView",
            "bar_style": "success",
            "description": "Downloading: 100%",
            "description_tooltip": null,
            "layout": "IPY_MODEL_8336558f99cc46888da931f428e9e21e",
            "max": 231508,
            "min": 0,
            "orientation": "horizontal",
            "style": "IPY_MODEL_30dd8b34d69b4328949a3674d3154a08",
            "value": 231508
          }
        },
        "f6d53fbe2885490e8e89d0235dbb44b5": {
          "model_module": "@jupyter-widgets/controls",
          "model_name": "HTMLModel",
          "state": {
            "_dom_classes": [],
            "_model_module": "@jupyter-widgets/controls",
            "_model_module_version": "1.5.0",
            "_model_name": "HTMLModel",
            "_view_count": null,
            "_view_module": "@jupyter-widgets/controls",
            "_view_module_version": "1.5.0",
            "_view_name": "HTMLView",
            "description": "",
            "description_tooltip": null,
            "layout": "IPY_MODEL_49b6335d39854f608da36d1ca4695a4b",
            "placeholder": "​",
            "style": "IPY_MODEL_8f142d3230074d31beffe8a560895784",
            "value": " 232k/232k [00:00&lt;00:00, 1.23MB/s]"
          }
        },
        "d7fdfc9c14774fc69be4ce1240eead6d": {
          "model_module": "@jupyter-widgets/base",
          "model_name": "LayoutModel",
          "state": {
            "_model_module": "@jupyter-widgets/base",
            "_model_module_version": "1.2.0",
            "_model_name": "LayoutModel",
            "_view_count": null,
            "_view_module": "@jupyter-widgets/base",
            "_view_module_version": "1.2.0",
            "_view_name": "LayoutView",
            "align_content": null,
            "align_items": null,
            "align_self": null,
            "border": null,
            "bottom": null,
            "display": null,
            "flex": null,
            "flex_flow": null,
            "grid_area": null,
            "grid_auto_columns": null,
            "grid_auto_flow": null,
            "grid_auto_rows": null,
            "grid_column": null,
            "grid_gap": null,
            "grid_row": null,
            "grid_template_areas": null,
            "grid_template_columns": null,
            "grid_template_rows": null,
            "height": null,
            "justify_content": null,
            "justify_items": null,
            "left": null,
            "margin": null,
            "max_height": null,
            "max_width": null,
            "min_height": null,
            "min_width": null,
            "object_fit": null,
            "object_position": null,
            "order": null,
            "overflow": null,
            "overflow_x": null,
            "overflow_y": null,
            "padding": null,
            "right": null,
            "top": null,
            "visibility": null,
            "width": null
          }
        },
        "8336558f99cc46888da931f428e9e21e": {
          "model_module": "@jupyter-widgets/base",
          "model_name": "LayoutModel",
          "state": {
            "_model_module": "@jupyter-widgets/base",
            "_model_module_version": "1.2.0",
            "_model_name": "LayoutModel",
            "_view_count": null,
            "_view_module": "@jupyter-widgets/base",
            "_view_module_version": "1.2.0",
            "_view_name": "LayoutView",
            "align_content": null,
            "align_items": null,
            "align_self": null,
            "border": null,
            "bottom": null,
            "display": null,
            "flex": null,
            "flex_flow": null,
            "grid_area": null,
            "grid_auto_columns": null,
            "grid_auto_flow": null,
            "grid_auto_rows": null,
            "grid_column": null,
            "grid_gap": null,
            "grid_row": null,
            "grid_template_areas": null,
            "grid_template_columns": null,
            "grid_template_rows": null,
            "height": null,
            "justify_content": null,
            "justify_items": null,
            "left": null,
            "margin": null,
            "max_height": null,
            "max_width": null,
            "min_height": null,
            "min_width": null,
            "object_fit": null,
            "object_position": null,
            "order": null,
            "overflow": null,
            "overflow_x": null,
            "overflow_y": null,
            "padding": null,
            "right": null,
            "top": null,
            "visibility": null,
            "width": null
          }
        },
        "30dd8b34d69b4328949a3674d3154a08": {
          "model_module": "@jupyter-widgets/controls",
          "model_name": "ProgressStyleModel",
          "state": {
            "_model_module": "@jupyter-widgets/controls",
            "_model_module_version": "1.5.0",
            "_model_name": "ProgressStyleModel",
            "_view_count": null,
            "_view_module": "@jupyter-widgets/base",
            "_view_module_version": "1.2.0",
            "_view_name": "StyleView",
            "bar_color": null,
            "description_width": "initial"
          }
        },
        "49b6335d39854f608da36d1ca4695a4b": {
          "model_module": "@jupyter-widgets/base",
          "model_name": "LayoutModel",
          "state": {
            "_model_module": "@jupyter-widgets/base",
            "_model_module_version": "1.2.0",
            "_model_name": "LayoutModel",
            "_view_count": null,
            "_view_module": "@jupyter-widgets/base",
            "_view_module_version": "1.2.0",
            "_view_name": "LayoutView",
            "align_content": null,
            "align_items": null,
            "align_self": null,
            "border": null,
            "bottom": null,
            "display": null,
            "flex": null,
            "flex_flow": null,
            "grid_area": null,
            "grid_auto_columns": null,
            "grid_auto_flow": null,
            "grid_auto_rows": null,
            "grid_column": null,
            "grid_gap": null,
            "grid_row": null,
            "grid_template_areas": null,
            "grid_template_columns": null,
            "grid_template_rows": null,
            "height": null,
            "justify_content": null,
            "justify_items": null,
            "left": null,
            "margin": null,
            "max_height": null,
            "max_width": null,
            "min_height": null,
            "min_width": null,
            "object_fit": null,
            "object_position": null,
            "order": null,
            "overflow": null,
            "overflow_x": null,
            "overflow_y": null,
            "padding": null,
            "right": null,
            "top": null,
            "visibility": null,
            "width": null
          }
        },
        "8f142d3230074d31beffe8a560895784": {
          "model_module": "@jupyter-widgets/controls",
          "model_name": "DescriptionStyleModel",
          "state": {
            "_model_module": "@jupyter-widgets/controls",
            "_model_module_version": "1.5.0",
            "_model_name": "DescriptionStyleModel",
            "_view_count": null,
            "_view_module": "@jupyter-widgets/base",
            "_view_module_version": "1.2.0",
            "_view_name": "StyleView",
            "description_width": ""
          }
        },
        "44e5015ef3334ff68537619215d364d6": {
          "model_module": "@jupyter-widgets/controls",
          "model_name": "HBoxModel",
          "state": {
            "_dom_classes": [],
            "_model_module": "@jupyter-widgets/controls",
            "_model_module_version": "1.5.0",
            "_model_name": "HBoxModel",
            "_view_count": null,
            "_view_module": "@jupyter-widgets/controls",
            "_view_module_version": "1.5.0",
            "_view_name": "HBoxView",
            "box_style": "",
            "children": [
              "IPY_MODEL_b3985709728243158c7ffecebb4479f9",
              "IPY_MODEL_bc64104a70e34753b5742c2a0aa7db87"
            ],
            "layout": "IPY_MODEL_fcb21fdd8f7b437ba3fa8490e170db4e"
          }
        },
        "b3985709728243158c7ffecebb4479f9": {
          "model_module": "@jupyter-widgets/controls",
          "model_name": "FloatProgressModel",
          "state": {
            "_dom_classes": [],
            "_model_module": "@jupyter-widgets/controls",
            "_model_module_version": "1.5.0",
            "_model_name": "FloatProgressModel",
            "_view_count": null,
            "_view_module": "@jupyter-widgets/controls",
            "_view_module_version": "1.5.0",
            "_view_name": "ProgressView",
            "bar_style": "success",
            "description": "Downloading: 100%",
            "description_tooltip": null,
            "layout": "IPY_MODEL_94bf1bb6efd64bdca02704bff412e711",
            "max": 28,
            "min": 0,
            "orientation": "horizontal",
            "style": "IPY_MODEL_23a0e6e623b346228d98808c357ca96c",
            "value": 28
          }
        },
        "bc64104a70e34753b5742c2a0aa7db87": {
          "model_module": "@jupyter-widgets/controls",
          "model_name": "HTMLModel",
          "state": {
            "_dom_classes": [],
            "_model_module": "@jupyter-widgets/controls",
            "_model_module_version": "1.5.0",
            "_model_name": "HTMLModel",
            "_view_count": null,
            "_view_module": "@jupyter-widgets/controls",
            "_view_module_version": "1.5.0",
            "_view_name": "HTMLView",
            "description": "",
            "description_tooltip": null,
            "layout": "IPY_MODEL_c9c74e48d95d4ece9dfec36ba41ecc2c",
            "placeholder": "​",
            "style": "IPY_MODEL_4fb3cd6644be41df8386385f8df8866c",
            "value": " 28.0/28.0 [00:00&lt;00:00, 365B/s]"
          }
        },
        "fcb21fdd8f7b437ba3fa8490e170db4e": {
          "model_module": "@jupyter-widgets/base",
          "model_name": "LayoutModel",
          "state": {
            "_model_module": "@jupyter-widgets/base",
            "_model_module_version": "1.2.0",
            "_model_name": "LayoutModel",
            "_view_count": null,
            "_view_module": "@jupyter-widgets/base",
            "_view_module_version": "1.2.0",
            "_view_name": "LayoutView",
            "align_content": null,
            "align_items": null,
            "align_self": null,
            "border": null,
            "bottom": null,
            "display": null,
            "flex": null,
            "flex_flow": null,
            "grid_area": null,
            "grid_auto_columns": null,
            "grid_auto_flow": null,
            "grid_auto_rows": null,
            "grid_column": null,
            "grid_gap": null,
            "grid_row": null,
            "grid_template_areas": null,
            "grid_template_columns": null,
            "grid_template_rows": null,
            "height": null,
            "justify_content": null,
            "justify_items": null,
            "left": null,
            "margin": null,
            "max_height": null,
            "max_width": null,
            "min_height": null,
            "min_width": null,
            "object_fit": null,
            "object_position": null,
            "order": null,
            "overflow": null,
            "overflow_x": null,
            "overflow_y": null,
            "padding": null,
            "right": null,
            "top": null,
            "visibility": null,
            "width": null
          }
        },
        "94bf1bb6efd64bdca02704bff412e711": {
          "model_module": "@jupyter-widgets/base",
          "model_name": "LayoutModel",
          "state": {
            "_model_module": "@jupyter-widgets/base",
            "_model_module_version": "1.2.0",
            "_model_name": "LayoutModel",
            "_view_count": null,
            "_view_module": "@jupyter-widgets/base",
            "_view_module_version": "1.2.0",
            "_view_name": "LayoutView",
            "align_content": null,
            "align_items": null,
            "align_self": null,
            "border": null,
            "bottom": null,
            "display": null,
            "flex": null,
            "flex_flow": null,
            "grid_area": null,
            "grid_auto_columns": null,
            "grid_auto_flow": null,
            "grid_auto_rows": null,
            "grid_column": null,
            "grid_gap": null,
            "grid_row": null,
            "grid_template_areas": null,
            "grid_template_columns": null,
            "grid_template_rows": null,
            "height": null,
            "justify_content": null,
            "justify_items": null,
            "left": null,
            "margin": null,
            "max_height": null,
            "max_width": null,
            "min_height": null,
            "min_width": null,
            "object_fit": null,
            "object_position": null,
            "order": null,
            "overflow": null,
            "overflow_x": null,
            "overflow_y": null,
            "padding": null,
            "right": null,
            "top": null,
            "visibility": null,
            "width": null
          }
        },
        "23a0e6e623b346228d98808c357ca96c": {
          "model_module": "@jupyter-widgets/controls",
          "model_name": "ProgressStyleModel",
          "state": {
            "_model_module": "@jupyter-widgets/controls",
            "_model_module_version": "1.5.0",
            "_model_name": "ProgressStyleModel",
            "_view_count": null,
            "_view_module": "@jupyter-widgets/base",
            "_view_module_version": "1.2.0",
            "_view_name": "StyleView",
            "bar_color": null,
            "description_width": "initial"
          }
        },
        "c9c74e48d95d4ece9dfec36ba41ecc2c": {
          "model_module": "@jupyter-widgets/base",
          "model_name": "LayoutModel",
          "state": {
            "_model_module": "@jupyter-widgets/base",
            "_model_module_version": "1.2.0",
            "_model_name": "LayoutModel",
            "_view_count": null,
            "_view_module": "@jupyter-widgets/base",
            "_view_module_version": "1.2.0",
            "_view_name": "LayoutView",
            "align_content": null,
            "align_items": null,
            "align_self": null,
            "border": null,
            "bottom": null,
            "display": null,
            "flex": null,
            "flex_flow": null,
            "grid_area": null,
            "grid_auto_columns": null,
            "grid_auto_flow": null,
            "grid_auto_rows": null,
            "grid_column": null,
            "grid_gap": null,
            "grid_row": null,
            "grid_template_areas": null,
            "grid_template_columns": null,
            "grid_template_rows": null,
            "height": null,
            "justify_content": null,
            "justify_items": null,
            "left": null,
            "margin": null,
            "max_height": null,
            "max_width": null,
            "min_height": null,
            "min_width": null,
            "object_fit": null,
            "object_position": null,
            "order": null,
            "overflow": null,
            "overflow_x": null,
            "overflow_y": null,
            "padding": null,
            "right": null,
            "top": null,
            "visibility": null,
            "width": null
          }
        },
        "4fb3cd6644be41df8386385f8df8866c": {
          "model_module": "@jupyter-widgets/controls",
          "model_name": "DescriptionStyleModel",
          "state": {
            "_model_module": "@jupyter-widgets/controls",
            "_model_module_version": "1.5.0",
            "_model_name": "DescriptionStyleModel",
            "_view_count": null,
            "_view_module": "@jupyter-widgets/base",
            "_view_module_version": "1.2.0",
            "_view_name": "StyleView",
            "description_width": ""
          }
        },
        "b9c65a8eea21427fb56f0f3aa00724fc": {
          "model_module": "@jupyter-widgets/controls",
          "model_name": "HBoxModel",
          "state": {
            "_dom_classes": [],
            "_model_module": "@jupyter-widgets/controls",
            "_model_module_version": "1.5.0",
            "_model_name": "HBoxModel",
            "_view_count": null,
            "_view_module": "@jupyter-widgets/controls",
            "_view_module_version": "1.5.0",
            "_view_name": "HBoxView",
            "box_style": "",
            "children": [
              "IPY_MODEL_c0db84e3bf5f497780453755ee5e0739",
              "IPY_MODEL_3cca2f2eea4b4977b4bab18f9622689b"
            ],
            "layout": "IPY_MODEL_e312cd9e79cb4e2784729685fc0fce20"
          }
        },
        "c0db84e3bf5f497780453755ee5e0739": {
          "model_module": "@jupyter-widgets/controls",
          "model_name": "FloatProgressModel",
          "state": {
            "_dom_classes": [],
            "_model_module": "@jupyter-widgets/controls",
            "_model_module_version": "1.5.0",
            "_model_name": "FloatProgressModel",
            "_view_count": null,
            "_view_module": "@jupyter-widgets/controls",
            "_view_module_version": "1.5.0",
            "_view_name": "ProgressView",
            "bar_style": "success",
            "description": "Downloading: 100%",
            "description_tooltip": null,
            "layout": "IPY_MODEL_07387a0aa5e14ce1a3a5652debd2f017",
            "max": 466062,
            "min": 0,
            "orientation": "horizontal",
            "style": "IPY_MODEL_aba5ef4c5fac44ec9de6f627421e0773",
            "value": 466062
          }
        },
        "3cca2f2eea4b4977b4bab18f9622689b": {
          "model_module": "@jupyter-widgets/controls",
          "model_name": "HTMLModel",
          "state": {
            "_dom_classes": [],
            "_model_module": "@jupyter-widgets/controls",
            "_model_module_version": "1.5.0",
            "_model_name": "HTMLModel",
            "_view_count": null,
            "_view_module": "@jupyter-widgets/controls",
            "_view_module_version": "1.5.0",
            "_view_name": "HTMLView",
            "description": "",
            "description_tooltip": null,
            "layout": "IPY_MODEL_ec9b23fbbe4940e58f01a1837717e221",
            "placeholder": "​",
            "style": "IPY_MODEL_1030fbe306e64c1ebae2007cff2fb143",
            "value": " 466k/466k [00:00&lt;00:00, 5.65MB/s]"
          }
        },
        "e312cd9e79cb4e2784729685fc0fce20": {
          "model_module": "@jupyter-widgets/base",
          "model_name": "LayoutModel",
          "state": {
            "_model_module": "@jupyter-widgets/base",
            "_model_module_version": "1.2.0",
            "_model_name": "LayoutModel",
            "_view_count": null,
            "_view_module": "@jupyter-widgets/base",
            "_view_module_version": "1.2.0",
            "_view_name": "LayoutView",
            "align_content": null,
            "align_items": null,
            "align_self": null,
            "border": null,
            "bottom": null,
            "display": null,
            "flex": null,
            "flex_flow": null,
            "grid_area": null,
            "grid_auto_columns": null,
            "grid_auto_flow": null,
            "grid_auto_rows": null,
            "grid_column": null,
            "grid_gap": null,
            "grid_row": null,
            "grid_template_areas": null,
            "grid_template_columns": null,
            "grid_template_rows": null,
            "height": null,
            "justify_content": null,
            "justify_items": null,
            "left": null,
            "margin": null,
            "max_height": null,
            "max_width": null,
            "min_height": null,
            "min_width": null,
            "object_fit": null,
            "object_position": null,
            "order": null,
            "overflow": null,
            "overflow_x": null,
            "overflow_y": null,
            "padding": null,
            "right": null,
            "top": null,
            "visibility": null,
            "width": null
          }
        },
        "07387a0aa5e14ce1a3a5652debd2f017": {
          "model_module": "@jupyter-widgets/base",
          "model_name": "LayoutModel",
          "state": {
            "_model_module": "@jupyter-widgets/base",
            "_model_module_version": "1.2.0",
            "_model_name": "LayoutModel",
            "_view_count": null,
            "_view_module": "@jupyter-widgets/base",
            "_view_module_version": "1.2.0",
            "_view_name": "LayoutView",
            "align_content": null,
            "align_items": null,
            "align_self": null,
            "border": null,
            "bottom": null,
            "display": null,
            "flex": null,
            "flex_flow": null,
            "grid_area": null,
            "grid_auto_columns": null,
            "grid_auto_flow": null,
            "grid_auto_rows": null,
            "grid_column": null,
            "grid_gap": null,
            "grid_row": null,
            "grid_template_areas": null,
            "grid_template_columns": null,
            "grid_template_rows": null,
            "height": null,
            "justify_content": null,
            "justify_items": null,
            "left": null,
            "margin": null,
            "max_height": null,
            "max_width": null,
            "min_height": null,
            "min_width": null,
            "object_fit": null,
            "object_position": null,
            "order": null,
            "overflow": null,
            "overflow_x": null,
            "overflow_y": null,
            "padding": null,
            "right": null,
            "top": null,
            "visibility": null,
            "width": null
          }
        },
        "aba5ef4c5fac44ec9de6f627421e0773": {
          "model_module": "@jupyter-widgets/controls",
          "model_name": "ProgressStyleModel",
          "state": {
            "_model_module": "@jupyter-widgets/controls",
            "_model_module_version": "1.5.0",
            "_model_name": "ProgressStyleModel",
            "_view_count": null,
            "_view_module": "@jupyter-widgets/base",
            "_view_module_version": "1.2.0",
            "_view_name": "StyleView",
            "bar_color": null,
            "description_width": "initial"
          }
        },
        "ec9b23fbbe4940e58f01a1837717e221": {
          "model_module": "@jupyter-widgets/base",
          "model_name": "LayoutModel",
          "state": {
            "_model_module": "@jupyter-widgets/base",
            "_model_module_version": "1.2.0",
            "_model_name": "LayoutModel",
            "_view_count": null,
            "_view_module": "@jupyter-widgets/base",
            "_view_module_version": "1.2.0",
            "_view_name": "LayoutView",
            "align_content": null,
            "align_items": null,
            "align_self": null,
            "border": null,
            "bottom": null,
            "display": null,
            "flex": null,
            "flex_flow": null,
            "grid_area": null,
            "grid_auto_columns": null,
            "grid_auto_flow": null,
            "grid_auto_rows": null,
            "grid_column": null,
            "grid_gap": null,
            "grid_row": null,
            "grid_template_areas": null,
            "grid_template_columns": null,
            "grid_template_rows": null,
            "height": null,
            "justify_content": null,
            "justify_items": null,
            "left": null,
            "margin": null,
            "max_height": null,
            "max_width": null,
            "min_height": null,
            "min_width": null,
            "object_fit": null,
            "object_position": null,
            "order": null,
            "overflow": null,
            "overflow_x": null,
            "overflow_y": null,
            "padding": null,
            "right": null,
            "top": null,
            "visibility": null,
            "width": null
          }
        },
        "1030fbe306e64c1ebae2007cff2fb143": {
          "model_module": "@jupyter-widgets/controls",
          "model_name": "DescriptionStyleModel",
          "state": {
            "_model_module": "@jupyter-widgets/controls",
            "_model_module_version": "1.5.0",
            "_model_name": "DescriptionStyleModel",
            "_view_count": null,
            "_view_module": "@jupyter-widgets/base",
            "_view_module_version": "1.2.0",
            "_view_name": "StyleView",
            "description_width": ""
          }
        },
        "f1dd478ca17f4aacb3640ae6b2b0702a": {
          "model_module": "@jupyter-widgets/controls",
          "model_name": "HBoxModel",
          "state": {
            "_dom_classes": [],
            "_model_module": "@jupyter-widgets/controls",
            "_model_module_version": "1.5.0",
            "_model_name": "HBoxModel",
            "_view_count": null,
            "_view_module": "@jupyter-widgets/controls",
            "_view_module_version": "1.5.0",
            "_view_name": "HBoxView",
            "box_style": "",
            "children": [
              "IPY_MODEL_5c047fa462914813a79c506924ed618b",
              "IPY_MODEL_fe302f48e5354d748b977a1e20b38c76"
            ],
            "layout": "IPY_MODEL_e528d4e87b6c4df995b78d6eaaa10d39"
          }
        },
        "5c047fa462914813a79c506924ed618b": {
          "model_module": "@jupyter-widgets/controls",
          "model_name": "FloatProgressModel",
          "state": {
            "_dom_classes": [],
            "_model_module": "@jupyter-widgets/controls",
            "_model_module_version": "1.5.0",
            "_model_name": "FloatProgressModel",
            "_view_count": null,
            "_view_module": "@jupyter-widgets/controls",
            "_view_module_version": "1.5.0",
            "_view_name": "ProgressView",
            "bar_style": "success",
            "description": "Downloading: 100%",
            "description_tooltip": null,
            "layout": "IPY_MODEL_3592cf79c0ee4ef682954306f55524f8",
            "max": 433,
            "min": 0,
            "orientation": "horizontal",
            "style": "IPY_MODEL_5f6f2b69804a4d75bebc883b770d7b54",
            "value": 433
          }
        },
        "fe302f48e5354d748b977a1e20b38c76": {
          "model_module": "@jupyter-widgets/controls",
          "model_name": "HTMLModel",
          "state": {
            "_dom_classes": [],
            "_model_module": "@jupyter-widgets/controls",
            "_model_module_version": "1.5.0",
            "_model_name": "HTMLModel",
            "_view_count": null,
            "_view_module": "@jupyter-widgets/controls",
            "_view_module_version": "1.5.0",
            "_view_name": "HTMLView",
            "description": "",
            "description_tooltip": null,
            "layout": "IPY_MODEL_762150e077d340cf937d43bbe2b403ab",
            "placeholder": "​",
            "style": "IPY_MODEL_89e0187e5afe44c590af5a1344420e08",
            "value": " 433/433 [00:00&lt;00:00, 1.39kB/s]"
          }
        },
        "e528d4e87b6c4df995b78d6eaaa10d39": {
          "model_module": "@jupyter-widgets/base",
          "model_name": "LayoutModel",
          "state": {
            "_model_module": "@jupyter-widgets/base",
            "_model_module_version": "1.2.0",
            "_model_name": "LayoutModel",
            "_view_count": null,
            "_view_module": "@jupyter-widgets/base",
            "_view_module_version": "1.2.0",
            "_view_name": "LayoutView",
            "align_content": null,
            "align_items": null,
            "align_self": null,
            "border": null,
            "bottom": null,
            "display": null,
            "flex": null,
            "flex_flow": null,
            "grid_area": null,
            "grid_auto_columns": null,
            "grid_auto_flow": null,
            "grid_auto_rows": null,
            "grid_column": null,
            "grid_gap": null,
            "grid_row": null,
            "grid_template_areas": null,
            "grid_template_columns": null,
            "grid_template_rows": null,
            "height": null,
            "justify_content": null,
            "justify_items": null,
            "left": null,
            "margin": null,
            "max_height": null,
            "max_width": null,
            "min_height": null,
            "min_width": null,
            "object_fit": null,
            "object_position": null,
            "order": null,
            "overflow": null,
            "overflow_x": null,
            "overflow_y": null,
            "padding": null,
            "right": null,
            "top": null,
            "visibility": null,
            "width": null
          }
        },
        "3592cf79c0ee4ef682954306f55524f8": {
          "model_module": "@jupyter-widgets/base",
          "model_name": "LayoutModel",
          "state": {
            "_model_module": "@jupyter-widgets/base",
            "_model_module_version": "1.2.0",
            "_model_name": "LayoutModel",
            "_view_count": null,
            "_view_module": "@jupyter-widgets/base",
            "_view_module_version": "1.2.0",
            "_view_name": "LayoutView",
            "align_content": null,
            "align_items": null,
            "align_self": null,
            "border": null,
            "bottom": null,
            "display": null,
            "flex": null,
            "flex_flow": null,
            "grid_area": null,
            "grid_auto_columns": null,
            "grid_auto_flow": null,
            "grid_auto_rows": null,
            "grid_column": null,
            "grid_gap": null,
            "grid_row": null,
            "grid_template_areas": null,
            "grid_template_columns": null,
            "grid_template_rows": null,
            "height": null,
            "justify_content": null,
            "justify_items": null,
            "left": null,
            "margin": null,
            "max_height": null,
            "max_width": null,
            "min_height": null,
            "min_width": null,
            "object_fit": null,
            "object_position": null,
            "order": null,
            "overflow": null,
            "overflow_x": null,
            "overflow_y": null,
            "padding": null,
            "right": null,
            "top": null,
            "visibility": null,
            "width": null
          }
        },
        "5f6f2b69804a4d75bebc883b770d7b54": {
          "model_module": "@jupyter-widgets/controls",
          "model_name": "ProgressStyleModel",
          "state": {
            "_model_module": "@jupyter-widgets/controls",
            "_model_module_version": "1.5.0",
            "_model_name": "ProgressStyleModel",
            "_view_count": null,
            "_view_module": "@jupyter-widgets/base",
            "_view_module_version": "1.2.0",
            "_view_name": "StyleView",
            "bar_color": null,
            "description_width": "initial"
          }
        },
        "762150e077d340cf937d43bbe2b403ab": {
          "model_module": "@jupyter-widgets/base",
          "model_name": "LayoutModel",
          "state": {
            "_model_module": "@jupyter-widgets/base",
            "_model_module_version": "1.2.0",
            "_model_name": "LayoutModel",
            "_view_count": null,
            "_view_module": "@jupyter-widgets/base",
            "_view_module_version": "1.2.0",
            "_view_name": "LayoutView",
            "align_content": null,
            "align_items": null,
            "align_self": null,
            "border": null,
            "bottom": null,
            "display": null,
            "flex": null,
            "flex_flow": null,
            "grid_area": null,
            "grid_auto_columns": null,
            "grid_auto_flow": null,
            "grid_auto_rows": null,
            "grid_column": null,
            "grid_gap": null,
            "grid_row": null,
            "grid_template_areas": null,
            "grid_template_columns": null,
            "grid_template_rows": null,
            "height": null,
            "justify_content": null,
            "justify_items": null,
            "left": null,
            "margin": null,
            "max_height": null,
            "max_width": null,
            "min_height": null,
            "min_width": null,
            "object_fit": null,
            "object_position": null,
            "order": null,
            "overflow": null,
            "overflow_x": null,
            "overflow_y": null,
            "padding": null,
            "right": null,
            "top": null,
            "visibility": null,
            "width": null
          }
        },
        "89e0187e5afe44c590af5a1344420e08": {
          "model_module": "@jupyter-widgets/controls",
          "model_name": "DescriptionStyleModel",
          "state": {
            "_model_module": "@jupyter-widgets/controls",
            "_model_module_version": "1.5.0",
            "_model_name": "DescriptionStyleModel",
            "_view_count": null,
            "_view_module": "@jupyter-widgets/base",
            "_view_module_version": "1.2.0",
            "_view_name": "StyleView",
            "description_width": ""
          }
        },
        "6a952a3c66284f0db2d8d6f1d7cd1b56": {
          "model_module": "@jupyter-widgets/controls",
          "model_name": "HBoxModel",
          "state": {
            "_dom_classes": [],
            "_model_module": "@jupyter-widgets/controls",
            "_model_module_version": "1.5.0",
            "_model_name": "HBoxModel",
            "_view_count": null,
            "_view_module": "@jupyter-widgets/controls",
            "_view_module_version": "1.5.0",
            "_view_name": "HBoxView",
            "box_style": "",
            "children": [
              "IPY_MODEL_91641c13ae9a487aaaed645b37fbab3b",
              "IPY_MODEL_3f3d6cb26caf4e75a195dbec6abe0cb3"
            ],
            "layout": "IPY_MODEL_54ab081bbfcf4d308cb305843565a08d"
          }
        },
        "91641c13ae9a487aaaed645b37fbab3b": {
          "model_module": "@jupyter-widgets/controls",
          "model_name": "FloatProgressModel",
          "state": {
            "_dom_classes": [],
            "_model_module": "@jupyter-widgets/controls",
            "_model_module_version": "1.5.0",
            "_model_name": "FloatProgressModel",
            "_view_count": null,
            "_view_module": "@jupyter-widgets/controls",
            "_view_module_version": "1.5.0",
            "_view_name": "ProgressView",
            "bar_style": "success",
            "description": "Downloading: 100%",
            "description_tooltip": null,
            "layout": "IPY_MODEL_bd8b7fbb839642e18389d5b4f13e7b8c",
            "max": 440473133,
            "min": 0,
            "orientation": "horizontal",
            "style": "IPY_MODEL_4980d19561584f49b2575076ac214079",
            "value": 440473133
          }
        },
        "3f3d6cb26caf4e75a195dbec6abe0cb3": {
          "model_module": "@jupyter-widgets/controls",
          "model_name": "HTMLModel",
          "state": {
            "_dom_classes": [],
            "_model_module": "@jupyter-widgets/controls",
            "_model_module_version": "1.5.0",
            "_model_name": "HTMLModel",
            "_view_count": null,
            "_view_module": "@jupyter-widgets/controls",
            "_view_module_version": "1.5.0",
            "_view_name": "HTMLView",
            "description": "",
            "description_tooltip": null,
            "layout": "IPY_MODEL_82a184f6222c480a88d5c321a9e5c686",
            "placeholder": "​",
            "style": "IPY_MODEL_7f187f02e68144b8ad714572bd02788c",
            "value": " 440M/440M [00:58&lt;00:00, 7.53MB/s]"
          }
        },
        "54ab081bbfcf4d308cb305843565a08d": {
          "model_module": "@jupyter-widgets/base",
          "model_name": "LayoutModel",
          "state": {
            "_model_module": "@jupyter-widgets/base",
            "_model_module_version": "1.2.0",
            "_model_name": "LayoutModel",
            "_view_count": null,
            "_view_module": "@jupyter-widgets/base",
            "_view_module_version": "1.2.0",
            "_view_name": "LayoutView",
            "align_content": null,
            "align_items": null,
            "align_self": null,
            "border": null,
            "bottom": null,
            "display": null,
            "flex": null,
            "flex_flow": null,
            "grid_area": null,
            "grid_auto_columns": null,
            "grid_auto_flow": null,
            "grid_auto_rows": null,
            "grid_column": null,
            "grid_gap": null,
            "grid_row": null,
            "grid_template_areas": null,
            "grid_template_columns": null,
            "grid_template_rows": null,
            "height": null,
            "justify_content": null,
            "justify_items": null,
            "left": null,
            "margin": null,
            "max_height": null,
            "max_width": null,
            "min_height": null,
            "min_width": null,
            "object_fit": null,
            "object_position": null,
            "order": null,
            "overflow": null,
            "overflow_x": null,
            "overflow_y": null,
            "padding": null,
            "right": null,
            "top": null,
            "visibility": null,
            "width": null
          }
        },
        "bd8b7fbb839642e18389d5b4f13e7b8c": {
          "model_module": "@jupyter-widgets/base",
          "model_name": "LayoutModel",
          "state": {
            "_model_module": "@jupyter-widgets/base",
            "_model_module_version": "1.2.0",
            "_model_name": "LayoutModel",
            "_view_count": null,
            "_view_module": "@jupyter-widgets/base",
            "_view_module_version": "1.2.0",
            "_view_name": "LayoutView",
            "align_content": null,
            "align_items": null,
            "align_self": null,
            "border": null,
            "bottom": null,
            "display": null,
            "flex": null,
            "flex_flow": null,
            "grid_area": null,
            "grid_auto_columns": null,
            "grid_auto_flow": null,
            "grid_auto_rows": null,
            "grid_column": null,
            "grid_gap": null,
            "grid_row": null,
            "grid_template_areas": null,
            "grid_template_columns": null,
            "grid_template_rows": null,
            "height": null,
            "justify_content": null,
            "justify_items": null,
            "left": null,
            "margin": null,
            "max_height": null,
            "max_width": null,
            "min_height": null,
            "min_width": null,
            "object_fit": null,
            "object_position": null,
            "order": null,
            "overflow": null,
            "overflow_x": null,
            "overflow_y": null,
            "padding": null,
            "right": null,
            "top": null,
            "visibility": null,
            "width": null
          }
        },
        "4980d19561584f49b2575076ac214079": {
          "model_module": "@jupyter-widgets/controls",
          "model_name": "ProgressStyleModel",
          "state": {
            "_model_module": "@jupyter-widgets/controls",
            "_model_module_version": "1.5.0",
            "_model_name": "ProgressStyleModel",
            "_view_count": null,
            "_view_module": "@jupyter-widgets/base",
            "_view_module_version": "1.2.0",
            "_view_name": "StyleView",
            "bar_color": null,
            "description_width": "initial"
          }
        },
        "82a184f6222c480a88d5c321a9e5c686": {
          "model_module": "@jupyter-widgets/base",
          "model_name": "LayoutModel",
          "state": {
            "_model_module": "@jupyter-widgets/base",
            "_model_module_version": "1.2.0",
            "_model_name": "LayoutModel",
            "_view_count": null,
            "_view_module": "@jupyter-widgets/base",
            "_view_module_version": "1.2.0",
            "_view_name": "LayoutView",
            "align_content": null,
            "align_items": null,
            "align_self": null,
            "border": null,
            "bottom": null,
            "display": null,
            "flex": null,
            "flex_flow": null,
            "grid_area": null,
            "grid_auto_columns": null,
            "grid_auto_flow": null,
            "grid_auto_rows": null,
            "grid_column": null,
            "grid_gap": null,
            "grid_row": null,
            "grid_template_areas": null,
            "grid_template_columns": null,
            "grid_template_rows": null,
            "height": null,
            "justify_content": null,
            "justify_items": null,
            "left": null,
            "margin": null,
            "max_height": null,
            "max_width": null,
            "min_height": null,
            "min_width": null,
            "object_fit": null,
            "object_position": null,
            "order": null,
            "overflow": null,
            "overflow_x": null,
            "overflow_y": null,
            "padding": null,
            "right": null,
            "top": null,
            "visibility": null,
            "width": null
          }
        },
        "7f187f02e68144b8ad714572bd02788c": {
          "model_module": "@jupyter-widgets/controls",
          "model_name": "DescriptionStyleModel",
          "state": {
            "_model_module": "@jupyter-widgets/controls",
            "_model_module_version": "1.5.0",
            "_model_name": "DescriptionStyleModel",
            "_view_count": null,
            "_view_module": "@jupyter-widgets/base",
            "_view_module_version": "1.2.0",
            "_view_name": "StyleView",
            "description_width": ""
          }
        }
      }
    }
  },
  "cells": [
    {
      "cell_type": "markdown",
      "metadata": {
        "id": "view-in-github",
        "colab_type": "text"
      },
      "source": [
        "<a href=\"https://colab.research.google.com/github/AxelAllen/Pre-trained-Multimodal-Text-Image-Classifier-in-a-Sparse-Data-Application/blob/master/run_bert_text_only.ipynb\" target=\"_parent\"><img src=\"https://colab.research.google.com/assets/colab-badge.svg\" alt=\"Open In Colab\"/></a>"
      ]
    },
    {
      "cell_type": "markdown",
      "metadata": {
        "id": "CbEER_DL5uu1"
      },
      "source": [
        "# Run Text-Only Experiments\n",
        "\n",
        "This notebook shows the end-to-end pipeline to fine-tune pre-trained BERT model for text classification on our dataset.\n",
        "\n",
        "Parts of this pipeline are adapted from [McCormick's and Ryan's Tutorial on BERT Fine-Tuning](http://mccormickml.com/2019/07/22/BERT-fine-tuning/) and the\n",
        "Huggingface `run_mmimdb.py` script to execute the MMBT model. This code can\n",
        "be accessed [here.](https://github.com/huggingface/transformers/blob/8ea412a86faa8e9edeeb6b5c46b08def06aa03ea/examples/research_projects/mm-imdb/run_mmimdb.py#L305)"
      ]
    },
    {
      "cell_type": "markdown",
      "metadata": {
        "id": "zxeWeqpC5-CO"
      },
      "source": [
        "## Skip unless on Google Colab\n"
      ]
    },
    {
      "cell_type": "code",
      "metadata": {
        "colab": {
          "base_uri": "https://localhost:8080/"
        },
        "id": "gbcc0iwU2Z9n",
        "outputId": "3867d62b-1dbb-45d3-ec24-219fe3f5fcb4"
      },
      "source": [
        "from google.colab import drive\n",
        "drive.mount('/content/drive')"
      ],
      "execution_count": null,
      "outputs": [
        {
          "output_type": "stream",
          "text": [
            "Mounted at /content/drive\n"
          ],
          "name": "stdout"
        }
      ]
    },
    {
      "cell_type": "code",
      "metadata": {
        "colab": {
          "base_uri": "https://localhost:8080/",
          "height": 35
        },
        "id": "wAwUUimTyz58",
        "outputId": "8f68542d-78b3-43cf-ad09-9d93c5038b4c"
      },
      "source": [
        "%pwd"
      ],
      "execution_count": null,
      "outputs": [
        {
          "output_type": "execute_result",
          "data": {
            "application/vnd.google.colaboratory.intrinsic+json": {
              "type": "string"
            },
            "text/plain": [
              "'/content'"
            ]
          },
          "metadata": {
            "tags": []
          },
          "execution_count": 2
        }
      ]
    },
    {
      "cell_type": "markdown",
      "metadata": {
        "id": "Kuai6mBTTCaK"
      },
      "source": [
        "### Working Directory\n",
        "The notebook needs to be executed from the parent directory of the project, i.e. the `LAP` folder, which contains the notebooks, the data/, MMBT/, runs/, etc. directories.\n",
        "\n",
        "Change the cell below to reflace the correct path to the `LAP` folder in your drive."
      ]
    },
    {
      "cell_type": "code",
      "metadata": {
        "colab": {
          "base_uri": "https://localhost:8080/",
          "height": 52
        },
        "id": "kARAPI3_y9u7",
        "outputId": "ab6d0b91-a03e-424b-ffdb-e99ff5dbb618"
      },
      "source": [
        "%cd /content/drive/MyDrive/LAP\n",
        "%pwd"
      ],
      "execution_count": null,
      "outputs": [
        {
          "output_type": "stream",
          "text": [
            "/content/drive/MyDrive/LAP\n"
          ],
          "name": "stdout"
        },
        {
          "output_type": "execute_result",
          "data": {
            "application/vnd.google.colaboratory.intrinsic+json": {
              "type": "string"
            },
            "text/plain": [
              "'/content/drive/MyDrive/LAP'"
            ]
          },
          "metadata": {
            "tags": []
          },
          "execution_count": 3
        }
      ]
    },
    {
      "cell_type": "markdown",
      "metadata": {
        "id": "A2QTP-Y3Ttn1"
      },
      "source": [
        "### Checking Directory\n",
        "If you're in the correct directory, the command in the cell below should show the notebooks, MMBT/, data/, runs/, integrated_gradients/ directories. If you're not getting this outputk, you are not in the correct directory to run the subsequent cells in this notebook."
      ]
    },
    {
      "cell_type": "code",
      "metadata": {
        "colab": {
          "base_uri": "https://localhost:8080/"
        },
        "id": "XZbCJ9LdYG8R",
        "outputId": "9b4e5301-9c62-43ba-8dc0-5e582f0980c1"
      },
      "source": [
        "%ls"
      ],
      "execution_count": null,
      "outputs": [
        {
          "output_type": "stream",
          "text": [
            "\u001b[0m\u001b[01;34m10epochs_text_only_major_findings\u001b[0m/  \u001b[01;34mmulti_text_only_major_impression\u001b[0m/\n",
            "\u001b[01;34m4epochs_text_only_findings\u001b[0m/         \u001b[01;34m__pycache__\u001b[0m/\n",
            "\u001b[01;34m4epochs_text_only_major_findings\u001b[0m/   \u001b[01;34mresults\u001b[0m/\n",
            "baseline_experiments_results.ipynb  run_bert_text_only.ipynb\n",
            "\u001b[01;34mdata\u001b[0m/                               run_mmbt.ipynb\n",
            "image_submodel.ipynb                \u001b[01;34mruns\u001b[0m/\n",
            "\u001b[01;34mintegrated_gradients\u001b[0m/               textBert_utils.py\n",
            "\u001b[01;34mMMBT\u001b[0m/                               \u001b[01;34mtext_only_experiment_logs_results\u001b[0m/\n",
            "\u001b[01;34mmmbt_experiment_logs_results\u001b[0m/       \u001b[01;34mwandb\u001b[0m/\n",
            "\u001b[01;34mmulti_text_only_major_findings\u001b[0m/\n"
          ],
          "name": "stdout"
        }
      ]
    },
    {
      "cell_type": "markdown",
      "metadata": {
        "id": "HUHI4kEs6Dyi"
      },
      "source": [
        "## Check GPU is Available"
      ]
    },
    {
      "cell_type": "code",
      "metadata": {
        "colab": {
          "base_uri": "https://localhost:8080/"
        },
        "id": "3_3rHDZCzCTD",
        "outputId": "57db8ba5-e222-4758-b531-be1434289116"
      },
      "source": [
        "import torch\n",
        "\n",
        "# If there's a GPU available...\n",
        "if torch.cuda.is_available():    \n",
        "\n",
        "    # Tell PyTorch to use the GPU.    \n",
        "    device = torch.device(\"cuda\")\n",
        "\n",
        "    print('There are %d GPU(s) available.' % torch.cuda.device_count())\n",
        "\n",
        "    print('We will use the GPU:', torch.cuda.get_device_name(0))\n",
        "\n",
        "# If not...\n",
        "else:\n",
        "    print('No GPU available, using the CPU instead.')\n",
        "    device = torch.device(\"cpu\")"
      ],
      "execution_count": null,
      "outputs": [
        {
          "output_type": "stream",
          "text": [
            "There are 1 GPU(s) available.\n",
            "We will use the GPU: Tesla T4\n"
          ],
          "name": "stdout"
        }
      ]
    },
    {
      "cell_type": "markdown",
      "metadata": {
        "id": "A4_WNIuW6KjT"
      },
      "source": [
        "## Install Huggingface Trnasformers and WandB modules\n",
        "\n",
        "These should have been installed during your environment set-up; you only need to run these cells in Google Colab."
      ]
    },
    {
      "cell_type": "code",
      "metadata": {
        "colab": {
          "base_uri": "https://localhost:8080/"
        },
        "id": "5x-N8RUNzoDC",
        "outputId": "a021e1a7-13aa-4906-88f2-7d89d314b571"
      },
      "source": [
        "!pip install transformers"
      ],
      "execution_count": null,
      "outputs": [
        {
          "output_type": "stream",
          "text": [
            "Collecting transformers\n",
            "\u001b[?25l  Downloading https://files.pythonhosted.org/packages/2c/d8/5144b0712f7f82229a8da5983a8fbb8d30cec5fbd5f8d12ffe1854dcea67/transformers-4.4.1-py3-none-any.whl (2.1MB)\n",
            "\u001b[K     |████████████████████████████████| 2.1MB 16.0MB/s \n",
            "\u001b[?25hRequirement already satisfied: importlib-metadata; python_version < \"3.8\" in /usr/local/lib/python3.7/dist-packages (from transformers) (3.7.2)\n",
            "Collecting sacremoses\n",
            "\u001b[?25l  Downloading https://files.pythonhosted.org/packages/7d/34/09d19aff26edcc8eb2a01bed8e98f13a1537005d31e95233fd48216eed10/sacremoses-0.0.43.tar.gz (883kB)\n",
            "\u001b[K     |████████████████████████████████| 890kB 49.7MB/s \n",
            "\u001b[?25hRequirement already satisfied: numpy>=1.17 in /usr/local/lib/python3.7/dist-packages (from transformers) (1.19.5)\n",
            "Collecting tokenizers<0.11,>=0.10.1\n",
            "\u001b[?25l  Downloading https://files.pythonhosted.org/packages/71/23/2ddc317b2121117bf34dd00f5b0de194158f2a44ee2bf5e47c7166878a97/tokenizers-0.10.1-cp37-cp37m-manylinux2010_x86_64.whl (3.2MB)\n",
            "\u001b[K     |████████████████████████████████| 3.2MB 52.1MB/s \n",
            "\u001b[?25hRequirement already satisfied: requests in /usr/local/lib/python3.7/dist-packages (from transformers) (2.23.0)\n",
            "Requirement already satisfied: filelock in /usr/local/lib/python3.7/dist-packages (from transformers) (3.0.12)\n",
            "Requirement already satisfied: packaging in /usr/local/lib/python3.7/dist-packages (from transformers) (20.9)\n",
            "Requirement already satisfied: tqdm>=4.27 in /usr/local/lib/python3.7/dist-packages (from transformers) (4.41.1)\n",
            "Requirement already satisfied: regex!=2019.12.17 in /usr/local/lib/python3.7/dist-packages (from transformers) (2019.12.20)\n",
            "Requirement already satisfied: zipp>=0.5 in /usr/local/lib/python3.7/dist-packages (from importlib-metadata; python_version < \"3.8\"->transformers) (3.4.1)\n",
            "Requirement already satisfied: typing-extensions>=3.6.4; python_version < \"3.8\" in /usr/local/lib/python3.7/dist-packages (from importlib-metadata; python_version < \"3.8\"->transformers) (3.7.4.3)\n",
            "Requirement already satisfied: six in /usr/local/lib/python3.7/dist-packages (from sacremoses->transformers) (1.15.0)\n",
            "Requirement already satisfied: click in /usr/local/lib/python3.7/dist-packages (from sacremoses->transformers) (7.1.2)\n",
            "Requirement already satisfied: joblib in /usr/local/lib/python3.7/dist-packages (from sacremoses->transformers) (1.0.1)\n",
            "Requirement already satisfied: idna<3,>=2.5 in /usr/local/lib/python3.7/dist-packages (from requests->transformers) (2.10)\n",
            "Requirement already satisfied: certifi>=2017.4.17 in /usr/local/lib/python3.7/dist-packages (from requests->transformers) (2020.12.5)\n",
            "Requirement already satisfied: chardet<4,>=3.0.2 in /usr/local/lib/python3.7/dist-packages (from requests->transformers) (3.0.4)\n",
            "Requirement already satisfied: urllib3!=1.25.0,!=1.25.1,<1.26,>=1.21.1 in /usr/local/lib/python3.7/dist-packages (from requests->transformers) (1.24.3)\n",
            "Requirement already satisfied: pyparsing>=2.0.2 in /usr/local/lib/python3.7/dist-packages (from packaging->transformers) (2.4.7)\n",
            "Building wheels for collected packages: sacremoses\n",
            "  Building wheel for sacremoses (setup.py) ... \u001b[?25l\u001b[?25hdone\n",
            "  Created wheel for sacremoses: filename=sacremoses-0.0.43-cp37-none-any.whl size=893262 sha256=07eec15f9c68d6fe936f5eb735d66d236dce21e83ece8a561c2fda2eba73cd4e\n",
            "  Stored in directory: /root/.cache/pip/wheels/29/3c/fd/7ce5c3f0666dab31a50123635e6fb5e19ceb42ce38d4e58f45\n",
            "Successfully built sacremoses\n",
            "Installing collected packages: sacremoses, tokenizers, transformers\n",
            "Successfully installed sacremoses-0.0.43 tokenizers-0.10.1 transformers-4.4.1\n"
          ],
          "name": "stdout"
        }
      ]
    },
    {
      "cell_type": "code",
      "metadata": {
        "colab": {
          "base_uri": "https://localhost:8080/"
        },
        "id": "wGCIhVcxaCis",
        "outputId": "4725e122-2133-4f8e-c8ab-e13a407a9ec4"
      },
      "source": [
        "%pip install wandb"
      ],
      "execution_count": null,
      "outputs": [
        {
          "output_type": "stream",
          "text": [
            "Collecting wandb\n",
            "\u001b[?25l  Downloading https://files.pythonhosted.org/packages/33/ae/79374d2b875e638090600eaa2a423479865b7590c53fb78e8ccf6a64acb1/wandb-0.10.22-py2.py3-none-any.whl (2.0MB)\n",
            "\u001b[K     |████████████████████████████████| 2.0MB 14.8MB/s \n",
            "\u001b[?25hRequirement already satisfied: promise<3,>=2.0 in /usr/local/lib/python3.7/dist-packages (from wandb) (2.3)\n",
            "Requirement already satisfied: protobuf>=3.12.0 in /usr/local/lib/python3.7/dist-packages (from wandb) (3.12.4)\n",
            "Requirement already satisfied: six>=1.13.0 in /usr/local/lib/python3.7/dist-packages (from wandb) (1.15.0)\n",
            "Collecting shortuuid>=0.5.0\n",
            "  Downloading https://files.pythonhosted.org/packages/25/a6/2ecc1daa6a304e7f1b216f0896b26156b78e7c38e1211e9b798b4716c53d/shortuuid-1.0.1-py3-none-any.whl\n",
            "Requirement already satisfied: psutil>=5.0.0 in /usr/local/lib/python3.7/dist-packages (from wandb) (5.4.8)\n",
            "Collecting docker-pycreds>=0.4.0\n",
            "  Downloading https://files.pythonhosted.org/packages/f5/e8/f6bd1eee09314e7e6dee49cbe2c5e22314ccdb38db16c9fc72d2fa80d054/docker_pycreds-0.4.0-py2.py3-none-any.whl\n",
            "Requirement already satisfied: PyYAML in /usr/local/lib/python3.7/dist-packages (from wandb) (3.13)\n",
            "Collecting subprocess32>=3.5.3\n",
            "\u001b[?25l  Downloading https://files.pythonhosted.org/packages/32/c8/564be4d12629b912ea431f1a50eb8b3b9d00f1a0b1ceff17f266be190007/subprocess32-3.5.4.tar.gz (97kB)\n",
            "\u001b[K     |████████████████████████████████| 102kB 13.6MB/s \n",
            "\u001b[?25hCollecting sentry-sdk>=0.4.0\n",
            "\u001b[?25l  Downloading https://files.pythonhosted.org/packages/f3/92/5a33be64990ba815364a8f2dd9e6f51de60d23dfddafb4f1fc5577d4dc64/sentry_sdk-1.0.0-py2.py3-none-any.whl (131kB)\n",
            "\u001b[K     |████████████████████████████████| 133kB 57.6MB/s \n",
            "\u001b[?25hCollecting configparser>=3.8.1\n",
            "  Downloading https://files.pythonhosted.org/packages/fd/01/ff260a18caaf4457eb028c96eeb405c4a230ca06c8ec9c1379f813caa52e/configparser-5.0.2-py3-none-any.whl\n",
            "Collecting pathtools\n",
            "  Downloading https://files.pythonhosted.org/packages/e7/7f/470d6fcdf23f9f3518f6b0b76be9df16dcc8630ad409947f8be2eb0ed13a/pathtools-0.1.2.tar.gz\n",
            "Requirement already satisfied: requests<3,>=2.0.0 in /usr/local/lib/python3.7/dist-packages (from wandb) (2.23.0)\n",
            "Requirement already satisfied: python-dateutil>=2.6.1 in /usr/local/lib/python3.7/dist-packages (from wandb) (2.8.1)\n",
            "Collecting GitPython>=1.0.0\n",
            "\u001b[?25l  Downloading https://files.pythonhosted.org/packages/a6/99/98019716955ba243657daedd1de8f3a88ca1f5b75057c38e959db22fb87b/GitPython-3.1.14-py3-none-any.whl (159kB)\n",
            "\u001b[K     |████████████████████████████████| 163kB 46.9MB/s \n",
            "\u001b[?25hRequirement already satisfied: Click>=7.0 in /usr/local/lib/python3.7/dist-packages (from wandb) (7.1.2)\n",
            "Requirement already satisfied: setuptools in /usr/local/lib/python3.7/dist-packages (from protobuf>=3.12.0->wandb) (54.0.0)\n",
            "Requirement already satisfied: certifi in /usr/local/lib/python3.7/dist-packages (from sentry-sdk>=0.4.0->wandb) (2020.12.5)\n",
            "Requirement already satisfied: urllib3>=1.10.0 in /usr/local/lib/python3.7/dist-packages (from sentry-sdk>=0.4.0->wandb) (1.24.3)\n",
            "Requirement already satisfied: idna<3,>=2.5 in /usr/local/lib/python3.7/dist-packages (from requests<3,>=2.0.0->wandb) (2.10)\n",
            "Requirement already satisfied: chardet<4,>=3.0.2 in /usr/local/lib/python3.7/dist-packages (from requests<3,>=2.0.0->wandb) (3.0.4)\n",
            "Collecting gitdb<5,>=4.0.1\n",
            "\u001b[?25l  Downloading https://files.pythonhosted.org/packages/48/11/d1800bca0a3bae820b84b7d813ad1eff15a48a64caea9c823fc8c1b119e8/gitdb-4.0.5-py3-none-any.whl (63kB)\n",
            "\u001b[K     |████████████████████████████████| 71kB 11.1MB/s \n",
            "\u001b[?25hCollecting smmap<4,>=3.0.1\n",
            "  Downloading https://files.pythonhosted.org/packages/d5/1e/6130925131f639b2acde0f7f18b73e33ce082ff2d90783c436b52040af5a/smmap-3.0.5-py2.py3-none-any.whl\n",
            "Building wheels for collected packages: subprocess32, pathtools\n",
            "  Building wheel for subprocess32 (setup.py) ... \u001b[?25l\u001b[?25hdone\n",
            "  Created wheel for subprocess32: filename=subprocess32-3.5.4-cp37-none-any.whl size=6489 sha256=8dc4b5a2c7dc391274e7bba3fdd36d13d1c06f2f25d3578b6eeb2f9ac309e5e9\n",
            "  Stored in directory: /root/.cache/pip/wheels/68/39/1a/5e402bdfdf004af1786c8b853fd92f8c4a04f22aad179654d1\n",
            "  Building wheel for pathtools (setup.py) ... \u001b[?25l\u001b[?25hdone\n",
            "  Created wheel for pathtools: filename=pathtools-0.1.2-cp37-none-any.whl size=8786 sha256=04479852a85eff8e5eb5ca47901d5e3940b8fc3d6cc8374e866416ded3e1b299\n",
            "  Stored in directory: /root/.cache/pip/wheels/0b/04/79/c3b0c3a0266a3cb4376da31e5bfe8bba0c489246968a68e843\n",
            "Successfully built subprocess32 pathtools\n",
            "Installing collected packages: shortuuid, docker-pycreds, subprocess32, sentry-sdk, configparser, pathtools, smmap, gitdb, GitPython, wandb\n",
            "Successfully installed GitPython-3.1.14 configparser-5.0.2 docker-pycreds-0.4.0 gitdb-4.0.5 pathtools-0.1.2 sentry-sdk-1.0.0 shortuuid-1.0.1 smmap-3.0.5 subprocess32-3.5.4 wandb-0.10.22\n"
          ],
          "name": "stdout"
        }
      ]
    },
    {
      "cell_type": "markdown",
      "metadata": {
        "id": "xV0Y4fNaOsew"
      },
      "source": [
        "## Import Required Modules"
      ]
    },
    {
      "cell_type": "code",
      "metadata": {
        "id": "2TvcJ0KYOsew"
      },
      "source": [
        "from textBert_utils import (\n",
        "    get_train_val_test_data, \n",
        "    tokenize_and_encode_data, \n",
        "    make_tensor_dataset, \n",
        "    make_dataloader, \n",
        "    set_seed, \n",
        "    get_label_frequencies, \n",
        "    get_multiclass_criterion\n",
        ")"
      ],
      "execution_count": null,
      "outputs": []
    },
    {
      "cell_type": "code",
      "metadata": {
        "id": "qKv4TCojQ7uI"
      },
      "source": [
        "from MMBT.mmbt_utils import get_multiclass_labels, get_labels"
      ],
      "execution_count": null,
      "outputs": []
    },
    {
      "cell_type": "code",
      "metadata": {
        "id": "nljiGS-pTTKI"
      },
      "source": [
        "import textBert_utils"
      ],
      "execution_count": null,
      "outputs": []
    },
    {
      "cell_type": "code",
      "metadata": {
        "id": "B8t3xllQn1Qi"
      },
      "source": [
        "import argparse \n",
        "import pandas as pd\n",
        "import os\n",
        "import wandb\n",
        "import glob\n",
        "import numpy as np"
      ],
      "execution_count": null,
      "outputs": []
    },
    {
      "cell_type": "code",
      "metadata": {
        "id": "8vvRk6_BOsex"
      },
      "source": [
        "import logging\n",
        "import json"
      ],
      "execution_count": null,
      "outputs": []
    },
    {
      "cell_type": "code",
      "metadata": {
        "id": "3AHC-9ZjQjCT"
      },
      "source": [
        "from transformers import (\n",
        "    WEIGHTS_NAME,\n",
        "    AutoConfig,\n",
        "    AutoModelForSequenceClassification,\n",
        "    AutoTokenizer,\n",
        ")"
      ],
      "execution_count": null,
      "outputs": []
    },
    {
      "cell_type": "markdown",
      "metadata": {
        "id": "z_AbRMeB69ym"
      },
      "source": [
        "# Set-up Experiment Hyperparameters and Arguments\n",
        "\n",
        "Specify the training, validation, and test files to run the experiment on. The default here is running the model on both 'findings' and 'impression' texts.  \n",
        "\n",
        "To re-make the training, validation, and test data, please refer to the information in the **data/** directory.  \n",
        "\n",
        "Change the default values in the parser.add_argument function for the hyperparameters that you want to specify in the following cell or use the default option.  \n",
        "\n",
        "For multiple experiment runs, please make sure to change the `output_dir` argument so that new results don't overwrit existing ones."
      ]
    },
    {
      "cell_type": "code",
      "metadata": {
        "id": "6p2ZlSYbh4BK"
      },
      "source": [
        "#train_file = \"image_labels_impression_frontal_train.csv\"\n",
        "#val_file = \"image_labels_impression_frontal_val.csv\"\n",
        "#test_file = \"image_labels_impression_frontal_test.csv\"\n",
        "\n",
        "#train_file = \"image_multi_labels_major_findings_frontal_train.csv\"\n",
        "#val_file = \"image_multi_labels_major_findings_frontal_val.csv\"\n",
        "#test_file = \"image_multi_labels_major_findings_frontal_test.csv\"\n",
        "\n",
        "\n",
        "#train_file = \"image_labels_major_findings_frontal_train.csv\"\n",
        "#val_file = \"image_labels_major_findings_frontal_val.csv\"\n",
        "#test_file = \"image_labels_major_findings_frontal_test.csv\"\n",
        "\n",
        "\n",
        "train_file = \"image_labels_findings_frontal_train.csv\"\n",
        "val_file = \"image_labels_findings_frontal_val.csv\"\n",
        "test_file = \"image_labels_findings_frontal_test.csv\""
      ],
      "execution_count": null,
      "outputs": []
    },
    {
      "cell_type": "code",
      "metadata": {
        "id": "QvzzL8Vuovw_"
      },
      "source": [
        "parser = argparse.ArgumentParser(f'Project Hyperparameters and Other Configurations Argument Parser')"
      ],
      "execution_count": null,
      "outputs": []
    },
    {
      "cell_type": "code",
      "metadata": {
        "id": "ibpA7E14oiZE"
      },
      "source": [
        "parser = argparse.ArgumentParser()\n",
        "\n",
        "# Required parameters\n",
        "parser.add_argument(\n",
        "    \"--data_dir\",\n",
        "    default=\"data/csv\",\n",
        "    type=str,\n",
        "    help=\"The input data dir. Should contain the .jsonl files.\",\n",
        ")\n",
        "parser.add_argument(\n",
        "    \"--model_name\",\n",
        "    default=\"bert-base-uncased\",\n",
        "    type=str,\n",
        "    help=\"model identifier from huggingface.co/models\",\n",
        ")\n",
        "parser.add_argument(\n",
        "    \"--output_dir\",\n",
        "    default=\"10epochs_text_only_findings\",\n",
        "    type=str,\n",
        "    help=\"The output directory where the model predictions and checkpoints will be written.\",\n",
        ")\n",
        "\n",
        "    \n",
        "parser.add_argument(\n",
        "    \"--config_name\", default=\"bert-base-uncased\", type=str, help=\"Pretrained config name if not the same as model_name\"\n",
        ")\n",
        "parser.add_argument(\n",
        "    \"--tokenizer_name\",\n",
        "    default=\"bert-base-uncased\",\n",
        "    type=str,\n",
        "    help=\"Pretrained tokenizer name or path if not the same as model_name\",\n",
        ")\n",
        "\n",
        "parser.add_argument(\"--train_batch_size\", default=32, type=int, help=\"Batch size for training.\")\n",
        "parser.add_argument(\n",
        "    \"--eval_batch_size\", default=32, type=int, help=\"Batch size for evaluation.\"\n",
        ")\n",
        "parser.add_argument(\n",
        "    \"--max_seq_length\",\n",
        "    default=300,\n",
        "    type=int,\n",
        "    help=\"The maximum total input sequence length after tokenization. Sequences longer \"\n",
        "    \"than this will be truncated, sequences shorter will be padded.\",\n",
        ")\n",
        "parser.add_argument(\n",
        "    \"--num_image_embeds\", default=3, type=int, help=\"Number of Image Embeddings from the Image Encoder\"\n",
        ")\n",
        "parser.add_argument(\"--do_train\", default=True, type=bool, help=\"Whether to run training.\")\n",
        "parser.add_argument(\"--do_eval\", default=True, type=bool, help=\"Whether to run eval on the dev set.\")\n",
        "parser.add_argument(\n",
        "    \"--evaluate_during_training\", default=True, type=bool, help=\"Rul evaluation during training at each logging step.\"\n",
        ")\n",
        "\n",
        "\n",
        "parser.add_argument(\n",
        "    \"--gradient_accumulation_steps\",\n",
        "    type=int,\n",
        "    default=1,\n",
        "    help=\"Number of updates steps to accumulate before performing a backward/update pass.\",\n",
        ")\n",
        "parser.add_argument(\"--learning_rate\", default=5e-5, type=float, help=\"The initial learning rate for Adam.\")\n",
        "parser.add_argument(\"--weight_decay\", default=0.1, type=float, help=\"Weight deay if we apply some.\")\n",
        "parser.add_argument(\"--adam_epsilon\", default=1e-8, type=float, help=\"Epsilon for Adam optimizer.\")\n",
        "parser.add_argument(\"--max_grad_norm\", default=1.0, type=float, help=\"Max gradient norm.\")\n",
        "parser.add_argument(\n",
        "    \"--num_train_epochs\", default=10.0, type=float, help=\"Total number of training epochs to perform.\"\n",
        ")\n",
        "parser.add_argument(\"--patience\", default=5, type=int, help=\"Patience for Early Stopping.\")\n",
        "parser.add_argument(\n",
        "    \"--max_steps\",\n",
        "    default=-1,\n",
        "    type=int,\n",
        "    help=\"If > 0: set total number of training steps to perform. Override num_train_epochs.\",\n",
        ")\n",
        "parser.add_argument(\"--warmup_steps\", default=0, type=int, help=\"Linear warmup over warmup_steps.\")\n",
        "\n",
        "parser.add_argument(\"--logging_steps\", type=int, default=25, help=\"Log every X updates steps.\")\n",
        "parser.add_argument(\"--save_steps\", type=int, default=25, help=\"Save checkpoint every X updates steps.\")\n",
        "parser.add_argument(\n",
        "    \"--eval_all_checkpoints\",\n",
        "    default=True, type=bool,\n",
        "    help=\"Evaluate all checkpoints starting with the same prefix as model_name ending and ending with step number\",\n",
        ")\n",
        "\n",
        "parser.add_argument(\"--num_workers\", type=int, default=8, help=\"number of worker threads for dataloading\")\n",
        "\n",
        "parser.add_argument(\"--seed\", type=int, default=42, help=\"random seed for initialization\")\n",
        "\n",
        "\n",
        "args = parser.parse_args(\"\")\n",
        "\n",
        "# Setup CUDA, GPU & distributed training\n",
        "device = torch.device(\"cuda\" if torch.cuda.is_available() else \"cpu\")\n",
        "args.n_gpu = torch.cuda.device_count() if torch.cuda.is_available() else 0\n",
        "args.device = device\n",
        "\n",
        "# Setup Train/Val/Test filenames\n",
        "args.train_file = train_file\n",
        "args.val_file = val_file\n",
        "args.test_file = test_file\n",
        "\n",
        "# accomodatae multiclass labeling\n",
        "args.multiclass = False"
      ],
      "execution_count": null,
      "outputs": []
    },
    {
      "cell_type": "markdown",
      "metadata": {
        "id": "BHXt2oRR76zo"
      },
      "source": [
        "### Check that the Args dict contains correct configurations"
      ]
    },
    {
      "cell_type": "code",
      "metadata": {
        "colab": {
          "base_uri": "https://localhost:8080/"
        },
        "id": "MeWSr2B02eY4",
        "outputId": "f0c903a5-1397-45ea-8f1b-41365fbc5bd1"
      },
      "source": [
        "args.__dict__"
      ],
      "execution_count": null,
      "outputs": [
        {
          "output_type": "execute_result",
          "data": {
            "text/plain": [
              "{'adam_epsilon': 1e-08,\n",
              " 'config_name': 'bert-base-uncased',\n",
              " 'data_dir': 'data/csv',\n",
              " 'device': device(type='cuda'),\n",
              " 'do_eval': True,\n",
              " 'do_train': True,\n",
              " 'eval_all_checkpoints': True,\n",
              " 'eval_batch_size': 32,\n",
              " 'evaluate_during_training': True,\n",
              " 'gradient_accumulation_steps': 1,\n",
              " 'learning_rate': 5e-05,\n",
              " 'logging_steps': 25,\n",
              " 'max_grad_norm': 1.0,\n",
              " 'max_seq_length': 300,\n",
              " 'max_steps': -1,\n",
              " 'model_name': 'bert-base-uncased',\n",
              " 'multiclass': False,\n",
              " 'n_gpu': 1,\n",
              " 'num_image_embeds': 3,\n",
              " 'num_train_epochs': 10.0,\n",
              " 'num_workers': 8,\n",
              " 'output_dir': '10epochs_text_only_findings',\n",
              " 'patience': 5,\n",
              " 'save_steps': 25,\n",
              " 'seed': 42,\n",
              " 'test_file': 'image_labels_findings_frontal_test.csv',\n",
              " 'tokenizer_name': 'bert-base-uncased',\n",
              " 'train_batch_size': 32,\n",
              " 'train_file': 'image_labels_findings_frontal_train.csv',\n",
              " 'val_file': 'image_labels_findings_frontal_val.csv',\n",
              " 'warmup_steps': 0,\n",
              " 'weight_decay': 0.1}"
            ]
          },
          "metadata": {
            "tags": []
          },
          "execution_count": 17
        }
      ]
    },
    {
      "cell_type": "markdown",
      "metadata": {
        "id": "PUe1Aej96lbJ"
      },
      "source": [
        "## Set-up WandB\n",
        "\n",
        "We are setting up our code to run more experiments later and would be tracking them in the WandB API. You need to sign up for an account first to continue."
      ]
    },
    {
      "cell_type": "code",
      "metadata": {
        "colab": {
          "base_uri": "https://localhost:8080/",
          "height": 68
        },
        "id": "cwIuONkRcLsF",
        "outputId": "5cbc38ac-73ab-4251-a93e-0a17ef4a04e9"
      },
      "source": [
        "wandb.login()"
      ],
      "execution_count": null,
      "outputs": [
        {
          "output_type": "display_data",
          "data": {
            "application/javascript": [
              "\n",
              "        window._wandbApiKey = new Promise((resolve, reject) => {\n",
              "            function loadScript(url) {\n",
              "            return new Promise(function(resolve, reject) {\n",
              "                let newScript = document.createElement(\"script\");\n",
              "                newScript.onerror = reject;\n",
              "                newScript.onload = resolve;\n",
              "                document.body.appendChild(newScript);\n",
              "                newScript.src = url;\n",
              "            });\n",
              "            }\n",
              "            loadScript(\"https://cdn.jsdelivr.net/npm/postmate/build/postmate.min.js\").then(() => {\n",
              "            const iframe = document.createElement('iframe')\n",
              "            iframe.style.cssText = \"width:0;height:0;border:none\"\n",
              "            document.body.appendChild(iframe)\n",
              "            const handshake = new Postmate({\n",
              "                container: iframe,\n",
              "                url: 'https://wandb.ai/authorize'\n",
              "            });\n",
              "            const timeout = setTimeout(() => reject(\"Couldn't auto authenticate\"), 5000)\n",
              "            handshake.then(function(child) {\n",
              "                child.on('authorize', data => {\n",
              "                    clearTimeout(timeout)\n",
              "                    resolve(data)\n",
              "                });\n",
              "            });\n",
              "            })\n",
              "        });\n",
              "    "
            ],
            "text/plain": [
              "<IPython.core.display.Javascript object>"
            ]
          },
          "metadata": {
            "tags": []
          }
        },
        {
          "output_type": "stream",
          "text": [
            "\u001b[34m\u001b[1mwandb\u001b[0m: Appending key for api.wandb.ai to your netrc file: /root/.netrc\n"
          ],
          "name": "stderr"
        },
        {
          "output_type": "execute_result",
          "data": {
            "text/plain": [
              "True"
            ]
          },
          "metadata": {
            "tags": []
          },
          "execution_count": 18
        }
      ]
    },
    {
      "cell_type": "code",
      "metadata": {
        "colab": {
          "base_uri": "https://localhost:8080/",
          "height": 136
        },
        "id": "G82FnR5vtAbS",
        "outputId": "ff5edba6-973c-4cec-a984-e3ec997154a8"
      },
      "source": [
        "wandb.init(name=\"Train_Findings_Texts_10\", tags=['Findings', 'frontal'], project=\"Text_Only\", notes=\"10 epochs 256 size and 32 batch\", config=args.__dict__)\n",
        "run_name = wandb.run.name\n",
        "wandb_config = wandb.config"
      ],
      "execution_count": null,
      "outputs": [
        {
          "output_type": "stream",
          "text": [
            "\u001b[34m\u001b[1mwandb\u001b[0m: Currently logged in as: \u001b[33mlap_mmbtws2021\u001b[0m (use `wandb login --relogin` to force relogin)\n"
          ],
          "name": "stderr"
        },
        {
          "output_type": "display_data",
          "data": {
            "text/html": [
              "\n",
              "                Tracking run with wandb version 0.10.22<br/>\n",
              "                Syncing run <strong style=\"color:#cdcd00\">Train_Findings_Texts_10</strong> to <a href=\"https://wandb.ai\" target=\"_blank\">Weights & Biases</a> <a href=\"https://docs.wandb.com/integrations/jupyter.html\" target=\"_blank\">(Documentation)</a>.<br/>\n",
              "                Project page: <a href=\"https://wandb.ai/lap_mmbtws2021/Text_Only\" target=\"_blank\">https://wandb.ai/lap_mmbtws2021/Text_Only</a><br/>\n",
              "                Run page: <a href=\"https://wandb.ai/lap_mmbtws2021/Text_Only/runs/1iyczzol\" target=\"_blank\">https://wandb.ai/lap_mmbtws2021/Text_Only/runs/1iyczzol</a><br/>\n",
              "                Run data is saved locally in <code>/content/drive/My Drive/LAP/wandb/run-20210317_001937-1iyczzol</code><br/><br/>\n",
              "            "
            ],
            "text/plain": [
              "<IPython.core.display.HTML object>"
            ]
          },
          "metadata": {
            "tags": []
          }
        }
      ]
    },
    {
      "cell_type": "markdown",
      "metadata": {
        "id": "n5abmm7V8FyP"
      },
      "source": [
        "## Create Dataset"
      ]
    },
    {
      "cell_type": "code",
      "metadata": {
        "colab": {
          "base_uri": "https://localhost:8080/"
        },
        "id": "L18XRia4z_jc",
        "outputId": "b9cdf667-196c-4891-eaa8-041b474d5788"
      },
      "source": [
        "train, val, test = get_train_val_test_data(wandb_config)"
      ],
      "execution_count": null,
      "outputs": [
        {
          "output_type": "stream",
          "text": [
            "Number of training sentences: 1,707\n",
            "\n",
            "Number of val sentences: 570\n",
            "\n",
            "Number of test sentences: 570\n",
            "\n"
          ],
          "name": "stdout"
        }
      ]
    },
    {
      "cell_type": "code",
      "metadata": {
        "colab": {
          "base_uri": "https://localhost:8080/",
          "height": 204
        },
        "id": "HzKIwM7eCJee",
        "outputId": "0eaa09a5-6da6-432a-d9e0-03061384d44b"
      },
      "source": [
        "train.head()"
      ],
      "execution_count": null,
      "outputs": [
        {
          "output_type": "execute_result",
          "data": {
            "text/html": [
              "<div>\n",
              "<style scoped>\n",
              "    .dataframe tbody tr th:only-of-type {\n",
              "        vertical-align: middle;\n",
              "    }\n",
              "\n",
              "    .dataframe tbody tr th {\n",
              "        vertical-align: top;\n",
              "    }\n",
              "\n",
              "    .dataframe thead th {\n",
              "        text-align: right;\n",
              "    }\n",
              "</style>\n",
              "<table border=\"1\" class=\"dataframe\">\n",
              "  <thead>\n",
              "    <tr style=\"text-align: right;\">\n",
              "      <th></th>\n",
              "      <th>Unnamed: 0</th>\n",
              "      <th>img</th>\n",
              "      <th>label</th>\n",
              "      <th>text</th>\n",
              "    </tr>\n",
              "  </thead>\n",
              "  <tbody>\n",
              "    <tr>\n",
              "      <th>0</th>\n",
              "      <td>2573</td>\n",
              "      <td>CXR2728_IM-1187-1001.png</td>\n",
              "      <td>1</td>\n",
              "      <td>Lungs remain hyperexpanded. No change in the ...</td>\n",
              "    </tr>\n",
              "    <tr>\n",
              "      <th>1</th>\n",
              "      <td>1061</td>\n",
              "      <td>CXR2156_IM-0775-1001.png</td>\n",
              "      <td>0</td>\n",
              "      <td>The heart is normal in size. The pulmonary va...</td>\n",
              "    </tr>\n",
              "    <tr>\n",
              "      <th>2</th>\n",
              "      <td>862</td>\n",
              "      <td>CXR1732_IM-0482-1001.png</td>\n",
              "      <td>0</td>\n",
              "      <td>Cardiac and mediastinal silhouette are unrema...</td>\n",
              "    </tr>\n",
              "    <tr>\n",
              "      <th>3</th>\n",
              "      <td>1581</td>\n",
              "      <td>CXR3265_IM-1551-1001.png</td>\n",
              "      <td>0</td>\n",
              "      <td>The heart size and mediastinal contours appea...</td>\n",
              "    </tr>\n",
              "    <tr>\n",
              "      <th>4</th>\n",
              "      <td>1847</td>\n",
              "      <td>CXR3760_IM-1883-1001.png</td>\n",
              "      <td>0</td>\n",
              "      <td>XXXX sternotomy XXXX remain in XXXX. The card...</td>\n",
              "    </tr>\n",
              "  </tbody>\n",
              "</table>\n",
              "</div>"
            ],
            "text/plain": [
              "   Unnamed: 0  ...                                               text\n",
              "0        2573  ...   Lungs remain hyperexpanded. No change in the ...\n",
              "1        1061  ...   The heart is normal in size. The pulmonary va...\n",
              "2         862  ...   Cardiac and mediastinal silhouette are unrema...\n",
              "3        1581  ...   The heart size and mediastinal contours appea...\n",
              "4        1847  ...   XXXX sternotomy XXXX remain in XXXX. The card...\n",
              "\n",
              "[5 rows x 4 columns]"
            ]
          },
          "metadata": {
            "tags": []
          },
          "execution_count": 21
        }
      ]
    },
    {
      "cell_type": "code",
      "metadata": {
        "colab": {
          "base_uri": "https://localhost:8080/",
          "height": 204
        },
        "id": "_NfnWPR95Apc",
        "outputId": "3b30e9fe-5074-4219-c343-7006a7e846f6"
      },
      "source": [
        "val.head()"
      ],
      "execution_count": null,
      "outputs": [
        {
          "output_type": "execute_result",
          "data": {
            "text/html": [
              "<div>\n",
              "<style scoped>\n",
              "    .dataframe tbody tr th:only-of-type {\n",
              "        vertical-align: middle;\n",
              "    }\n",
              "\n",
              "    .dataframe tbody tr th {\n",
              "        vertical-align: top;\n",
              "    }\n",
              "\n",
              "    .dataframe thead th {\n",
              "        text-align: right;\n",
              "    }\n",
              "</style>\n",
              "<table border=\"1\" class=\"dataframe\">\n",
              "  <thead>\n",
              "    <tr style=\"text-align: right;\">\n",
              "      <th></th>\n",
              "      <th>Unnamed: 0</th>\n",
              "      <th>img</th>\n",
              "      <th>label</th>\n",
              "      <th>text</th>\n",
              "    </tr>\n",
              "  </thead>\n",
              "  <tbody>\n",
              "    <tr>\n",
              "      <th>0</th>\n",
              "      <td>437</td>\n",
              "      <td>CXR857_IM-2378-1001.png</td>\n",
              "      <td>0</td>\n",
              "      <td>The heart size and pulmonary vascularity appe...</td>\n",
              "    </tr>\n",
              "    <tr>\n",
              "      <th>1</th>\n",
              "      <td>1142</td>\n",
              "      <td>CXR2349_IM-0914-1001.png</td>\n",
              "      <td>0</td>\n",
              "      <td>Heart size and vascularity normal. These cont...</td>\n",
              "    </tr>\n",
              "    <tr>\n",
              "      <th>2</th>\n",
              "      <td>1024</td>\n",
              "      <td>CXR2075_IM-0708-1001.png</td>\n",
              "      <td>0</td>\n",
              "      <td>The cardiomediastinal silhouette is normal in...</td>\n",
              "    </tr>\n",
              "    <tr>\n",
              "      <th>3</th>\n",
              "      <td>1454</td>\n",
              "      <td>CXR3020_IM-1395-1001.png</td>\n",
              "      <td>0</td>\n",
              "      <td>Heart size and mediastinal contours are norma...</td>\n",
              "    </tr>\n",
              "    <tr>\n",
              "      <th>4</th>\n",
              "      <td>1759</td>\n",
              "      <td>CXR3583_IM-1762-1001.png</td>\n",
              "      <td>0</td>\n",
              "      <td>The heart, pulmonary XXXX and mediastinum are...</td>\n",
              "    </tr>\n",
              "  </tbody>\n",
              "</table>\n",
              "</div>"
            ],
            "text/plain": [
              "   Unnamed: 0  ...                                               text\n",
              "0         437  ...   The heart size and pulmonary vascularity appe...\n",
              "1        1142  ...   Heart size and vascularity normal. These cont...\n",
              "2        1024  ...   The cardiomediastinal silhouette is normal in...\n",
              "3        1454  ...   Heart size and mediastinal contours are norma...\n",
              "4        1759  ...   The heart, pulmonary XXXX and mediastinum are...\n",
              "\n",
              "[5 rows x 4 columns]"
            ]
          },
          "metadata": {
            "tags": []
          },
          "execution_count": 22
        }
      ]
    },
    {
      "cell_type": "code",
      "metadata": {
        "colab": {
          "base_uri": "https://localhost:8080/",
          "height": 204
        },
        "id": "4dnH95_3VNMw",
        "outputId": "f270c6b5-e3e6-4218-99d7-d6d1a72954e0"
      },
      "source": [
        "test.head()"
      ],
      "execution_count": null,
      "outputs": [
        {
          "output_type": "execute_result",
          "data": {
            "text/html": [
              "<div>\n",
              "<style scoped>\n",
              "    .dataframe tbody tr th:only-of-type {\n",
              "        vertical-align: middle;\n",
              "    }\n",
              "\n",
              "    .dataframe tbody tr th {\n",
              "        vertical-align: top;\n",
              "    }\n",
              "\n",
              "    .dataframe thead th {\n",
              "        text-align: right;\n",
              "    }\n",
              "</style>\n",
              "<table border=\"1\" class=\"dataframe\">\n",
              "  <thead>\n",
              "    <tr style=\"text-align: right;\">\n",
              "      <th></th>\n",
              "      <th>Unnamed: 0</th>\n",
              "      <th>img</th>\n",
              "      <th>label</th>\n",
              "      <th>text</th>\n",
              "    </tr>\n",
              "  </thead>\n",
              "  <tbody>\n",
              "    <tr>\n",
              "      <th>0</th>\n",
              "      <td>1813</td>\n",
              "      <td>CXR3704_IM-1851-1001.png</td>\n",
              "      <td>0</td>\n",
              "      <td>Lungs are clear without focal consolidation, ...</td>\n",
              "    </tr>\n",
              "    <tr>\n",
              "      <th>1</th>\n",
              "      <td>1132</td>\n",
              "      <td>CXR2328_IM-0898-1001.png</td>\n",
              "      <td>0</td>\n",
              "      <td>Heart size is normal. The lungs are clear. Th...</td>\n",
              "    </tr>\n",
              "    <tr>\n",
              "      <th>2</th>\n",
              "      <td>2325</td>\n",
              "      <td>CXR1668_IM-0441-1001.png</td>\n",
              "      <td>1</td>\n",
              "      <td>No pneumothorax, pleural effusion, or focal a...</td>\n",
              "    </tr>\n",
              "    <tr>\n",
              "      <th>3</th>\n",
              "      <td>605</td>\n",
              "      <td>CXR1222_IM-0150-1001.png</td>\n",
              "      <td>0</td>\n",
              "      <td>The heart and lungs have XXXX XXXX in the int...</td>\n",
              "    </tr>\n",
              "    <tr>\n",
              "      <th>4</th>\n",
              "      <td>1073</td>\n",
              "      <td>CXR2198_IM-0808-1001.png</td>\n",
              "      <td>0</td>\n",
              "      <td>Cardiac silhouette, pulmonary vascular patter...</td>\n",
              "    </tr>\n",
              "  </tbody>\n",
              "</table>\n",
              "</div>"
            ],
            "text/plain": [
              "   Unnamed: 0  ...                                               text\n",
              "0        1813  ...   Lungs are clear without focal consolidation, ...\n",
              "1        1132  ...   Heart size is normal. The lungs are clear. Th...\n",
              "2        2325  ...   No pneumothorax, pleural effusion, or focal a...\n",
              "3         605  ...   The heart and lungs have XXXX XXXX in the int...\n",
              "4        1073  ...   Cardiac silhouette, pulmonary vascular patter...\n",
              "\n",
              "[5 rows x 4 columns]"
            ]
          },
          "metadata": {
            "tags": []
          },
          "execution_count": 23
        }
      ]
    },
    {
      "cell_type": "markdown",
      "metadata": {
        "id": "cyx0BCy9_z8u"
      },
      "source": [
        "# sentences and labels"
      ]
    },
    {
      "cell_type": "code",
      "metadata": {
        "id": "xLSXvlOc_zT8"
      },
      "source": [
        "train_sentences = train.text.values\n",
        "train_labels = train.label.values\n",
        "\n",
        "val_sentences = val.text.values\n",
        "val_labels = val.label.values\n",
        "\n",
        "test_sentences = test.text.values\n",
        "test_labels = test.label.values"
      ],
      "execution_count": null,
      "outputs": []
    },
    {
      "cell_type": "code",
      "metadata": {
        "colab": {
          "base_uri": "https://localhost:8080/"
        },
        "id": "bus3yFPvAWHX",
        "outputId": "a25f5168-da97-4c33-9add-357847d68721"
      },
      "source": [
        "train_sentences[:10]"
      ],
      "execution_count": null,
      "outputs": [
        {
          "output_type": "execute_result",
          "data": {
            "text/plain": [
              "array([' Lungs remain hyperexpanded. No change in the right middle lobe opacification. No XXXX infiltrates or masses. Pulmonary arteries are prominent centrally.',\n",
              "       ' The heart is normal in size. The pulmonary vascularity is within normal limits in appearance. No focal air space opacities. No pleural effusions or pneumothorax. No acute bony abnormalities.',\n",
              "       ' Cardiac and mediastinal silhouette are unremarkable. Lungs are clear. No focal consolidation, pneumothorax, or pleural effusion identified. XXXX and soft tissue are unremarkable.',\n",
              "       ' The heart size and mediastinal contours appear within normal limits. No focal airspace consolidation, pleural effusion or pneumothorax. No acute bony abnormalities.',\n",
              "       ' XXXX sternotomy XXXX remain in XXXX. The cardiomediastinal silhouette is within normal limits for appearance. The thoracic aorta is tortuous. No focal areas of pulmonary consolidation. No pneumothorax. No pleural effusion. Moderate degenerative changes of the thoracic spine. No acute, displaced rib fractures identified.',\n",
              "       ' Frontal and lateral views of the chest show an unchanged cardiomediastinal silhouette. The cardiac silhouette remains moderately enlarged, exaggerated by epicardial fat pads. Interstitium is XXXX prominent. No XXXX focal airspace consolidation or pleural effusion. There is XXXX spine spondylosis.',\n",
              "       ' The heart size and pulmonary vascularity appear within normal limits. The lungs are free of focal airspace disease. No pleural effusion or pneumothorax is seen.',\n",
              "       ' The heart size and pulmonary vascularity appear within normal limits. The lungs are free of focal airspace disease. No pleural effusion or pneumothorax is seen.',\n",
              "       ' The cardiomediastinal contours are within normal limits. Pulmonary vasculature is unremarkable. There is no focal airspace opacity. No pleural effusion or pneumothorax is seen. There are mild degenerative changes along the thoracic spine. No acute bony abnormality is identified.',\n",
              "       ' Heart size within normal limits, stable mediastinal and hilar contours. No focal alveolar consolidation, no definite pleural effusion seen. No typical findings of pulmonary edema. No pneumothorax. Mild dextrocurvature of the spine again noted.'],\n",
              "      dtype=object)"
            ]
          },
          "metadata": {
            "tags": []
          },
          "execution_count": 25
        }
      ]
    },
    {
      "cell_type": "code",
      "metadata": {
        "colab": {
          "base_uri": "https://localhost:8080/"
        },
        "id": "w9HUNbeWAb8e",
        "outputId": "4070467a-b4eb-4b0c-9fda-3930c6fc799b"
      },
      "source": [
        "train_labels[:10]"
      ],
      "execution_count": null,
      "outputs": [
        {
          "output_type": "execute_result",
          "data": {
            "text/plain": [
              "array([1, 0, 0, 0, 0, 1, 0, 0, 0, 0])"
            ]
          },
          "metadata": {
            "tags": []
          },
          "execution_count": 26
        }
      ]
    },
    {
      "cell_type": "markdown",
      "metadata": {
        "id": "Pkoi56y3EX4e"
      },
      "source": [
        "# Tokenize and Encode with BERT encoder plus"
      ]
    },
    {
      "cell_type": "markdown",
      "metadata": {
        "id": "8Xe9z2opBU1W"
      },
      "source": [
        "The `tokenizer.encode_plus` function combines multiple steps for us:\n",
        "\n",
        "1. Split the sentence into tokens.\n",
        "2. Add the special `[CLS]` and `[SEP]` tokens.\n",
        "3. Map the tokens to their IDs.\n",
        "4. Pad or truncate all sentences to the same length.\n",
        "5. Create the attention masks which explicitly differentiate real tokens from `[PAD]` tokens.\n",
        "\n",
        "These steps are performed inside the `make_tensor_dataset` function."
      ]
    },
    {
      "cell_type": "markdown",
      "metadata": {
        "id": "49DUwTrmEl43"
      },
      "source": [
        "# Torch dataset and dataloader"
      ]
    },
    {
      "cell_type": "code",
      "metadata": {
        "colab": {
          "base_uri": "https://localhost:8080/",
          "height": 1000,
          "referenced_widgets": [
            "21df3a41cd1949a28631d7ddcc942e2e",
            "802eb53a671f4d248a43728f9dd119d0",
            "f6d53fbe2885490e8e89d0235dbb44b5",
            "d7fdfc9c14774fc69be4ce1240eead6d",
            "8336558f99cc46888da931f428e9e21e",
            "30dd8b34d69b4328949a3674d3154a08",
            "49b6335d39854f608da36d1ca4695a4b",
            "8f142d3230074d31beffe8a560895784",
            "44e5015ef3334ff68537619215d364d6",
            "b3985709728243158c7ffecebb4479f9",
            "bc64104a70e34753b5742c2a0aa7db87",
            "fcb21fdd8f7b437ba3fa8490e170db4e",
            "94bf1bb6efd64bdca02704bff412e711",
            "23a0e6e623b346228d98808c357ca96c",
            "c9c74e48d95d4ece9dfec36ba41ecc2c",
            "4fb3cd6644be41df8386385f8df8866c",
            "b9c65a8eea21427fb56f0f3aa00724fc",
            "c0db84e3bf5f497780453755ee5e0739",
            "3cca2f2eea4b4977b4bab18f9622689b",
            "e312cd9e79cb4e2784729685fc0fce20",
            "07387a0aa5e14ce1a3a5652debd2f017",
            "aba5ef4c5fac44ec9de6f627421e0773",
            "ec9b23fbbe4940e58f01a1837717e221",
            "1030fbe306e64c1ebae2007cff2fb143"
          ]
        },
        "id": "8-QTtgDFEkwD",
        "outputId": "2f2ad73c-0ac5-44da-aff0-38ef0fa83a05"
      },
      "source": [
        "train_dataset = make_tensor_dataset(train_sentences, train_labels, wandb_config)\n",
        "val_dataset = make_tensor_dataset(val_sentences, val_labels, wandb_config)"
      ],
      "execution_count": null,
      "outputs": [
        {
          "output_type": "display_data",
          "data": {
            "application/vnd.jupyter.widget-view+json": {
              "model_id": "21df3a41cd1949a28631d7ddcc942e2e",
              "version_major": 2,
              "version_minor": 0
            },
            "text/plain": [
              "HBox(children=(FloatProgress(value=0.0, description='Downloading', max=231508.0, style=ProgressStyle(descripti…"
            ]
          },
          "metadata": {
            "tags": []
          }
        },
        {
          "output_type": "stream",
          "text": [
            "\n"
          ],
          "name": "stdout"
        },
        {
          "output_type": "display_data",
          "data": {
            "application/vnd.jupyter.widget-view+json": {
              "model_id": "44e5015ef3334ff68537619215d364d6",
              "version_major": 2,
              "version_minor": 0
            },
            "text/plain": [
              "HBox(children=(FloatProgress(value=0.0, description='Downloading', max=28.0, style=ProgressStyle(description_w…"
            ]
          },
          "metadata": {
            "tags": []
          }
        },
        {
          "output_type": "stream",
          "text": [
            "\n"
          ],
          "name": "stdout"
        },
        {
          "output_type": "display_data",
          "data": {
            "application/vnd.jupyter.widget-view+json": {
              "model_id": "b9c65a8eea21427fb56f0f3aa00724fc",
              "version_major": 2,
              "version_minor": 0
            },
            "text/plain": [
              "HBox(children=(FloatProgress(value=0.0, description='Downloading', max=466062.0, style=ProgressStyle(descripti…"
            ]
          },
          "metadata": {
            "tags": []
          }
        },
        {
          "output_type": "stream",
          "text": [
            "\n",
            "Original:   Lungs remain hyperexpanded. No change in the right middle lobe opacification. No XXXX infiltrates or masses. Pulmonary arteries are prominent centrally.\n",
            "Token IDs: tensor([  101,  8948,  3961, 23760, 10288,  9739,  5732,  1012,  2053,  2689,\n",
            "         1999,  1996,  2157,  2690, 21833,  6728,  6305,  9031,  1012,  2053,\n",
            "        22038, 20348, 29543,  2015,  2030, 11678,  1012, 21908, 28915,  2024,\n",
            "         4069, 25497,  1012,   102,     0,     0,     0,     0,     0,     0,\n",
            "            0,     0,     0,     0,     0,     0,     0,     0,     0,     0,\n",
            "            0,     0,     0,     0,     0,     0,     0,     0,     0,     0,\n",
            "            0,     0,     0,     0,     0,     0,     0,     0,     0,     0,\n",
            "            0,     0,     0,     0,     0,     0,     0,     0,     0,     0,\n",
            "            0,     0,     0,     0,     0,     0,     0,     0,     0,     0,\n",
            "            0,     0,     0,     0,     0,     0,     0,     0,     0,     0,\n",
            "            0,     0,     0,     0,     0,     0,     0,     0,     0,     0,\n",
            "            0,     0,     0,     0,     0,     0,     0,     0,     0,     0,\n",
            "            0,     0,     0,     0,     0,     0,     0,     0,     0,     0,\n",
            "            0,     0,     0,     0,     0,     0,     0,     0,     0,     0,\n",
            "            0,     0,     0,     0,     0,     0,     0,     0,     0,     0,\n",
            "            0,     0,     0,     0,     0,     0,     0,     0,     0,     0,\n",
            "            0,     0,     0,     0,     0,     0,     0,     0,     0,     0,\n",
            "            0,     0,     0,     0,     0,     0,     0,     0,     0,     0,\n",
            "            0,     0,     0,     0,     0,     0,     0,     0,     0,     0,\n",
            "            0,     0,     0,     0,     0,     0,     0,     0,     0,     0,\n",
            "            0,     0,     0,     0,     0,     0,     0,     0,     0,     0,\n",
            "            0,     0,     0,     0,     0,     0,     0,     0,     0,     0,\n",
            "            0,     0,     0,     0,     0,     0,     0,     0,     0,     0,\n",
            "            0,     0,     0,     0,     0,     0,     0,     0,     0,     0,\n",
            "            0,     0,     0,     0,     0,     0,     0,     0,     0,     0,\n",
            "            0,     0,     0,     0,     0,     0,     0,     0,     0,     0,\n",
            "            0,     0,     0,     0,     0,     0,     0,     0,     0,     0,\n",
            "            0,     0,     0,     0,     0,     0,     0,     0,     0,     0,\n",
            "            0,     0,     0,     0,     0,     0,     0,     0,     0,     0,\n",
            "            0,     0,     0,     0,     0,     0,     0,     0,     0,     0])\n",
            "Label: tensor(1)\n",
            "Original:   The heart size and pulmonary vascularity appear within normal limits. The lungs are free of focal airspace disease. No pleural effusion or pneumothorax is seen.\n",
            "Token IDs: tensor([  101,  1996,  2540,  2946,  1998, 21908, 21449,  3012,  3711,  2306,\n",
            "         3671,  6537,  1012,  1996,  8948,  2024,  2489,  1997, 15918, 29357,\n",
            "         4295,  1012,  2053, 20228, 11236,  2389,  1041,  4246, 14499,  2030,\n",
            "         1052,  2638,  2819, 29288,  2527,  2595,  2003,  2464,  1012,   102,\n",
            "            0,     0,     0,     0,     0,     0,     0,     0,     0,     0,\n",
            "            0,     0,     0,     0,     0,     0,     0,     0,     0,     0,\n",
            "            0,     0,     0,     0,     0,     0,     0,     0,     0,     0,\n",
            "            0,     0,     0,     0,     0,     0,     0,     0,     0,     0,\n",
            "            0,     0,     0,     0,     0,     0,     0,     0,     0,     0,\n",
            "            0,     0,     0,     0,     0,     0,     0,     0,     0,     0,\n",
            "            0,     0,     0,     0,     0,     0,     0,     0,     0,     0,\n",
            "            0,     0,     0,     0,     0,     0,     0,     0,     0,     0,\n",
            "            0,     0,     0,     0,     0,     0,     0,     0,     0,     0,\n",
            "            0,     0,     0,     0,     0,     0,     0,     0,     0,     0,\n",
            "            0,     0,     0,     0,     0,     0,     0,     0,     0,     0,\n",
            "            0,     0,     0,     0,     0,     0,     0,     0,     0,     0,\n",
            "            0,     0,     0,     0,     0,     0,     0,     0,     0,     0,\n",
            "            0,     0,     0,     0,     0,     0,     0,     0,     0,     0,\n",
            "            0,     0,     0,     0,     0,     0,     0,     0,     0,     0,\n",
            "            0,     0,     0,     0,     0,     0,     0,     0,     0,     0,\n",
            "            0,     0,     0,     0,     0,     0,     0,     0,     0,     0,\n",
            "            0,     0,     0,     0,     0,     0,     0,     0,     0,     0,\n",
            "            0,     0,     0,     0,     0,     0,     0,     0,     0,     0,\n",
            "            0,     0,     0,     0,     0,     0,     0,     0,     0,     0,\n",
            "            0,     0,     0,     0,     0,     0,     0,     0,     0,     0,\n",
            "            0,     0,     0,     0,     0,     0,     0,     0,     0,     0,\n",
            "            0,     0,     0,     0,     0,     0,     0,     0,     0,     0,\n",
            "            0,     0,     0,     0,     0,     0,     0,     0,     0,     0,\n",
            "            0,     0,     0,     0,     0,     0,     0,     0,     0,     0,\n",
            "            0,     0,     0,     0,     0,     0,     0,     0,     0,     0])\n",
            "Label: tensor(0)\n"
          ],
          "name": "stdout"
        }
      ]
    },
    {
      "cell_type": "code",
      "metadata": {
        "colab": {
          "base_uri": "https://localhost:8080/"
        },
        "id": "m1j1bQcmEfdD",
        "outputId": "450a51cc-1435-440c-f8d3-e345f3665043"
      },
      "source": [
        "print(f'{len(train_dataset):>5,} training samples')\n",
        "print(f'{len(val_dataset):>5,} validation samples')\n",
        "#print(f'{len(test_dataset):>5,} test samples')"
      ],
      "execution_count": null,
      "outputs": [
        {
          "output_type": "stream",
          "text": [
            "1,707 training samples\n",
            "  570 validation samples\n"
          ],
          "name": "stdout"
        }
      ]
    },
    {
      "cell_type": "code",
      "metadata": {
        "colab": {
          "base_uri": "https://localhost:8080/"
        },
        "id": "zTjcmuENFvBS",
        "outputId": "e5aeddaa-58e8-4c76-ddb2-6c8a93b88df8"
      },
      "source": [
        "train_dataset[:3]"
      ],
      "execution_count": null,
      "outputs": [
        {
          "output_type": "execute_result",
          "data": {
            "text/plain": [
              "(tensor([[  101,  8948,  3961, 23760, 10288,  9739,  5732,  1012,  2053,  2689,\n",
              "           1999,  1996,  2157,  2690, 21833,  6728,  6305,  9031,  1012,  2053,\n",
              "          22038, 20348, 29543,  2015,  2030, 11678,  1012, 21908, 28915,  2024,\n",
              "           4069, 25497,  1012,   102,     0,     0,     0,     0,     0,     0,\n",
              "              0,     0,     0,     0,     0,     0,     0,     0,     0,     0,\n",
              "              0,     0,     0,     0,     0,     0,     0,     0,     0,     0,\n",
              "              0,     0,     0,     0,     0,     0,     0,     0,     0,     0,\n",
              "              0,     0,     0,     0,     0,     0,     0,     0,     0,     0,\n",
              "              0,     0,     0,     0,     0,     0,     0,     0,     0,     0,\n",
              "              0,     0,     0,     0,     0,     0,     0,     0,     0,     0,\n",
              "              0,     0,     0,     0,     0,     0,     0,     0,     0,     0,\n",
              "              0,     0,     0,     0,     0,     0,     0,     0,     0,     0,\n",
              "              0,     0,     0,     0,     0,     0,     0,     0,     0,     0,\n",
              "              0,     0,     0,     0,     0,     0,     0,     0,     0,     0,\n",
              "              0,     0,     0,     0,     0,     0,     0,     0,     0,     0,\n",
              "              0,     0,     0,     0,     0,     0,     0,     0,     0,     0,\n",
              "              0,     0,     0,     0,     0,     0,     0,     0,     0,     0,\n",
              "              0,     0,     0,     0,     0,     0,     0,     0,     0,     0,\n",
              "              0,     0,     0,     0,     0,     0,     0,     0,     0,     0,\n",
              "              0,     0,     0,     0,     0,     0,     0,     0,     0,     0,\n",
              "              0,     0,     0,     0,     0,     0,     0,     0,     0,     0,\n",
              "              0,     0,     0,     0,     0,     0,     0,     0,     0,     0,\n",
              "              0,     0,     0,     0,     0,     0,     0,     0,     0,     0,\n",
              "              0,     0,     0,     0,     0,     0,     0,     0,     0,     0,\n",
              "              0,     0,     0,     0,     0,     0,     0,     0,     0,     0,\n",
              "              0,     0,     0,     0,     0,     0,     0,     0,     0,     0,\n",
              "              0,     0,     0,     0,     0,     0,     0,     0,     0,     0,\n",
              "              0,     0,     0,     0,     0,     0,     0,     0,     0,     0,\n",
              "              0,     0,     0,     0,     0,     0,     0,     0,     0,     0,\n",
              "              0,     0,     0,     0,     0,     0,     0,     0,     0,     0],\n",
              "         [  101,  1996,  2540,  2003,  3671,  1999,  2946,  1012,  1996, 21908,\n",
              "          21449,  3012,  2003,  2306,  3671,  6537,  1999,  3311,  1012,  2053,\n",
              "          15918,  2250,  2686,  6728,  6305,  6447,  1012,  2053, 20228, 11236,\n",
              "           2389,  1041,  4246, 22016,  2030,  1052,  2638,  2819, 29288,  2527,\n",
              "           2595,  1012,  2053, 11325, 22678, 28828,  1012,   102,     0,     0,\n",
              "              0,     0,     0,     0,     0,     0,     0,     0,     0,     0,\n",
              "              0,     0,     0,     0,     0,     0,     0,     0,     0,     0,\n",
              "              0,     0,     0,     0,     0,     0,     0,     0,     0,     0,\n",
              "              0,     0,     0,     0,     0,     0,     0,     0,     0,     0,\n",
              "              0,     0,     0,     0,     0,     0,     0,     0,     0,     0,\n",
              "              0,     0,     0,     0,     0,     0,     0,     0,     0,     0,\n",
              "              0,     0,     0,     0,     0,     0,     0,     0,     0,     0,\n",
              "              0,     0,     0,     0,     0,     0,     0,     0,     0,     0,\n",
              "              0,     0,     0,     0,     0,     0,     0,     0,     0,     0,\n",
              "              0,     0,     0,     0,     0,     0,     0,     0,     0,     0,\n",
              "              0,     0,     0,     0,     0,     0,     0,     0,     0,     0,\n",
              "              0,     0,     0,     0,     0,     0,     0,     0,     0,     0,\n",
              "              0,     0,     0,     0,     0,     0,     0,     0,     0,     0,\n",
              "              0,     0,     0,     0,     0,     0,     0,     0,     0,     0,\n",
              "              0,     0,     0,     0,     0,     0,     0,     0,     0,     0,\n",
              "              0,     0,     0,     0,     0,     0,     0,     0,     0,     0,\n",
              "              0,     0,     0,     0,     0,     0,     0,     0,     0,     0,\n",
              "              0,     0,     0,     0,     0,     0,     0,     0,     0,     0,\n",
              "              0,     0,     0,     0,     0,     0,     0,     0,     0,     0,\n",
              "              0,     0,     0,     0,     0,     0,     0,     0,     0,     0,\n",
              "              0,     0,     0,     0,     0,     0,     0,     0,     0,     0,\n",
              "              0,     0,     0,     0,     0,     0,     0,     0,     0,     0,\n",
              "              0,     0,     0,     0,     0,     0,     0,     0,     0,     0,\n",
              "              0,     0,     0,     0,     0,     0,     0,     0,     0,     0,\n",
              "              0,     0,     0,     0,     0,     0,     0,     0,     0,     0],\n",
              "         [  101, 15050,  1998,  2865, 16643, 12032, 21776,  2024,  4895, 28578,\n",
              "          17007,  3085,  1012,  8948,  2024,  3154,  1012,  2053, 15918, 17439,\n",
              "           1010,  1052,  2638,  2819, 29288,  2527,  2595,  1010,  2030, 20228,\n",
              "          11236,  2389,  1041,  4246, 14499,  4453,  1012, 22038, 20348,  1998,\n",
              "           3730,  8153,  2024,  4895, 28578, 17007,  3085,  1012,   102,     0,\n",
              "              0,     0,     0,     0,     0,     0,     0,     0,     0,     0,\n",
              "              0,     0,     0,     0,     0,     0,     0,     0,     0,     0,\n",
              "              0,     0,     0,     0,     0,     0,     0,     0,     0,     0,\n",
              "              0,     0,     0,     0,     0,     0,     0,     0,     0,     0,\n",
              "              0,     0,     0,     0,     0,     0,     0,     0,     0,     0,\n",
              "              0,     0,     0,     0,     0,     0,     0,     0,     0,     0,\n",
              "              0,     0,     0,     0,     0,     0,     0,     0,     0,     0,\n",
              "              0,     0,     0,     0,     0,     0,     0,     0,     0,     0,\n",
              "              0,     0,     0,     0,     0,     0,     0,     0,     0,     0,\n",
              "              0,     0,     0,     0,     0,     0,     0,     0,     0,     0,\n",
              "              0,     0,     0,     0,     0,     0,     0,     0,     0,     0,\n",
              "              0,     0,     0,     0,     0,     0,     0,     0,     0,     0,\n",
              "              0,     0,     0,     0,     0,     0,     0,     0,     0,     0,\n",
              "              0,     0,     0,     0,     0,     0,     0,     0,     0,     0,\n",
              "              0,     0,     0,     0,     0,     0,     0,     0,     0,     0,\n",
              "              0,     0,     0,     0,     0,     0,     0,     0,     0,     0,\n",
              "              0,     0,     0,     0,     0,     0,     0,     0,     0,     0,\n",
              "              0,     0,     0,     0,     0,     0,     0,     0,     0,     0,\n",
              "              0,     0,     0,     0,     0,     0,     0,     0,     0,     0,\n",
              "              0,     0,     0,     0,     0,     0,     0,     0,     0,     0,\n",
              "              0,     0,     0,     0,     0,     0,     0,     0,     0,     0,\n",
              "              0,     0,     0,     0,     0,     0,     0,     0,     0,     0,\n",
              "              0,     0,     0,     0,     0,     0,     0,     0,     0,     0,\n",
              "              0,     0,     0,     0,     0,     0,     0,     0,     0,     0,\n",
              "              0,     0,     0,     0,     0,     0,     0,     0,     0,     0]]),\n",
              " tensor([[1, 1, 1, 1, 1, 1, 1, 1, 1, 1, 1, 1, 1, 1, 1, 1, 1, 1, 1, 1, 1, 1, 1, 1,\n",
              "          1, 1, 1, 1, 1, 1, 1, 1, 1, 1, 0, 0, 0, 0, 0, 0, 0, 0, 0, 0, 0, 0, 0, 0,\n",
              "          0, 0, 0, 0, 0, 0, 0, 0, 0, 0, 0, 0, 0, 0, 0, 0, 0, 0, 0, 0, 0, 0, 0, 0,\n",
              "          0, 0, 0, 0, 0, 0, 0, 0, 0, 0, 0, 0, 0, 0, 0, 0, 0, 0, 0, 0, 0, 0, 0, 0,\n",
              "          0, 0, 0, 0, 0, 0, 0, 0, 0, 0, 0, 0, 0, 0, 0, 0, 0, 0, 0, 0, 0, 0, 0, 0,\n",
              "          0, 0, 0, 0, 0, 0, 0, 0, 0, 0, 0, 0, 0, 0, 0, 0, 0, 0, 0, 0, 0, 0, 0, 0,\n",
              "          0, 0, 0, 0, 0, 0, 0, 0, 0, 0, 0, 0, 0, 0, 0, 0, 0, 0, 0, 0, 0, 0, 0, 0,\n",
              "          0, 0, 0, 0, 0, 0, 0, 0, 0, 0, 0, 0, 0, 0, 0, 0, 0, 0, 0, 0, 0, 0, 0, 0,\n",
              "          0, 0, 0, 0, 0, 0, 0, 0, 0, 0, 0, 0, 0, 0, 0, 0, 0, 0, 0, 0, 0, 0, 0, 0,\n",
              "          0, 0, 0, 0, 0, 0, 0, 0, 0, 0, 0, 0, 0, 0, 0, 0, 0, 0, 0, 0, 0, 0, 0, 0,\n",
              "          0, 0, 0, 0, 0, 0, 0, 0, 0, 0, 0, 0, 0, 0, 0, 0, 0, 0, 0, 0, 0, 0, 0, 0,\n",
              "          0, 0, 0, 0, 0, 0, 0, 0, 0, 0, 0, 0, 0, 0, 0, 0, 0, 0, 0, 0, 0, 0, 0, 0,\n",
              "          0, 0, 0, 0, 0, 0, 0, 0, 0, 0, 0, 0],\n",
              "         [1, 1, 1, 1, 1, 1, 1, 1, 1, 1, 1, 1, 1, 1, 1, 1, 1, 1, 1, 1, 1, 1, 1, 1,\n",
              "          1, 1, 1, 1, 1, 1, 1, 1, 1, 1, 1, 1, 1, 1, 1, 1, 1, 1, 1, 1, 1, 1, 1, 1,\n",
              "          0, 0, 0, 0, 0, 0, 0, 0, 0, 0, 0, 0, 0, 0, 0, 0, 0, 0, 0, 0, 0, 0, 0, 0,\n",
              "          0, 0, 0, 0, 0, 0, 0, 0, 0, 0, 0, 0, 0, 0, 0, 0, 0, 0, 0, 0, 0, 0, 0, 0,\n",
              "          0, 0, 0, 0, 0, 0, 0, 0, 0, 0, 0, 0, 0, 0, 0, 0, 0, 0, 0, 0, 0, 0, 0, 0,\n",
              "          0, 0, 0, 0, 0, 0, 0, 0, 0, 0, 0, 0, 0, 0, 0, 0, 0, 0, 0, 0, 0, 0, 0, 0,\n",
              "          0, 0, 0, 0, 0, 0, 0, 0, 0, 0, 0, 0, 0, 0, 0, 0, 0, 0, 0, 0, 0, 0, 0, 0,\n",
              "          0, 0, 0, 0, 0, 0, 0, 0, 0, 0, 0, 0, 0, 0, 0, 0, 0, 0, 0, 0, 0, 0, 0, 0,\n",
              "          0, 0, 0, 0, 0, 0, 0, 0, 0, 0, 0, 0, 0, 0, 0, 0, 0, 0, 0, 0, 0, 0, 0, 0,\n",
              "          0, 0, 0, 0, 0, 0, 0, 0, 0, 0, 0, 0, 0, 0, 0, 0, 0, 0, 0, 0, 0, 0, 0, 0,\n",
              "          0, 0, 0, 0, 0, 0, 0, 0, 0, 0, 0, 0, 0, 0, 0, 0, 0, 0, 0, 0, 0, 0, 0, 0,\n",
              "          0, 0, 0, 0, 0, 0, 0, 0, 0, 0, 0, 0, 0, 0, 0, 0, 0, 0, 0, 0, 0, 0, 0, 0,\n",
              "          0, 0, 0, 0, 0, 0, 0, 0, 0, 0, 0, 0],\n",
              "         [1, 1, 1, 1, 1, 1, 1, 1, 1, 1, 1, 1, 1, 1, 1, 1, 1, 1, 1, 1, 1, 1, 1, 1,\n",
              "          1, 1, 1, 1, 1, 1, 1, 1, 1, 1, 1, 1, 1, 1, 1, 1, 1, 1, 1, 1, 1, 1, 1, 1,\n",
              "          1, 0, 0, 0, 0, 0, 0, 0, 0, 0, 0, 0, 0, 0, 0, 0, 0, 0, 0, 0, 0, 0, 0, 0,\n",
              "          0, 0, 0, 0, 0, 0, 0, 0, 0, 0, 0, 0, 0, 0, 0, 0, 0, 0, 0, 0, 0, 0, 0, 0,\n",
              "          0, 0, 0, 0, 0, 0, 0, 0, 0, 0, 0, 0, 0, 0, 0, 0, 0, 0, 0, 0, 0, 0, 0, 0,\n",
              "          0, 0, 0, 0, 0, 0, 0, 0, 0, 0, 0, 0, 0, 0, 0, 0, 0, 0, 0, 0, 0, 0, 0, 0,\n",
              "          0, 0, 0, 0, 0, 0, 0, 0, 0, 0, 0, 0, 0, 0, 0, 0, 0, 0, 0, 0, 0, 0, 0, 0,\n",
              "          0, 0, 0, 0, 0, 0, 0, 0, 0, 0, 0, 0, 0, 0, 0, 0, 0, 0, 0, 0, 0, 0, 0, 0,\n",
              "          0, 0, 0, 0, 0, 0, 0, 0, 0, 0, 0, 0, 0, 0, 0, 0, 0, 0, 0, 0, 0, 0, 0, 0,\n",
              "          0, 0, 0, 0, 0, 0, 0, 0, 0, 0, 0, 0, 0, 0, 0, 0, 0, 0, 0, 0, 0, 0, 0, 0,\n",
              "          0, 0, 0, 0, 0, 0, 0, 0, 0, 0, 0, 0, 0, 0, 0, 0, 0, 0, 0, 0, 0, 0, 0, 0,\n",
              "          0, 0, 0, 0, 0, 0, 0, 0, 0, 0, 0, 0, 0, 0, 0, 0, 0, 0, 0, 0, 0, 0, 0, 0,\n",
              "          0, 0, 0, 0, 0, 0, 0, 0, 0, 0, 0, 0]]),\n",
              " tensor([1, 0, 0]))"
            ]
          },
          "metadata": {
            "tags": []
          },
          "execution_count": 29
        }
      ]
    },
    {
      "cell_type": "markdown",
      "metadata": {
        "id": "Ray80zREF5nx"
      },
      "source": [
        "Create an iterator for the dataset using the torch DataLoader class. "
      ]
    },
    {
      "cell_type": "code",
      "metadata": {
        "id": "zw8rZBerAJ-a"
      },
      "source": [
        "data_loaders = {\n",
        "    'train' : make_dataloader(train_dataset, wandb_config, eval=False),\n",
        "    'train_size': len(train_dataset),\n",
        "    'eval' : make_dataloader(val_dataset, wandb_config, eval=True),\n",
        "    'eval_size' : len(val_dataset)\n",
        "}"
      ],
      "execution_count": null,
      "outputs": []
    },
    {
      "cell_type": "markdown",
      "metadata": {
        "id": "zARn-95bGbYc"
      },
      "source": [
        "# Fine Tune BERT for Classification"
      ]
    },
    {
      "cell_type": "markdown",
      "metadata": {
        "id": "XtnoCExl97Ss"
      },
      "source": [
        "## Setup Logging"
      ]
    },
    {
      "cell_type": "code",
      "metadata": {
        "id": "5cd16bmFS1T5"
      },
      "source": [
        "# Setup logging\n",
        "logger = logging.getLogger(__name__)\n",
        "if not os.path.exists(wandb_config.output_dir):\n",
        "    os.makedirs(wandb_config.output_dir)\n",
        "logging.basicConfig(format=\"%(asctime)s - %(levelname)s - %(name)s -   %(message)s\",\n",
        "                    datefmt=\"%m/%d/%Y %H:%M:%S\",\n",
        "                    filename=os.path.join(wandb_config.output_dir, f\"{os.path.splitext(wandb_config.train_file)[0]}_logging.txt\"),\n",
        "                    level=logging.INFO)\n",
        "logger.warning(\"device: %s, n_gpu: %s\",\n",
        "        wandb_config.device,\n",
        "        wandb_config.n_gpu\n",
        ")\n",
        "# Set the verbosity to info of the Transformers logger (on main process only):\n",
        "\n",
        "# Set seed\n",
        "set_seed(wandb_config)"
      ],
      "execution_count": null,
      "outputs": []
    },
    {
      "cell_type": "markdown",
      "metadata": {
        "id": "jsLgoErr-CKX"
      },
      "source": [
        "## Set up the Model and Train\n",
        "\n",
        "The Code will simply train and validate the specified train and validation sets. \n",
        "\n",
        "Outputs and saved checkpoints are saved in the specifed `--output_dir` argument.\n",
        "Tensorboard data are saved in the `runs/` directory with the date and time of the experiment as well as the filename of the train/test data file."
      ]
    },
    {
      "cell_type": "code",
      "metadata": {
        "colab": {
          "background_save": true,
          "base_uri": "https://localhost:8080/",
          "height": 1000,
          "referenced_widgets": [
            "f1dd478ca17f4aacb3640ae6b2b0702a",
            "5c047fa462914813a79c506924ed618b",
            "fe302f48e5354d748b977a1e20b38c76",
            "e528d4e87b6c4df995b78d6eaaa10d39",
            "3592cf79c0ee4ef682954306f55524f8",
            "5f6f2b69804a4d75bebc883b770d7b54",
            "762150e077d340cf937d43bbe2b403ab",
            "89e0187e5afe44c590af5a1344420e08",
            "6a952a3c66284f0db2d8d6f1d7cd1b56",
            "91641c13ae9a487aaaed645b37fbab3b",
            "3f3d6cb26caf4e75a195dbec6abe0cb3",
            "54ab081bbfcf4d308cb305843565a08d",
            "bd8b7fbb839642e18389d5b4f13e7b8c",
            "4980d19561584f49b2575076ac214079",
            "82a184f6222c480a88d5c321a9e5c686",
            "7f187f02e68144b8ad714572bd02788c",
            "db118c8743cb4330ae57e0bbc56298a0"
          ]
        },
        "id": "BQamR9mcRMFi",
        "outputId": "d2191cf4-8b14-4c2c-83ea-45dc00c68587"
      },
      "source": [
        "%pdb on\n",
        "# set up model\n",
        "if args.multiclass:\n",
        "    labels = get_multiclass_labels()\n",
        "    num_labels = len(labels)\n",
        "else:\n",
        "    labels = get_labels()\n",
        "    num_labels = len(labels)\n",
        "transformer_config = AutoConfig.from_pretrained(wandb_config.model_name, num_labels=num_labels)\n",
        "tokenizer = AutoTokenizer.from_pretrained(\n",
        "        wandb_config.tokenizer_name,\n",
        "        do_lower_case=True,\n",
        "        cache_dir=None,\n",
        "    )\n",
        "transformer_model = AutoModelForSequenceClassification.from_pretrained(wandb_config.model_name, config=transformer_config)\n",
        "transformer_model.to(device)\n",
        "logger.info(f\"Training/evaluation parameters: {wandb_config}\")\n",
        "# Training\n",
        "if wandb_config.do_train:\n",
        "    if wandb_config.multiclass:\n",
        "        criterion = get_multiclass_criterion(train_labels)\n",
        "        global_step, tr_loss = textBert_utils.train(data_loaders, wandb_config, transformer_model, criterion)\n",
        "    else:\n",
        "        global_step, tr_loss = textBert_utils.train(data_loaders, wandb_config, transformer_model)\n",
        "    logger.info(\" global_step = %s, average loss = %s\", global_step, tr_loss)\n",
        "\n",
        "# Saving best-practices: if you use defaults names for the model, you can reload it using from_pretrained()\n",
        "    logger.info(\"Saving model checkpoint to %s\", wandb_config.output_dir)\n",
        "    # Save a trained model, configuration and tokenizer using `save_pretrained()`.\n",
        "    # They can then be reloaded using `from_pretrained()`\n",
        "    model_to_save = (transformer_model.module if hasattr(transformer_model, \"module\") else transformer_model)  # Take care of distributed/parallel training\n",
        "    torch.save(model_to_save.state_dict(), os.path.join(wandb_config.output_dir, WEIGHTS_NAME))\n",
        "    tokenizer.save_pretrained(wandb_config.output_dir)\n",
        "    transformer_config.save_pretrained(wandb_config.output_dir)\n",
        "\n",
        "    # Good practice: save your training arguments together with the trained model\n",
        "    torch.save(args, os.path.join(wandb_config.output_dir, \"training_args.bin\"))\n",
        "\n",
        "    # Load a trained model and vocabulary that you have fine-tuned\n",
        "    transformer_model = AutoModelForSequenceClassification.from_pretrained(wandb_config.model_name, config=transformer_config)\n",
        "    transformer_model.load_state_dict(torch.load(os.path.join(wandb_config.output_dir, WEIGHTS_NAME)))\n",
        "    tokenizer = AutoTokenizer.from_pretrained(wandb_config.output_dir)\n",
        "    transformer_model.to(device)\n",
        "logger.info(\"***** Training Finished *****\")\n",
        "wandb.finish()\n"
      ],
      "execution_count": null,
      "outputs": [
        {
          "output_type": "stream",
          "text": [
            "Automatic pdb calling has been turned ON\n"
          ],
          "name": "stdout"
        },
        {
          "output_type": "display_data",
          "data": {
            "application/vnd.jupyter.widget-view+json": {
              "model_id": "f1dd478ca17f4aacb3640ae6b2b0702a",
              "version_major": 2,
              "version_minor": 0
            },
            "text/plain": [
              "HBox(children=(FloatProgress(value=0.0, description='Downloading', max=433.0, style=ProgressStyle(description_…"
            ]
          },
          "metadata": {
            "tags": []
          }
        },
        {
          "output_type": "stream",
          "text": [
            "\n"
          ],
          "name": "stdout"
        },
        {
          "output_type": "display_data",
          "data": {
            "application/vnd.jupyter.widget-view+json": {
              "model_id": "6a952a3c66284f0db2d8d6f1d7cd1b56",
              "version_major": 2,
              "version_minor": 0
            },
            "text/plain": [
              "HBox(children=(FloatProgress(value=0.0, description='Downloading', max=440473133.0, style=ProgressStyle(descri…"
            ]
          },
          "metadata": {
            "tags": []
          }
        },
        {
          "output_type": "stream",
          "text": [
            "\n"
          ],
          "name": "stdout"
        },
        {
          "output_type": "stream",
          "text": [
            "Some weights of the model checkpoint at bert-base-uncased were not used when initializing BertForSequenceClassification: ['cls.predictions.bias', 'cls.predictions.transform.dense.weight', 'cls.predictions.transform.dense.bias', 'cls.predictions.decoder.weight', 'cls.seq_relationship.weight', 'cls.seq_relationship.bias', 'cls.predictions.transform.LayerNorm.weight', 'cls.predictions.transform.LayerNorm.bias']\n",
            "- This IS expected if you are initializing BertForSequenceClassification from the checkpoint of a model trained on another task or with another architecture (e.g. initializing a BertForSequenceClassification model from a BertForPreTraining model).\n",
            "- This IS NOT expected if you are initializing BertForSequenceClassification from the checkpoint of a model that you expect to be exactly identical (initializing a BertForSequenceClassification model from a BertForSequenceClassification model).\n",
            "Some weights of BertForSequenceClassification were not initialized from the model checkpoint at bert-base-uncased and are newly initialized: ['classifier.weight', 'classifier.bias']\n",
            "You should probably TRAIN this model on a down-stream task to be able to use it for predictions and inference.\n",
            "Epoch:   0%|          | 0/10 [00:00<?, ?it/s]\n",
            "Batch Iteration:   0%|          | 0/54 [00:00<?, ?it/s]\u001b[A\n",
            "Batch Iteration:   2%|▏         | 1/54 [00:01<01:32,  1.75s/it]\u001b[A\n",
            "Batch Iteration:   4%|▎         | 2/54 [00:03<01:27,  1.69s/it]\u001b[A\n",
            "Batch Iteration:   6%|▌         | 3/54 [00:04<01:24,  1.65s/it]\u001b[A\n",
            "Batch Iteration:   7%|▋         | 4/54 [00:06<01:21,  1.62s/it]\u001b[A\n",
            "Batch Iteration:   9%|▉         | 5/54 [00:07<01:18,  1.61s/it]\u001b[A\n",
            "Batch Iteration:  11%|█         | 6/54 [00:09<01:16,  1.59s/it]\u001b[A\n",
            "Batch Iteration:  13%|█▎        | 7/54 [00:11<01:14,  1.58s/it]\u001b[A\n",
            "Batch Iteration:  15%|█▍        | 8/54 [00:12<01:12,  1.58s/it]\u001b[A\n",
            "Batch Iteration:  17%|█▋        | 9/54 [00:14<01:11,  1.58s/it]\u001b[A\n",
            "Batch Iteration:  19%|█▊        | 10/54 [00:15<01:09,  1.58s/it]\u001b[A\n",
            "Batch Iteration:  20%|██        | 11/54 [00:17<01:08,  1.58s/it]\u001b[A\n",
            "Batch Iteration:  22%|██▏       | 12/54 [00:19<01:06,  1.59s/it]\u001b[A\n",
            "Batch Iteration:  24%|██▍       | 13/54 [00:20<01:05,  1.60s/it]\u001b[A\n",
            "Batch Iteration:  26%|██▌       | 14/54 [00:22<01:03,  1.59s/it]\u001b[A\n",
            "Batch Iteration:  28%|██▊       | 15/54 [00:23<01:02,  1.60s/it]\u001b[A\n",
            "Batch Iteration:  30%|██▉       | 16/54 [00:25<01:00,  1.60s/it]\u001b[A\n",
            "Batch Iteration:  31%|███▏      | 17/54 [00:27<00:59,  1.60s/it]\u001b[A\n",
            "Batch Iteration:  33%|███▎      | 18/54 [00:28<00:57,  1.61s/it]\u001b[A\n",
            "Batch Iteration:  35%|███▌      | 19/54 [00:30<00:56,  1.61s/it]\u001b[A\n",
            "Batch Iteration:  37%|███▋      | 20/54 [00:31<00:54,  1.61s/it]\u001b[A\n",
            "Batch Iteration:  39%|███▉      | 21/54 [00:33<00:53,  1.62s/it]\u001b[A\n",
            "Batch Iteration:  41%|████      | 22/54 [00:35<00:51,  1.62s/it]\u001b[A\n",
            "Batch Iteration:  43%|████▎     | 23/54 [00:36<00:50,  1.63s/it]\u001b[A\n",
            "Batch Iteration:  44%|████▍     | 24/54 [00:38<00:49,  1.63s/it]\u001b[A\n",
            "\n",
            "Batch Evaluating:   0%|          | 0/18 [00:00<?, ?it/s]\u001b[A\u001b[A\n",
            "\n",
            "Batch Evaluating:   6%|▌         | 1/18 [00:00<00:10,  1.66it/s]\u001b[A\u001b[A\n",
            "\n",
            "Batch Evaluating:  11%|█         | 2/18 [00:01<00:09,  1.66it/s]\u001b[A\u001b[A\n",
            "\n",
            "Batch Evaluating:  17%|█▋        | 3/18 [00:01<00:09,  1.65it/s]\u001b[A\u001b[A\n",
            "\n",
            "Batch Evaluating:  22%|██▏       | 4/18 [00:02<00:08,  1.65it/s]\u001b[A\u001b[A\n",
            "\n",
            "Batch Evaluating:  28%|██▊       | 5/18 [00:03<00:07,  1.64it/s]\u001b[A\u001b[A\n",
            "\n",
            "Batch Evaluating:  33%|███▎      | 6/18 [00:03<00:07,  1.64it/s]\u001b[A\u001b[A\n",
            "\n",
            "Batch Evaluating:  39%|███▉      | 7/18 [00:04<00:06,  1.64it/s]\u001b[A\u001b[A\n",
            "\n",
            "Batch Evaluating:  44%|████▍     | 8/18 [00:04<00:06,  1.64it/s]\u001b[A\u001b[A\n",
            "\n",
            "Batch Evaluating:  50%|█████     | 9/18 [00:05<00:05,  1.64it/s]\u001b[A\u001b[A\n",
            "\n",
            "Batch Evaluating:  56%|█████▌    | 10/18 [00:06<00:04,  1.63it/s]\u001b[A\u001b[A\n",
            "\n",
            "Batch Evaluating:  61%|██████    | 11/18 [00:06<00:04,  1.63it/s]\u001b[A\u001b[A\n",
            "\n",
            "Batch Evaluating:  67%|██████▋   | 12/18 [00:07<00:03,  1.62it/s]\u001b[A\u001b[A\n",
            "\n",
            "Batch Evaluating:  72%|███████▏  | 13/18 [00:07<00:03,  1.62it/s]\u001b[A\u001b[A\n",
            "\n",
            "Batch Evaluating:  78%|███████▊  | 14/18 [00:08<00:02,  1.62it/s]\u001b[A\u001b[A\n",
            "\n",
            "Batch Evaluating:  83%|████████▎ | 15/18 [00:09<00:01,  1.62it/s]\u001b[A\u001b[A\n",
            "\n",
            "Batch Evaluating:  89%|████████▉ | 16/18 [00:09<00:01,  1.61it/s]\u001b[A\u001b[A\n",
            "\n",
            "Batch Evaluating:  94%|█████████▍| 17/18 [00:10<00:00,  1.61it/s]\u001b[A\u001b[A\n",
            "\n",
            "Batch Evaluating: 100%|██████████| 18/18 [00:10<00:00,  1.64it/s]\n"
          ],
          "name": "stderr"
        },
        {
          "output_type": "stream",
          "text": [
            "{\"eval_loss\": 0.40291133688555825, \"eval_accuracy\": 0.8035087719298246, \"learning_rate\": 4.768518518518519e-05, \"training_loss\": 0.54286691904068, \"step\": 25}\n"
          ],
          "name": "stdout"
        },
        {
          "output_type": "stream",
          "text": [
            "\n",
            "Batch Iteration:  46%|████▋     | 25/54 [00:52<02:39,  5.49s/it]\u001b[A\n",
            "Batch Iteration:  48%|████▊     | 26/54 [00:54<02:01,  4.35s/it]\u001b[A\n",
            "Batch Iteration:  50%|█████     | 27/54 [00:56<01:35,  3.54s/it]\u001b[A\n",
            "Batch Iteration:  52%|█████▏    | 28/54 [00:57<01:17,  2.98s/it]\u001b[A\n",
            "Batch Iteration:  54%|█████▎    | 29/54 [00:59<01:04,  2.58s/it]\u001b[A\n",
            "Batch Iteration:  56%|█████▌    | 30/54 [01:01<00:55,  2.31s/it]\u001b[A\n",
            "Batch Iteration:  57%|█████▋    | 31/54 [01:02<00:48,  2.12s/it]\u001b[A\n",
            "Batch Iteration:  59%|█████▉    | 32/54 [01:04<00:43,  1.98s/it]\u001b[A\n",
            "Batch Iteration:  61%|██████    | 33/54 [01:06<00:39,  1.89s/it]\u001b[A\n",
            "Batch Iteration:  63%|██████▎   | 34/54 [01:07<00:36,  1.83s/it]\u001b[A\n",
            "Batch Iteration:  65%|██████▍   | 35/54 [01:09<00:33,  1.79s/it]\u001b[A\n",
            "Batch Iteration:  67%|██████▋   | 36/54 [01:11<00:31,  1.76s/it]\u001b[A\n",
            "Batch Iteration:  69%|██████▊   | 37/54 [01:13<00:29,  1.73s/it]\u001b[A\n",
            "Batch Iteration:  70%|███████   | 38/54 [01:14<00:27,  1.71s/it]\u001b[A\n",
            "Batch Iteration:  72%|███████▏  | 39/54 [01:16<00:25,  1.70s/it]\u001b[A\n",
            "Batch Iteration:  74%|███████▍  | 40/54 [01:18<00:23,  1.69s/it]\u001b[A\n",
            "Batch Iteration:  76%|███████▌  | 41/54 [01:19<00:21,  1.68s/it]\u001b[A\n",
            "Batch Iteration:  78%|███████▊  | 42/54 [01:21<00:20,  1.68s/it]\u001b[A\n",
            "Batch Iteration:  80%|███████▉  | 43/54 [01:23<00:18,  1.67s/it]\u001b[A\n",
            "Batch Iteration:  81%|████████▏ | 44/54 [01:24<00:16,  1.67s/it]\u001b[A\n",
            "Batch Iteration:  83%|████████▎ | 45/54 [01:26<00:14,  1.66s/it]\u001b[A\n",
            "Batch Iteration:  85%|████████▌ | 46/54 [01:27<00:13,  1.66s/it]\u001b[A\n",
            "Batch Iteration:  87%|████████▋ | 47/54 [01:29<00:11,  1.65s/it]\u001b[A\n",
            "Batch Iteration:  89%|████████▉ | 48/54 [01:31<00:09,  1.65s/it]\u001b[A\n",
            "Batch Iteration:  91%|█████████ | 49/54 [01:32<00:08,  1.65s/it]\u001b[A\n",
            "\n",
            "Batch Evaluating:   0%|          | 0/18 [00:00<?, ?it/s]\u001b[A\u001b[A\n",
            "\n",
            "Batch Evaluating:   6%|▌         | 1/18 [00:00<00:10,  1.64it/s]\u001b[A\u001b[A\n",
            "\n",
            "Batch Evaluating:  11%|█         | 2/18 [00:01<00:09,  1.63it/s]\u001b[A\u001b[A\n",
            "\n",
            "Batch Evaluating:  17%|█▋        | 3/18 [00:01<00:09,  1.63it/s]\u001b[A\u001b[A\n",
            "\n",
            "Batch Evaluating:  22%|██▏       | 4/18 [00:02<00:08,  1.63it/s]\u001b[A\u001b[A\n",
            "\n",
            "Batch Evaluating:  28%|██▊       | 5/18 [00:03<00:07,  1.63it/s]\u001b[A\u001b[A\n",
            "\n",
            "Batch Evaluating:  33%|███▎      | 6/18 [00:03<00:07,  1.63it/s]\u001b[A\u001b[A\n",
            "\n",
            "Batch Evaluating:  39%|███▉      | 7/18 [00:04<00:06,  1.63it/s]\u001b[A\u001b[A\n",
            "\n",
            "Batch Evaluating:  44%|████▍     | 8/18 [00:04<00:06,  1.63it/s]\u001b[A\u001b[A\n",
            "\n",
            "Batch Evaluating:  50%|█████     | 9/18 [00:05<00:05,  1.63it/s]\u001b[A\u001b[A\n",
            "\n",
            "Batch Evaluating:  56%|█████▌    | 10/18 [00:06<00:04,  1.63it/s]\u001b[A\u001b[A\n",
            "\n",
            "Batch Evaluating:  61%|██████    | 11/18 [00:06<00:04,  1.63it/s]\u001b[A\u001b[A\n",
            "\n",
            "Batch Evaluating:  67%|██████▋   | 12/18 [00:07<00:03,  1.63it/s]\u001b[A\u001b[A\n",
            "\n",
            "Batch Evaluating:  72%|███████▏  | 13/18 [00:07<00:03,  1.63it/s]\u001b[A\u001b[A\n",
            "\n",
            "Batch Evaluating:  78%|███████▊  | 14/18 [00:08<00:02,  1.63it/s]\u001b[A\u001b[A\n",
            "\n",
            "Batch Evaluating:  83%|████████▎ | 15/18 [00:09<00:01,  1.63it/s]\u001b[A\u001b[A\n",
            "\n",
            "Batch Evaluating:  89%|████████▉ | 16/18 [00:09<00:01,  1.63it/s]\u001b[A\u001b[A\n",
            "\n",
            "Batch Evaluating:  94%|█████████▍| 17/18 [00:10<00:00,  1.64it/s]\u001b[A\u001b[A\n",
            "\n",
            "Batch Evaluating: 100%|██████████| 18/18 [00:10<00:00,  1.65it/s]\n"
          ],
          "name": "stderr"
        },
        {
          "output_type": "stream",
          "text": [
            "{\"eval_loss\": 0.3448761577407519, \"eval_accuracy\": 0.8491228070175438, \"learning_rate\": 4.5370370370370374e-05, \"training_loss\": 0.3921621561050415, \"step\": 50}\n"
          ],
          "name": "stdout"
        },
        {
          "output_type": "stream",
          "text": [
            "\n",
            "Batch Iteration:  93%|█████████▎| 50/54 [01:47<00:21,  5.48s/it]\u001b[A\n",
            "Batch Iteration:  94%|█████████▍| 51/54 [01:48<00:12,  4.31s/it]\u001b[A\n",
            "Batch Iteration:  96%|█████████▋| 52/54 [01:50<00:07,  3.51s/it]\u001b[A\n",
            "Batch Iteration:  98%|█████████▊| 53/54 [01:52<00:02,  2.94s/it]\u001b[A\n",
            "Batch Iteration: 100%|██████████| 54/54 [01:52<00:00,  2.09s/it]\n",
            "\n",
            "Batch Evaluating:   0%|          | 0/18 [00:00<?, ?it/s]\u001b[A\n",
            "Batch Evaluating:   6%|▌         | 1/18 [00:00<00:10,  1.67it/s]\u001b[A\n",
            "Batch Evaluating:  11%|█         | 2/18 [00:01<00:09,  1.66it/s]\u001b[A\n",
            "Batch Evaluating:  17%|█▋        | 3/18 [00:01<00:09,  1.65it/s]\u001b[A\n",
            "Batch Evaluating:  22%|██▏       | 4/18 [00:02<00:08,  1.65it/s]\u001b[A\n",
            "Batch Evaluating:  28%|██▊       | 5/18 [00:03<00:07,  1.65it/s]\u001b[A\n",
            "Batch Evaluating:  33%|███▎      | 6/18 [00:03<00:07,  1.65it/s]\u001b[A\n",
            "Batch Evaluating:  39%|███▉      | 7/18 [00:04<00:06,  1.65it/s]\u001b[A\n",
            "Batch Evaluating:  44%|████▍     | 8/18 [00:04<00:06,  1.64it/s]\u001b[A\n",
            "Batch Evaluating:  50%|█████     | 9/18 [00:05<00:05,  1.64it/s]\u001b[A\n",
            "Batch Evaluating:  56%|█████▌    | 10/18 [00:06<00:04,  1.64it/s]\u001b[A\n",
            "Batch Evaluating:  61%|██████    | 11/18 [00:06<00:04,  1.64it/s]\u001b[A\n",
            "Batch Evaluating:  67%|██████▋   | 12/18 [00:07<00:03,  1.64it/s]\u001b[A\n",
            "Batch Evaluating:  72%|███████▏  | 13/18 [00:07<00:03,  1.64it/s]\u001b[A\n",
            "Batch Evaluating:  78%|███████▊  | 14/18 [00:08<00:02,  1.64it/s]\u001b[A\n",
            "Batch Evaluating:  83%|████████▎ | 15/18 [00:09<00:01,  1.64it/s]\u001b[A\n",
            "Batch Evaluating:  89%|████████▉ | 16/18 [00:09<00:01,  1.64it/s]\u001b[A\n",
            "Batch Evaluating:  94%|█████████▍| 17/18 [00:10<00:00,  1.64it/s]\u001b[A\n",
            "Batch Evaluating: 100%|██████████| 18/18 [00:10<00:00,  1.66it/s]\n",
            "Epoch:  10%|█         | 1/10 [02:03<18:33, 123.68s/it]\n",
            "Batch Iteration:   0%|          | 0/54 [00:00<?, ?it/s]\u001b[A\n",
            "Batch Iteration:   2%|▏         | 1/54 [00:01<01:25,  1.61s/it]\u001b[A\n",
            "Batch Iteration:   4%|▎         | 2/54 [00:03<01:23,  1.61s/it]\u001b[A\n",
            "Batch Iteration:   6%|▌         | 3/54 [00:04<01:22,  1.62s/it]\u001b[A\n",
            "Batch Iteration:   7%|▋         | 4/54 [00:06<01:20,  1.62s/it]\u001b[A\n",
            "Batch Iteration:   9%|▉         | 5/54 [00:08<01:19,  1.63s/it]\u001b[A\n",
            "Batch Iteration:  11%|█         | 6/54 [00:09<01:18,  1.63s/it]\u001b[A\n",
            "Batch Iteration:  13%|█▎        | 7/54 [00:11<01:16,  1.64s/it]\u001b[A\n",
            "Batch Iteration:  15%|█▍        | 8/54 [00:13<01:15,  1.64s/it]\u001b[A\n",
            "Batch Iteration:  17%|█▋        | 9/54 [00:14<01:13,  1.64s/it]\u001b[A\n",
            "Batch Iteration:  19%|█▊        | 10/54 [00:16<01:12,  1.64s/it]\u001b[A\n",
            "Batch Iteration:  20%|██        | 11/54 [00:17<01:10,  1.64s/it]\u001b[A\n",
            "Batch Iteration:  22%|██▏       | 12/54 [00:19<01:08,  1.64s/it]\u001b[A\n",
            "Batch Iteration:  24%|██▍       | 13/54 [00:21<01:07,  1.64s/it]\u001b[A\n",
            "Batch Iteration:  26%|██▌       | 14/54 [00:22<01:05,  1.64s/it]\u001b[A\n",
            "Batch Iteration:  28%|██▊       | 15/54 [00:24<01:04,  1.64s/it]\u001b[A\n",
            "Batch Iteration:  30%|██▉       | 16/54 [00:26<01:02,  1.64s/it]\u001b[A\n",
            "Batch Iteration:  31%|███▏      | 17/54 [00:27<01:00,  1.64s/it]\u001b[A\n",
            "Batch Iteration:  33%|███▎      | 18/54 [00:29<00:59,  1.64s/it]\u001b[A\n",
            "Batch Iteration:  35%|███▌      | 19/54 [00:31<00:57,  1.64s/it]\u001b[A\n",
            "Batch Iteration:  37%|███▋      | 20/54 [00:32<00:55,  1.64s/it]\u001b[A\n",
            "\n",
            "Batch Evaluating:   0%|          | 0/18 [00:00<?, ?it/s]\u001b[A\u001b[A\n",
            "\n",
            "Batch Evaluating:   6%|▌         | 1/18 [00:00<00:10,  1.65it/s]\u001b[A\u001b[A\n",
            "\n",
            "Batch Evaluating:  11%|█         | 2/18 [00:01<00:09,  1.63it/s]\u001b[A\u001b[A\n",
            "\n",
            "Batch Evaluating:  17%|█▋        | 3/18 [00:01<00:09,  1.62it/s]\u001b[A\u001b[A\n",
            "\n",
            "Batch Evaluating:  22%|██▏       | 4/18 [00:02<00:08,  1.61it/s]\u001b[A\u001b[A\n",
            "\n",
            "Batch Evaluating:  28%|██▊       | 5/18 [00:03<00:08,  1.61it/s]\u001b[A\u001b[A\n",
            "\n",
            "Batch Evaluating:  33%|███▎      | 6/18 [00:03<00:07,  1.61it/s]\u001b[A\u001b[A\n",
            "\n",
            "Batch Evaluating:  39%|███▉      | 7/18 [00:04<00:06,  1.60it/s]\u001b[A\u001b[A\n",
            "\n",
            "Batch Evaluating:  44%|████▍     | 8/18 [00:04<00:06,  1.60it/s]\u001b[A\u001b[A\n",
            "\n",
            "Batch Evaluating:  50%|█████     | 9/18 [00:05<00:05,  1.61it/s]\u001b[A\u001b[A\n",
            "\n",
            "Batch Evaluating:  56%|█████▌    | 10/18 [00:06<00:04,  1.60it/s]\u001b[A\u001b[A\n",
            "\n",
            "Batch Evaluating:  61%|██████    | 11/18 [00:06<00:04,  1.60it/s]\u001b[A\u001b[A\n",
            "\n",
            "Batch Evaluating:  67%|██████▋   | 12/18 [00:07<00:03,  1.60it/s]\u001b[A\u001b[A\n",
            "\n",
            "Batch Evaluating:  72%|███████▏  | 13/18 [00:08<00:03,  1.60it/s]\u001b[A\u001b[A\n",
            "\n",
            "Batch Evaluating:  78%|███████▊  | 14/18 [00:08<00:02,  1.60it/s]\u001b[A\u001b[A\n",
            "\n",
            "Batch Evaluating:  83%|████████▎ | 15/18 [00:09<00:01,  1.60it/s]\u001b[A\u001b[A\n",
            "\n",
            "Batch Evaluating:  89%|████████▉ | 16/18 [00:09<00:01,  1.60it/s]\u001b[A\u001b[A\n",
            "\n",
            "Batch Evaluating:  94%|█████████▍| 17/18 [00:10<00:00,  1.60it/s]\u001b[A\u001b[A\n",
            "\n",
            "Batch Evaluating: 100%|██████████| 18/18 [00:11<00:00,  1.62it/s]\n"
          ],
          "name": "stderr"
        },
        {
          "output_type": "stream",
          "text": [
            "{\"eval_loss\": 0.36997808350457084, \"eval_accuracy\": 0.8456140350877193, \"learning_rate\": 4.305555555555556e-05, \"training_loss\": 0.29610888540744784, \"step\": 75}\n"
          ],
          "name": "stdout"
        },
        {
          "output_type": "stream",
          "text": [
            "\n",
            "Batch Iteration:  39%|███▉      | 21/54 [00:47<03:02,  5.53s/it]\u001b[A\n",
            "Batch Iteration:  41%|████      | 22/54 [00:49<02:19,  4.36s/it]\u001b[A\n",
            "Batch Iteration:  43%|████▎     | 23/54 [00:50<01:49,  3.55s/it]\u001b[A\n",
            "Batch Iteration:  44%|████▍     | 24/54 [00:52<01:29,  2.98s/it]\u001b[A\n",
            "Batch Iteration:  46%|████▋     | 25/54 [00:53<01:14,  2.58s/it]\u001b[A\n",
            "Batch Iteration:  48%|████▊     | 26/54 [00:55<01:04,  2.30s/it]\u001b[A\n",
            "Batch Iteration:  50%|█████     | 27/54 [00:57<00:56,  2.10s/it]\u001b[A\n",
            "Batch Iteration:  52%|█████▏    | 28/54 [00:58<00:51,  1.96s/it]\u001b[A\n",
            "Batch Iteration:  54%|█████▎    | 29/54 [01:00<00:46,  1.87s/it]\u001b[A\n",
            "Batch Iteration:  56%|█████▌    | 30/54 [01:02<00:43,  1.80s/it]\u001b[A\n",
            "Batch Iteration:  57%|█████▋    | 31/54 [01:03<00:40,  1.76s/it]\u001b[A\n",
            "Batch Iteration:  59%|█████▉    | 32/54 [01:05<00:37,  1.72s/it]\u001b[A\n",
            "Batch Iteration:  61%|██████    | 33/54 [01:07<00:35,  1.70s/it]\u001b[A\n",
            "Batch Iteration:  63%|██████▎   | 34/54 [01:08<00:33,  1.68s/it]\u001b[A\n",
            "Batch Iteration:  65%|██████▍   | 35/54 [01:10<00:31,  1.67s/it]\u001b[A\n",
            "Batch Iteration:  67%|██████▋   | 36/54 [01:12<00:29,  1.67s/it]\u001b[A\n",
            "Batch Iteration:  69%|██████▊   | 37/54 [01:13<00:28,  1.66s/it]\u001b[A\n",
            "Batch Iteration:  70%|███████   | 38/54 [01:15<00:26,  1.66s/it]\u001b[A\n",
            "Batch Iteration:  72%|███████▏  | 39/54 [01:16<00:24,  1.65s/it]\u001b[A\n",
            "Batch Iteration:  74%|███████▍  | 40/54 [01:18<00:23,  1.65s/it]\u001b[A\n",
            "Batch Iteration:  76%|███████▌  | 41/54 [01:20<00:21,  1.65s/it]\u001b[A\n",
            "Batch Iteration:  78%|███████▊  | 42/54 [01:21<00:19,  1.65s/it]\u001b[A\n",
            "Batch Iteration:  80%|███████▉  | 43/54 [01:23<00:18,  1.65s/it]\u001b[A\n",
            "Batch Iteration:  81%|████████▏ | 44/54 [01:25<00:16,  1.64s/it]\u001b[A\n",
            "Batch Iteration:  83%|████████▎ | 45/54 [01:26<00:14,  1.64s/it]\u001b[A\n",
            "\n",
            "Batch Evaluating:   0%|          | 0/18 [00:00<?, ?it/s]\u001b[A\u001b[A\n",
            "\n",
            "Batch Evaluating:   6%|▌         | 1/18 [00:00<00:10,  1.63it/s]\u001b[A\u001b[A\n",
            "\n",
            "Batch Evaluating:  11%|█         | 2/18 [00:01<00:09,  1.63it/s]\u001b[A\u001b[A\n",
            "\n",
            "Batch Evaluating:  17%|█▋        | 3/18 [00:01<00:09,  1.62it/s]\u001b[A\u001b[A\n",
            "\n",
            "Batch Evaluating:  22%|██▏       | 4/18 [00:02<00:08,  1.62it/s]\u001b[A\u001b[A\n",
            "\n",
            "Batch Evaluating:  28%|██▊       | 5/18 [00:03<00:08,  1.62it/s]\u001b[A\u001b[A\n",
            "\n",
            "Batch Evaluating:  33%|███▎      | 6/18 [00:03<00:07,  1.62it/s]\u001b[A\u001b[A\n",
            "\n",
            "Batch Evaluating:  39%|███▉      | 7/18 [00:04<00:06,  1.61it/s]\u001b[A\u001b[A\n",
            "\n",
            "Batch Evaluating:  44%|████▍     | 8/18 [00:04<00:06,  1.61it/s]\u001b[A\u001b[A\n",
            "\n",
            "Batch Evaluating:  50%|█████     | 9/18 [00:05<00:05,  1.62it/s]\u001b[A\u001b[A\n",
            "\n",
            "Batch Evaluating:  56%|█████▌    | 10/18 [00:06<00:04,  1.61it/s]\u001b[A\u001b[A\n",
            "\n",
            "Batch Evaluating:  61%|██████    | 11/18 [00:06<00:04,  1.61it/s]\u001b[A\u001b[A\n",
            "\n",
            "Batch Evaluating:  67%|██████▋   | 12/18 [00:07<00:03,  1.61it/s]\u001b[A\u001b[A\n",
            "\n",
            "Batch Evaluating:  72%|███████▏  | 13/18 [00:08<00:03,  1.61it/s]\u001b[A\u001b[A\n",
            "\n",
            "Batch Evaluating:  78%|███████▊  | 14/18 [00:08<00:02,  1.61it/s]\u001b[A\u001b[A\n",
            "\n",
            "Batch Evaluating:  83%|████████▎ | 15/18 [00:09<00:01,  1.61it/s]\u001b[A\u001b[A\n",
            "\n",
            "Batch Evaluating:  89%|████████▉ | 16/18 [00:09<00:01,  1.61it/s]\u001b[A\u001b[A\n",
            "\n",
            "Batch Evaluating:  94%|█████████▍| 17/18 [00:10<00:00,  1.61it/s]\u001b[A\u001b[A\n",
            "\n",
            "Batch Evaluating: 100%|██████████| 18/18 [00:11<00:00,  1.63it/s]\n"
          ],
          "name": "stderr"
        },
        {
          "output_type": "stream",
          "text": [
            "{\"eval_loss\": 0.34608689695596695, \"eval_accuracy\": 0.8631578947368421, \"learning_rate\": 4.074074074074074e-05, \"training_loss\": 0.29104862213134763, \"step\": 100}\n"
          ],
          "name": "stdout"
        },
        {
          "output_type": "stream",
          "text": [
            "\n",
            "Batch Iteration:  85%|████████▌ | 46/54 [01:41<00:44,  5.55s/it]\u001b[A\n",
            "Batch Iteration:  87%|████████▋ | 47/54 [01:43<00:30,  4.38s/it]\u001b[A\n",
            "Batch Iteration:  89%|████████▉ | 48/54 [01:44<00:21,  3.56s/it]\u001b[A\n",
            "Batch Iteration:  91%|█████████ | 49/54 [01:46<00:14,  2.99s/it]\u001b[A\n",
            "Batch Iteration:  93%|█████████▎| 50/54 [01:48<00:10,  2.58s/it]\u001b[A\n",
            "Batch Iteration:  94%|█████████▍| 51/54 [01:49<00:06,  2.30s/it]\u001b[A\n",
            "Batch Iteration:  96%|█████████▋| 52/54 [01:51<00:04,  2.10s/it]\u001b[A\n",
            "Batch Iteration:  98%|█████████▊| 53/54 [01:53<00:01,  1.96s/it]\u001b[A\n",
            "Batch Iteration: 100%|██████████| 54/54 [01:53<00:00,  2.10s/it]\n",
            "\n",
            "Batch Evaluating:   0%|          | 0/18 [00:00<?, ?it/s]\u001b[A\n",
            "Batch Evaluating:   6%|▌         | 1/18 [00:00<00:10,  1.63it/s]\u001b[A\n",
            "Batch Evaluating:  11%|█         | 2/18 [00:01<00:09,  1.62it/s]\u001b[A\n",
            "Batch Evaluating:  17%|█▋        | 3/18 [00:01<00:09,  1.62it/s]\u001b[A\n",
            "Batch Evaluating:  22%|██▏       | 4/18 [00:02<00:08,  1.62it/s]\u001b[A\n",
            "Batch Evaluating:  28%|██▊       | 5/18 [00:03<00:08,  1.61it/s]\u001b[A\n",
            "Batch Evaluating:  33%|███▎      | 6/18 [00:03<00:07,  1.61it/s]\u001b[A\n",
            "Batch Evaluating:  39%|███▉      | 7/18 [00:04<00:06,  1.61it/s]\u001b[A\n",
            "Batch Evaluating:  44%|████▍     | 8/18 [00:04<00:06,  1.61it/s]\u001b[A\n",
            "Batch Evaluating:  50%|█████     | 9/18 [00:05<00:05,  1.61it/s]\u001b[A\n",
            "Batch Evaluating:  56%|█████▌    | 10/18 [00:06<00:04,  1.61it/s]\u001b[A\n",
            "Batch Evaluating:  61%|██████    | 11/18 [00:06<00:04,  1.61it/s]\u001b[A\n",
            "Batch Evaluating:  67%|██████▋   | 12/18 [00:07<00:03,  1.61it/s]\u001b[A\n",
            "Batch Evaluating:  72%|███████▏  | 13/18 [00:08<00:03,  1.61it/s]\u001b[A\n",
            "Batch Evaluating:  78%|███████▊  | 14/18 [00:08<00:02,  1.61it/s]\u001b[A\n",
            "Batch Evaluating:  83%|████████▎ | 15/18 [00:09<00:01,  1.61it/s]\u001b[A\n",
            "Batch Evaluating:  89%|████████▉ | 16/18 [00:09<00:01,  1.61it/s]\u001b[A\n",
            "Batch Evaluating:  94%|█████████▍| 17/18 [00:10<00:00,  1.61it/s]\u001b[A\n",
            "Batch Evaluating: 100%|██████████| 18/18 [00:11<00:00,  1.63it/s]\n",
            "Epoch:  20%|██        | 2/10 [04:08<16:31, 124.00s/it]\n",
            "Batch Iteration:   0%|          | 0/54 [00:00<?, ?it/s]\u001b[A\n",
            "Batch Iteration:   2%|▏         | 1/54 [00:01<01:26,  1.63s/it]\u001b[A\n",
            "Batch Iteration:   4%|▎         | 2/54 [00:03<01:25,  1.64s/it]\u001b[A\n",
            "Batch Iteration:   6%|▌         | 3/54 [00:04<01:23,  1.64s/it]\u001b[A\n",
            "Batch Iteration:   7%|▋         | 4/54 [00:06<01:22,  1.64s/it]\u001b[A\n",
            "Batch Iteration:   9%|▉         | 5/54 [00:08<01:20,  1.64s/it]\u001b[A\n",
            "Batch Iteration:  11%|█         | 6/54 [00:09<01:18,  1.64s/it]\u001b[A\n",
            "Batch Iteration:  13%|█▎        | 7/54 [00:11<01:17,  1.65s/it]\u001b[A\n",
            "Batch Iteration:  15%|█▍        | 8/54 [00:13<01:15,  1.65s/it]\u001b[A\n",
            "Batch Iteration:  17%|█▋        | 9/54 [00:14<01:14,  1.65s/it]\u001b[A\n",
            "Batch Iteration:  19%|█▊        | 10/54 [00:16<01:12,  1.65s/it]\u001b[A\n",
            "Batch Iteration:  20%|██        | 11/54 [00:18<01:10,  1.65s/it]\u001b[A\n",
            "Batch Iteration:  22%|██▏       | 12/54 [00:19<01:09,  1.64s/it]\u001b[A\n",
            "Batch Iteration:  24%|██▍       | 13/54 [00:21<01:07,  1.64s/it]\u001b[A\n",
            "Batch Iteration:  26%|██▌       | 14/54 [00:23<01:05,  1.64s/it]\u001b[A\n",
            "Batch Iteration:  28%|██▊       | 15/54 [00:24<01:04,  1.64s/it]\u001b[A\n",
            "Batch Iteration:  30%|██▉       | 16/54 [00:26<01:02,  1.64s/it]\u001b[A\n",
            "\n",
            "Batch Evaluating:   0%|          | 0/18 [00:00<?, ?it/s]\u001b[A\u001b[A\n",
            "\n",
            "Batch Evaluating:   6%|▌         | 1/18 [00:00<00:10,  1.63it/s]\u001b[A\u001b[A\n",
            "\n",
            "Batch Evaluating:  11%|█         | 2/18 [00:01<00:09,  1.62it/s]\u001b[A\u001b[A\n",
            "\n",
            "Batch Evaluating:  17%|█▋        | 3/18 [00:01<00:09,  1.61it/s]\u001b[A\u001b[A\n",
            "\n",
            "Batch Evaluating:  22%|██▏       | 4/18 [00:02<00:08,  1.61it/s]\u001b[A\u001b[A\n",
            "\n",
            "Batch Evaluating:  28%|██▊       | 5/18 [00:03<00:08,  1.61it/s]\u001b[A\u001b[A\n",
            "\n",
            "Batch Evaluating:  33%|███▎      | 6/18 [00:03<00:07,  1.61it/s]\u001b[A\u001b[A\n",
            "\n",
            "Batch Evaluating:  39%|███▉      | 7/18 [00:04<00:06,  1.61it/s]\u001b[A\u001b[A\n",
            "\n",
            "Batch Evaluating:  44%|████▍     | 8/18 [00:04<00:06,  1.61it/s]\u001b[A\u001b[A\n",
            "\n",
            "Batch Evaluating:  50%|█████     | 9/18 [00:05<00:05,  1.61it/s]\u001b[A\u001b[A\n",
            "\n",
            "Batch Evaluating:  56%|█████▌    | 10/18 [00:06<00:04,  1.61it/s]\u001b[A\u001b[A\n",
            "\n",
            "Batch Evaluating:  61%|██████    | 11/18 [00:06<00:04,  1.61it/s]\u001b[A\u001b[A\n",
            "\n",
            "Batch Evaluating:  67%|██████▋   | 12/18 [00:07<00:03,  1.61it/s]\u001b[A\u001b[A\n",
            "\n",
            "Batch Evaluating:  72%|███████▏  | 13/18 [00:08<00:03,  1.61it/s]\u001b[A\u001b[A\n",
            "\n",
            "Batch Evaluating:  78%|███████▊  | 14/18 [00:08<00:02,  1.61it/s]\u001b[A\u001b[A\n",
            "\n",
            "Batch Evaluating:  83%|████████▎ | 15/18 [00:09<00:01,  1.61it/s]\u001b[A\u001b[A\n",
            "\n",
            "Batch Evaluating:  89%|████████▉ | 16/18 [00:09<00:01,  1.61it/s]\u001b[A\u001b[A\n",
            "\n",
            "Batch Evaluating:  94%|█████████▍| 17/18 [00:10<00:00,  1.61it/s]\u001b[A\u001b[A\n",
            "\n",
            "Batch Evaluating: 100%|██████████| 18/18 [00:11<00:00,  1.62it/s]\n"
          ],
          "name": "stderr"
        },
        {
          "output_type": "stream",
          "text": [
            "{\"eval_loss\": 0.3996376312441296, \"eval_accuracy\": 0.8578947368421053, \"learning_rate\": 3.8425925925925924e-05, \"training_loss\": 0.24063282281160356, \"step\": 125}\n"
          ],
          "name": "stdout"
        },
        {
          "output_type": "stream",
          "text": [
            "\n",
            "Batch Iteration:  31%|███▏      | 17/54 [00:41<03:26,  5.58s/it]\u001b[A\n",
            "Batch Iteration:  33%|███▎      | 18/54 [00:42<02:38,  4.41s/it]\u001b[A\n",
            "Batch Iteration:  35%|███▌      | 19/54 [00:44<02:05,  3.58s/it]\u001b[A\n",
            "Batch Iteration:  37%|███▋      | 20/54 [00:46<01:41,  3.00s/it]\u001b[A\n",
            "Batch Iteration:  39%|███▉      | 21/54 [00:47<01:25,  2.59s/it]\u001b[A\n",
            "Batch Iteration:  41%|████      | 22/54 [00:49<01:13,  2.31s/it]\u001b[A\n",
            "Batch Iteration:  43%|████▎     | 23/54 [00:50<01:05,  2.11s/it]\u001b[A\n",
            "Batch Iteration:  44%|████▍     | 24/54 [00:52<00:59,  1.97s/it]\u001b[A\n",
            "Batch Iteration:  46%|████▋     | 25/54 [00:54<00:54,  1.87s/it]\u001b[A\n",
            "Batch Iteration:  48%|████▊     | 26/54 [00:55<00:50,  1.80s/it]\u001b[A\n",
            "Batch Iteration:  50%|█████     | 27/54 [00:57<00:47,  1.76s/it]\u001b[A\n",
            "Batch Iteration:  52%|█████▏    | 28/54 [00:59<00:44,  1.72s/it]\u001b[A\n",
            "Batch Iteration:  54%|█████▎    | 29/54 [01:00<00:42,  1.70s/it]\u001b[A\n",
            "Batch Iteration:  56%|█████▌    | 30/54 [01:02<00:40,  1.68s/it]\u001b[A\n",
            "Batch Iteration:  57%|█████▋    | 31/54 [01:04<00:38,  1.67s/it]\u001b[A\n",
            "Batch Iteration:  59%|█████▉    | 32/54 [01:05<00:36,  1.66s/it]\u001b[A\n",
            "Batch Iteration:  61%|██████    | 33/54 [01:07<00:34,  1.66s/it]\u001b[A\n",
            "Batch Iteration:  63%|██████▎   | 34/54 [01:09<00:33,  1.65s/it]\u001b[A\n",
            "Batch Iteration:  65%|██████▍   | 35/54 [01:10<00:31,  1.65s/it]\u001b[A\n",
            "Batch Iteration:  67%|██████▋   | 36/54 [01:12<00:29,  1.65s/it]\u001b[A\n",
            "Batch Iteration:  69%|██████▊   | 37/54 [01:14<00:28,  1.65s/it]\u001b[A\n",
            "Batch Iteration:  70%|███████   | 38/54 [01:15<00:26,  1.65s/it]\u001b[A\n",
            "Batch Iteration:  72%|███████▏  | 39/54 [01:17<00:24,  1.65s/it]\u001b[A\n",
            "Batch Iteration:  74%|███████▍  | 40/54 [01:18<00:23,  1.65s/it]\u001b[A\n",
            "Batch Iteration:  76%|███████▌  | 41/54 [01:20<00:21,  1.65s/it]\u001b[A\n",
            "\n",
            "Batch Evaluating:   0%|          | 0/18 [00:00<?, ?it/s]\u001b[A\u001b[A\n",
            "\n",
            "Batch Evaluating:   6%|▌         | 1/18 [00:00<00:10,  1.63it/s]\u001b[A\u001b[A\n",
            "\n",
            "Batch Evaluating:  11%|█         | 2/18 [00:01<00:09,  1.63it/s]\u001b[A\u001b[A\n",
            "\n",
            "Batch Evaluating:  17%|█▋        | 3/18 [00:01<00:09,  1.62it/s]\u001b[A\u001b[A\n",
            "\n",
            "Batch Evaluating:  22%|██▏       | 4/18 [00:02<00:08,  1.62it/s]\u001b[A\u001b[A\n",
            "\n",
            "Batch Evaluating:  28%|██▊       | 5/18 [00:03<00:08,  1.62it/s]\u001b[A\u001b[A\n",
            "\n",
            "Batch Evaluating:  33%|███▎      | 6/18 [00:03<00:07,  1.62it/s]\u001b[A\u001b[A\n",
            "\n",
            "Batch Evaluating:  39%|███▉      | 7/18 [00:04<00:06,  1.62it/s]\u001b[A\u001b[A\n",
            "\n",
            "Batch Evaluating:  44%|████▍     | 8/18 [00:04<00:06,  1.61it/s]\u001b[A\u001b[A\n",
            "\n",
            "Batch Evaluating:  50%|█████     | 9/18 [00:05<00:05,  1.61it/s]\u001b[A\u001b[A\n",
            "\n",
            "Batch Evaluating:  56%|█████▌    | 10/18 [00:06<00:04,  1.61it/s]\u001b[A\u001b[A\n",
            "\n",
            "Batch Evaluating:  61%|██████    | 11/18 [00:06<00:04,  1.61it/s]\u001b[A\u001b[A\n",
            "\n",
            "Batch Evaluating:  67%|██████▋   | 12/18 [00:07<00:03,  1.61it/s]\u001b[A\u001b[A\n",
            "\n",
            "Batch Evaluating:  72%|███████▏  | 13/18 [00:08<00:03,  1.61it/s]\u001b[A\u001b[A\n",
            "\n",
            "Batch Evaluating:  78%|███████▊  | 14/18 [00:08<00:02,  1.61it/s]\u001b[A\u001b[A\n",
            "\n",
            "Batch Evaluating:  83%|████████▎ | 15/18 [00:09<00:01,  1.61it/s]\u001b[A\u001b[A\n",
            "\n",
            "Batch Evaluating:  89%|████████▉ | 16/18 [00:09<00:01,  1.61it/s]\u001b[A\u001b[A\n",
            "\n",
            "Batch Evaluating:  94%|█████████▍| 17/18 [00:10<00:00,  1.61it/s]\u001b[A\u001b[A\n",
            "\n",
            "Batch Evaluating: 100%|██████████| 18/18 [00:11<00:00,  1.63it/s]\n"
          ],
          "name": "stderr"
        },
        {
          "output_type": "stream",
          "text": [
            "{\"eval_loss\": 0.3876345944073465, \"eval_accuracy\": 0.8473684210526315, \"learning_rate\": 3.611111111111111e-05, \"training_loss\": 0.20515935778617858, \"step\": 150}\n"
          ],
          "name": "stdout"
        },
        {
          "output_type": "stream",
          "text": [
            "\n",
            "Batch Iteration:  78%|███████▊  | 42/54 [01:35<01:06,  5.53s/it]\u001b[A\n",
            "Batch Iteration:  80%|███████▉  | 43/54 [01:36<00:48,  4.37s/it]\u001b[A\n",
            "Batch Iteration:  81%|████████▏ | 44/54 [01:38<00:35,  3.55s/it]\u001b[A\n",
            "Batch Iteration:  83%|████████▎ | 45/54 [01:40<00:26,  2.98s/it]\u001b[A\n",
            "Batch Iteration:  85%|████████▌ | 46/54 [01:41<00:20,  2.58s/it]\u001b[A\n",
            "Batch Iteration:  87%|████████▋ | 47/54 [01:43<00:16,  2.30s/it]\u001b[A\n",
            "Batch Iteration:  89%|████████▉ | 48/54 [01:45<00:12,  2.10s/it]\u001b[A\n",
            "Batch Iteration:  91%|█████████ | 49/54 [01:46<00:09,  1.97s/it]\u001b[A\n",
            "Batch Iteration:  93%|█████████▎| 50/54 [01:48<00:07,  1.87s/it]\u001b[A\n",
            "Batch Iteration:  94%|█████████▍| 51/54 [01:50<00:05,  1.80s/it]\u001b[A\n",
            "Batch Iteration:  96%|█████████▋| 52/54 [01:51<00:03,  1.75s/it]\u001b[A\n",
            "Batch Iteration:  98%|█████████▊| 53/54 [01:53<00:01,  1.72s/it]\u001b[A\n",
            "Batch Iteration: 100%|██████████| 54/54 [01:53<00:00,  2.11s/it]\n",
            "\n",
            "Batch Evaluating:   0%|          | 0/18 [00:00<?, ?it/s]\u001b[A\n",
            "Batch Evaluating:   6%|▌         | 1/18 [00:00<00:10,  1.63it/s]\u001b[A\n",
            "Batch Evaluating:  11%|█         | 2/18 [00:01<00:09,  1.62it/s]\u001b[A\n",
            "Batch Evaluating:  17%|█▋        | 3/18 [00:01<00:09,  1.61it/s]\u001b[A\n",
            "Batch Evaluating:  22%|██▏       | 4/18 [00:02<00:08,  1.61it/s]\u001b[A\n",
            "Batch Evaluating:  28%|██▊       | 5/18 [00:03<00:08,  1.61it/s]\u001b[A\n",
            "Batch Evaluating:  33%|███▎      | 6/18 [00:03<00:07,  1.60it/s]\u001b[A\n",
            "Batch Evaluating:  39%|███▉      | 7/18 [00:04<00:06,  1.60it/s]\u001b[A\n",
            "Batch Evaluating:  44%|████▍     | 8/18 [00:04<00:06,  1.61it/s]\u001b[A\n",
            "Batch Evaluating:  50%|█████     | 9/18 [00:05<00:05,  1.61it/s]\u001b[A\n",
            "Batch Evaluating:  56%|█████▌    | 10/18 [00:06<00:04,  1.60it/s]\u001b[A\n",
            "Batch Evaluating:  61%|██████    | 11/18 [00:06<00:04,  1.60it/s]\u001b[A\n",
            "Batch Evaluating:  67%|██████▋   | 12/18 [00:07<00:03,  1.61it/s]\u001b[A\n",
            "Batch Evaluating:  72%|███████▏  | 13/18 [00:08<00:03,  1.60it/s]\u001b[A\n",
            "Batch Evaluating:  78%|███████▊  | 14/18 [00:08<00:02,  1.60it/s]\u001b[A\n",
            "Batch Evaluating:  83%|████████▎ | 15/18 [00:09<00:01,  1.60it/s]\u001b[A\n",
            "Batch Evaluating:  89%|████████▉ | 16/18 [00:09<00:01,  1.60it/s]\u001b[A\n",
            "Batch Evaluating:  94%|█████████▍| 17/18 [00:10<00:00,  1.60it/s]\u001b[A\n",
            "Batch Evaluating: 100%|██████████| 18/18 [00:11<00:00,  1.62it/s]\n",
            "Epoch:  30%|███       | 3/10 [06:13<14:30, 124.32s/it]\n",
            "Batch Iteration:   0%|          | 0/54 [00:00<?, ?it/s]\u001b[A\n",
            "Batch Iteration:   2%|▏         | 1/54 [00:01<01:26,  1.63s/it]\u001b[A\n",
            "Batch Iteration:   4%|▎         | 2/54 [00:03<01:24,  1.63s/it]\u001b[A\n",
            "Batch Iteration:   6%|▌         | 3/54 [00:04<01:23,  1.64s/it]\u001b[A\n",
            "Batch Iteration:   7%|▋         | 4/54 [00:06<01:21,  1.64s/it]\u001b[A\n",
            "Batch Iteration:   9%|▉         | 5/54 [00:08<01:20,  1.64s/it]\u001b[A\n",
            "Batch Iteration:  11%|█         | 6/54 [00:09<01:18,  1.64s/it]\u001b[A\n",
            "Batch Iteration:  13%|█▎        | 7/54 [00:11<01:17,  1.64s/it]\u001b[A\n",
            "Batch Iteration:  15%|█▍        | 8/54 [00:13<01:15,  1.64s/it]\u001b[A\n",
            "Batch Iteration:  17%|█▋        | 9/54 [00:14<01:14,  1.65s/it]\u001b[A\n",
            "Batch Iteration:  19%|█▊        | 10/54 [00:16<01:12,  1.65s/it]\u001b[A\n",
            "Batch Iteration:  20%|██        | 11/54 [00:18<01:10,  1.65s/it]\u001b[A\n",
            "Batch Iteration:  22%|██▏       | 12/54 [00:19<01:09,  1.65s/it]\u001b[A\n",
            "\n",
            "Batch Evaluating:   0%|          | 0/18 [00:00<?, ?it/s]\u001b[A\u001b[A\n",
            "\n",
            "Batch Evaluating:   6%|▌         | 1/18 [00:00<00:10,  1.63it/s]\u001b[A\u001b[A\n",
            "\n",
            "Batch Evaluating:  11%|█         | 2/18 [00:01<00:09,  1.62it/s]\u001b[A\u001b[A\n",
            "\n",
            "Batch Evaluating:  17%|█▋        | 3/18 [00:01<00:09,  1.61it/s]\u001b[A\u001b[A\n",
            "\n",
            "Batch Evaluating:  22%|██▏       | 4/18 [00:02<00:08,  1.61it/s]\u001b[A\u001b[A\n",
            "\n",
            "Batch Evaluating:  28%|██▊       | 5/18 [00:03<00:08,  1.61it/s]\u001b[A\u001b[A\n",
            "\n",
            "Batch Evaluating:  33%|███▎      | 6/18 [00:03<00:07,  1.61it/s]\u001b[A\u001b[A\n",
            "\n",
            "Batch Evaluating:  39%|███▉      | 7/18 [00:04<00:06,  1.61it/s]\u001b[A\u001b[A\n",
            "\n",
            "Batch Evaluating:  44%|████▍     | 8/18 [00:04<00:06,  1.61it/s]\u001b[A\u001b[A\n",
            "\n",
            "Batch Evaluating:  50%|█████     | 9/18 [00:05<00:05,  1.61it/s]\u001b[A\u001b[A\n",
            "\n",
            "Batch Evaluating:  56%|█████▌    | 10/18 [00:06<00:04,  1.61it/s]\u001b[A\u001b[A\n",
            "\n",
            "Batch Evaluating:  61%|██████    | 11/18 [00:06<00:04,  1.61it/s]\u001b[A\u001b[A\n",
            "\n",
            "Batch Evaluating:  67%|██████▋   | 12/18 [00:07<00:03,  1.61it/s]\u001b[A\u001b[A\n",
            "\n",
            "Batch Evaluating:  72%|███████▏  | 13/18 [00:08<00:03,  1.61it/s]\u001b[A\u001b[A\n",
            "\n",
            "Batch Evaluating:  78%|███████▊  | 14/18 [00:08<00:02,  1.61it/s]\u001b[A\u001b[A\n",
            "\n",
            "Batch Evaluating:  83%|████████▎ | 15/18 [00:09<00:01,  1.61it/s]\u001b[A\u001b[A\n",
            "\n",
            "Batch Evaluating:  89%|████████▉ | 16/18 [00:09<00:01,  1.61it/s]\u001b[A\u001b[A\n",
            "\n",
            "Batch Evaluating:  94%|█████████▍| 17/18 [00:10<00:00,  1.61it/s]\u001b[A\u001b[A\n",
            "\n",
            "Batch Evaluating: 100%|██████████| 18/18 [00:11<00:00,  1.63it/s]\n"
          ],
          "name": "stderr"
        },
        {
          "output_type": "stream",
          "text": [
            "{\"eval_loss\": 0.47464166084925336, \"eval_accuracy\": 0.8578947368421053, \"learning_rate\": 3.3796296296296295e-05, \"training_loss\": 0.1377552228420973, \"step\": 175}\n"
          ],
          "name": "stdout"
        },
        {
          "output_type": "stream",
          "text": [
            "\n",
            "Batch Iteration:  24%|██▍       | 13/54 [00:34<03:53,  5.69s/it]\u001b[A\n",
            "Batch Iteration:  26%|██▌       | 14/54 [00:36<02:59,  4.48s/it]\u001b[A\n",
            "Batch Iteration:  28%|██▊       | 15/54 [00:38<02:21,  3.63s/it]\u001b[A\n",
            "Batch Iteration:  30%|██▉       | 16/54 [00:39<01:55,  3.04s/it]\u001b[A\n",
            "Batch Iteration:  31%|███▏      | 17/54 [00:41<01:36,  2.62s/it]\u001b[A\n",
            "Batch Iteration:  33%|███▎      | 18/54 [00:43<01:23,  2.32s/it]\u001b[A\n",
            "Batch Iteration:  35%|███▌      | 19/54 [00:44<01:14,  2.12s/it]\u001b[A\n",
            "Batch Iteration:  37%|███▋      | 20/54 [00:46<01:07,  1.98s/it]\u001b[A\n",
            "Batch Iteration:  39%|███▉      | 21/54 [00:48<01:01,  1.88s/it]\u001b[A\n",
            "Batch Iteration:  41%|████      | 22/54 [00:49<00:57,  1.81s/it]\u001b[A\n",
            "Batch Iteration:  43%|████▎     | 23/54 [00:51<00:54,  1.75s/it]\u001b[A\n",
            "Batch Iteration:  44%|████▍     | 24/54 [00:52<00:51,  1.72s/it]\u001b[A\n",
            "Batch Iteration:  46%|████▋     | 25/54 [00:54<00:49,  1.70s/it]\u001b[A\n",
            "Batch Iteration:  48%|████▊     | 26/54 [00:56<00:47,  1.68s/it]\u001b[A\n",
            "Batch Iteration:  50%|█████     | 27/54 [00:57<00:45,  1.67s/it]\u001b[A\n",
            "Batch Iteration:  52%|█████▏    | 28/54 [00:59<00:43,  1.66s/it]\u001b[A\n",
            "Batch Iteration:  54%|█████▎    | 29/54 [01:01<00:41,  1.66s/it]\u001b[A\n",
            "Batch Iteration:  56%|█████▌    | 30/54 [01:02<00:39,  1.65s/it]\u001b[A\n",
            "Batch Iteration:  57%|█████▋    | 31/54 [01:04<00:37,  1.65s/it]\u001b[A\n",
            "Batch Iteration:  59%|█████▉    | 32/54 [01:06<00:36,  1.65s/it]\u001b[A\n",
            "Batch Iteration:  61%|██████    | 33/54 [01:07<00:34,  1.65s/it]\u001b[A\n",
            "Batch Iteration:  63%|██████▎   | 34/54 [01:09<00:32,  1.65s/it]\u001b[A\n",
            "Batch Iteration:  65%|██████▍   | 35/54 [01:11<00:31,  1.65s/it]\u001b[A\n",
            "Batch Iteration:  67%|██████▋   | 36/54 [01:12<00:29,  1.64s/it]\u001b[A\n",
            "Batch Iteration:  69%|██████▊   | 37/54 [01:14<00:27,  1.64s/it]\u001b[A\n",
            "\n",
            "Batch Evaluating:   0%|          | 0/18 [00:00<?, ?it/s]\u001b[A\u001b[A\n",
            "\n",
            "Batch Evaluating:   6%|▌         | 1/18 [00:00<00:10,  1.63it/s]\u001b[A\u001b[A\n",
            "\n",
            "Batch Evaluating:  11%|█         | 2/18 [00:01<00:09,  1.62it/s]\u001b[A\u001b[A\n",
            "\n",
            "Batch Evaluating:  17%|█▋        | 3/18 [00:01<00:09,  1.61it/s]\u001b[A\u001b[A\n",
            "\n",
            "Batch Evaluating:  22%|██▏       | 4/18 [00:02<00:08,  1.61it/s]\u001b[A\u001b[A\n",
            "\n",
            "Batch Evaluating:  28%|██▊       | 5/18 [00:03<00:08,  1.61it/s]\u001b[A\u001b[A\n",
            "\n",
            "Batch Evaluating:  33%|███▎      | 6/18 [00:03<00:07,  1.60it/s]\u001b[A\u001b[A\n",
            "\n",
            "Batch Evaluating:  39%|███▉      | 7/18 [00:04<00:06,  1.60it/s]\u001b[A\u001b[A\n",
            "\n",
            "Batch Evaluating:  44%|████▍     | 8/18 [00:04<00:06,  1.60it/s]\u001b[A\u001b[A\n",
            "\n",
            "Batch Evaluating:  50%|█████     | 9/18 [00:05<00:05,  1.61it/s]\u001b[A\u001b[A\n",
            "\n",
            "Batch Evaluating:  56%|█████▌    | 10/18 [00:06<00:04,  1.60it/s]\u001b[A\u001b[A\n",
            "\n",
            "Batch Evaluating:  61%|██████    | 11/18 [00:06<00:04,  1.60it/s]\u001b[A\u001b[A\n",
            "\n",
            "Batch Evaluating:  67%|██████▋   | 12/18 [00:07<00:03,  1.60it/s]\u001b[A\u001b[A\n",
            "\n",
            "Batch Evaluating:  72%|███████▏  | 13/18 [00:08<00:03,  1.60it/s]\u001b[A\u001b[A\n",
            "\n",
            "Batch Evaluating:  78%|███████▊  | 14/18 [00:08<00:02,  1.60it/s]\u001b[A\u001b[A\n",
            "\n",
            "Batch Evaluating:  83%|████████▎ | 15/18 [00:09<00:01,  1.61it/s]\u001b[A\u001b[A\n",
            "\n",
            "Batch Evaluating:  89%|████████▉ | 16/18 [00:09<00:01,  1.60it/s]\u001b[A\u001b[A\n",
            "\n",
            "Batch Evaluating:  94%|█████████▍| 17/18 [00:10<00:00,  1.60it/s]\u001b[A\u001b[A\n",
            "\n",
            "Batch Evaluating: 100%|██████████| 18/18 [00:11<00:00,  1.62it/s]\n"
          ],
          "name": "stderr"
        },
        {
          "output_type": "stream",
          "text": [
            "{\"eval_loss\": 0.4590180665254593, \"eval_accuracy\": 0.8666666666666667, \"learning_rate\": 3.148148148148148e-05, \"training_loss\": 0.13715264581143857, \"step\": 200}\n"
          ],
          "name": "stdout"
        },
        {
          "output_type": "stream",
          "text": [
            "\n",
            "Batch Iteration:  70%|███████   | 38/54 [01:28<01:28,  5.52s/it]\u001b[A\n",
            "Batch Iteration:  72%|███████▏  | 39/54 [01:30<01:05,  4.36s/it]\u001b[A\n",
            "Batch Iteration:  74%|███████▍  | 40/54 [01:32<00:49,  3.55s/it]\u001b[A\n",
            "Batch Iteration:  76%|███████▌  | 41/54 [01:33<00:38,  2.98s/it]\u001b[A\n",
            "Batch Iteration:  78%|███████▊  | 42/54 [01:35<00:30,  2.58s/it]\u001b[A\n",
            "Batch Iteration:  80%|███████▉  | 43/54 [01:37<00:25,  2.30s/it]\u001b[A\n",
            "Batch Iteration:  81%|████████▏ | 44/54 [01:38<00:21,  2.10s/it]\u001b[A\n",
            "Batch Iteration:  83%|████████▎ | 45/54 [01:40<00:17,  1.96s/it]\u001b[A\n",
            "Batch Iteration:  85%|████████▌ | 46/54 [01:42<00:14,  1.87s/it]\u001b[A\n",
            "Batch Iteration:  87%|████████▋ | 47/54 [01:43<00:12,  1.80s/it]\u001b[A\n",
            "Batch Iteration:  89%|████████▉ | 48/54 [01:45<00:10,  1.75s/it]\u001b[A\n",
            "Batch Iteration:  91%|█████████ | 49/54 [01:46<00:08,  1.72s/it]\u001b[A\n",
            "Batch Iteration:  93%|█████████▎| 50/54 [01:48<00:06,  1.70s/it]\u001b[A\n",
            "Batch Iteration:  94%|█████████▍| 51/54 [01:50<00:05,  1.68s/it]\u001b[A\n",
            "Batch Iteration:  96%|█████████▋| 52/54 [01:51<00:03,  1.67s/it]\u001b[A\n",
            "Batch Iteration:  98%|█████████▊| 53/54 [01:53<00:01,  1.66s/it]\u001b[A\n",
            "Batch Iteration: 100%|██████████| 54/54 [01:54<00:00,  2.11s/it]\n",
            "\n",
            "Batch Evaluating:   0%|          | 0/18 [00:00<?, ?it/s]\u001b[A\n",
            "Batch Evaluating:   6%|▌         | 1/18 [00:00<00:10,  1.62it/s]\u001b[A\n",
            "Batch Evaluating:  11%|█         | 2/18 [00:01<00:09,  1.62it/s]\u001b[A\n",
            "Batch Evaluating:  17%|█▋        | 3/18 [00:01<00:09,  1.62it/s]\u001b[A\n",
            "Batch Evaluating:  22%|██▏       | 4/18 [00:02<00:08,  1.62it/s]\u001b[A\n",
            "Batch Evaluating:  28%|██▊       | 5/18 [00:03<00:08,  1.62it/s]\u001b[A\n",
            "Batch Evaluating:  33%|███▎      | 6/18 [00:03<00:07,  1.62it/s]\u001b[A\n",
            "Batch Evaluating:  39%|███▉      | 7/18 [00:04<00:06,  1.62it/s]\u001b[A\n",
            "Batch Evaluating:  44%|████▍     | 8/18 [00:04<00:06,  1.61it/s]\u001b[A\n",
            "Batch Evaluating:  50%|█████     | 9/18 [00:05<00:05,  1.61it/s]\u001b[A\n",
            "Batch Evaluating:  56%|█████▌    | 10/18 [00:06<00:04,  1.62it/s]\u001b[A\n",
            "Batch Evaluating:  61%|██████    | 11/18 [00:06<00:04,  1.61it/s]\u001b[A\n",
            "Batch Evaluating:  67%|██████▋   | 12/18 [00:07<00:03,  1.61it/s]\u001b[A\n",
            "Batch Evaluating:  72%|███████▏  | 13/18 [00:08<00:03,  1.61it/s]\u001b[A\n",
            "Batch Evaluating:  78%|███████▊  | 14/18 [00:08<00:02,  1.61it/s]\u001b[A\n",
            "Batch Evaluating:  83%|████████▎ | 15/18 [00:09<00:01,  1.61it/s]\u001b[A\n",
            "Batch Evaluating:  89%|████████▉ | 16/18 [00:09<00:01,  1.61it/s]\u001b[A\n",
            "Batch Evaluating:  94%|█████████▍| 17/18 [00:10<00:00,  1.61it/s]\u001b[A\n",
            "Batch Evaluating: 100%|██████████| 18/18 [00:11<00:00,  1.63it/s]\n",
            "Epoch:  40%|████      | 4/10 [08:18<12:27, 124.60s/it]\n",
            "Batch Iteration:   0%|          | 0/54 [00:00<?, ?it/s]\u001b[A\n",
            "Batch Iteration:   2%|▏         | 1/54 [00:01<01:25,  1.62s/it]\u001b[A\n",
            "Batch Iteration:   4%|▎         | 2/54 [00:03<01:24,  1.63s/it]\u001b[A\n",
            "Batch Iteration:   6%|▌         | 3/54 [00:04<01:23,  1.63s/it]\u001b[A\n",
            "Batch Iteration:   7%|▋         | 4/54 [00:06<01:21,  1.64s/it]\u001b[A\n",
            "Batch Iteration:   9%|▉         | 5/54 [00:08<01:20,  1.64s/it]\u001b[A\n",
            "Batch Iteration:  11%|█         | 6/54 [00:09<01:18,  1.64s/it]\u001b[A\n",
            "Batch Iteration:  13%|█▎        | 7/54 [00:11<01:17,  1.64s/it]\u001b[A\n",
            "Batch Iteration:  15%|█▍        | 8/54 [00:13<01:15,  1.64s/it]\u001b[A\n",
            "\n",
            "Batch Evaluating:   0%|          | 0/18 [00:00<?, ?it/s]\u001b[A\u001b[A\n",
            "\n",
            "Batch Evaluating:   6%|▌         | 1/18 [00:00<00:10,  1.63it/s]\u001b[A\u001b[A\n",
            "\n",
            "Batch Evaluating:  11%|█         | 2/18 [00:01<00:09,  1.62it/s]\u001b[A\u001b[A\n",
            "\n",
            "Batch Evaluating:  17%|█▋        | 3/18 [00:01<00:09,  1.62it/s]\u001b[A\u001b[A\n",
            "\n",
            "Batch Evaluating:  22%|██▏       | 4/18 [00:02<00:08,  1.62it/s]\u001b[A\u001b[A\n",
            "\n",
            "Batch Evaluating:  28%|██▊       | 5/18 [00:03<00:08,  1.61it/s]\u001b[A\u001b[A\n",
            "\n",
            "Batch Evaluating:  33%|███▎      | 6/18 [00:03<00:07,  1.61it/s]\u001b[A\u001b[A\n",
            "\n",
            "Batch Evaluating:  39%|███▉      | 7/18 [00:04<00:06,  1.61it/s]\u001b[A\u001b[A\n",
            "\n",
            "Batch Evaluating:  44%|████▍     | 8/18 [00:04<00:06,  1.61it/s]\u001b[A\u001b[A\n",
            "\n",
            "Batch Evaluating:  50%|█████     | 9/18 [00:05<00:05,  1.61it/s]\u001b[A\u001b[A\n",
            "\n",
            "Batch Evaluating:  56%|█████▌    | 10/18 [00:06<00:04,  1.61it/s]\u001b[A\u001b[A\n",
            "\n",
            "Batch Evaluating:  61%|██████    | 11/18 [00:06<00:04,  1.61it/s]\u001b[A\u001b[A\n",
            "\n",
            "Batch Evaluating:  67%|██████▋   | 12/18 [00:07<00:03,  1.61it/s]\u001b[A\u001b[A\n",
            "\n",
            "Batch Evaluating:  72%|███████▏  | 13/18 [00:08<00:03,  1.61it/s]\u001b[A\u001b[A\n",
            "\n",
            "Batch Evaluating:  78%|███████▊  | 14/18 [00:08<00:02,  1.61it/s]\u001b[A\u001b[A\n",
            "\n",
            "Batch Evaluating:  83%|████████▎ | 15/18 [00:09<00:01,  1.61it/s]\u001b[A\u001b[A\n",
            "\n",
            "Batch Evaluating:  89%|████████▉ | 16/18 [00:09<00:01,  1.61it/s]\u001b[A\u001b[A\n",
            "\n",
            "Batch Evaluating:  94%|█████████▍| 17/18 [00:10<00:00,  1.61it/s]\u001b[A\u001b[A\n",
            "\n",
            "Batch Evaluating: 100%|██████████| 18/18 [00:11<00:00,  1.63it/s]\n"
          ],
          "name": "stderr"
        },
        {
          "output_type": "stream",
          "text": [
            "{\"eval_loss\": 0.4809023282594151, \"eval_accuracy\": 0.8666666666666667, \"learning_rate\": 2.916666666666667e-05, \"training_loss\": 0.14100582916289567, \"step\": 225}\n"
          ],
          "name": "stdout"
        },
        {
          "output_type": "stream",
          "text": [
            "\n",
            "Batch Iteration:  17%|█▋        | 9/54 [00:27<04:07,  5.51s/it]\u001b[A\n",
            "Batch Iteration:  19%|█▊        | 10/54 [00:29<03:10,  4.34s/it]\u001b[A\n",
            "Batch Iteration:  20%|██        | 11/54 [00:30<02:31,  3.53s/it]\u001b[A\n",
            "Batch Iteration:  22%|██▏       | 12/54 [00:32<02:04,  2.96s/it]\u001b[A\n",
            "Batch Iteration:  24%|██▍       | 13/54 [00:34<01:44,  2.56s/it]\u001b[A\n",
            "Batch Iteration:  26%|██▌       | 14/54 [00:35<01:31,  2.28s/it]\u001b[A\n",
            "Batch Iteration:  28%|██▊       | 15/54 [00:37<01:21,  2.09s/it]\u001b[A\n",
            "Batch Iteration:  30%|██▉       | 16/54 [00:39<01:14,  1.96s/it]\u001b[A\n",
            "Batch Iteration:  31%|███▏      | 17/54 [00:40<01:08,  1.86s/it]\u001b[A\n",
            "Batch Iteration:  33%|███▎      | 18/54 [00:42<01:04,  1.80s/it]\u001b[A\n",
            "Batch Iteration:  35%|███▌      | 19/54 [00:44<01:01,  1.75s/it]\u001b[A\n",
            "Batch Iteration:  37%|███▋      | 20/54 [00:45<00:58,  1.71s/it]\u001b[A\n",
            "Batch Iteration:  39%|███▉      | 21/54 [00:47<00:55,  1.69s/it]\u001b[A\n",
            "Batch Iteration:  41%|████      | 22/54 [00:48<00:53,  1.68s/it]\u001b[A\n",
            "Batch Iteration:  43%|████▎     | 23/54 [00:50<00:51,  1.67s/it]\u001b[A\n",
            "Batch Iteration:  44%|████▍     | 24/54 [00:52<00:49,  1.66s/it]\u001b[A\n",
            "Batch Iteration:  46%|████▋     | 25/54 [00:53<00:48,  1.66s/it]\u001b[A\n",
            "Batch Iteration:  48%|████▊     | 26/54 [00:55<00:46,  1.65s/it]\u001b[A\n",
            "Batch Iteration:  50%|█████     | 27/54 [00:57<00:44,  1.65s/it]\u001b[A\n",
            "Batch Iteration:  52%|█████▏    | 28/54 [00:58<00:42,  1.65s/it]\u001b[A\n",
            "Batch Iteration:  54%|█████▎    | 29/54 [01:00<00:41,  1.65s/it]\u001b[A\n",
            "Batch Iteration:  56%|█████▌    | 30/54 [01:02<00:39,  1.64s/it]\u001b[A\n",
            "Batch Iteration:  57%|█████▋    | 31/54 [01:03<00:37,  1.65s/it]\u001b[A\n",
            "Batch Iteration:  59%|█████▉    | 32/54 [01:05<00:36,  1.64s/it]\u001b[A\n",
            "Batch Iteration:  61%|██████    | 33/54 [01:07<00:34,  1.64s/it]\u001b[A\n",
            "\n",
            "Batch Evaluating:   0%|          | 0/18 [00:00<?, ?it/s]\u001b[A\u001b[A\n",
            "\n",
            "Batch Evaluating:   6%|▌         | 1/18 [00:00<00:10,  1.63it/s]\u001b[A\u001b[A\n",
            "\n",
            "Batch Evaluating:  11%|█         | 2/18 [00:01<00:09,  1.62it/s]\u001b[A\u001b[A\n",
            "\n",
            "Batch Evaluating:  17%|█▋        | 3/18 [00:01<00:09,  1.61it/s]\u001b[A\u001b[A\n",
            "\n",
            "Batch Evaluating:  22%|██▏       | 4/18 [00:02<00:08,  1.61it/s]\u001b[A\u001b[A\n",
            "\n",
            "Batch Evaluating:  28%|██▊       | 5/18 [00:03<00:08,  1.61it/s]\u001b[A\u001b[A\n",
            "\n",
            "Batch Evaluating:  33%|███▎      | 6/18 [00:03<00:07,  1.61it/s]\u001b[A\u001b[A\n",
            "\n",
            "Batch Evaluating:  39%|███▉      | 7/18 [00:04<00:06,  1.61it/s]\u001b[A\u001b[A\n",
            "\n",
            "Batch Evaluating:  44%|████▍     | 8/18 [00:04<00:06,  1.60it/s]\u001b[A\u001b[A\n",
            "\n",
            "Batch Evaluating:  50%|█████     | 9/18 [00:05<00:05,  1.60it/s]\u001b[A\u001b[A\n",
            "\n",
            "Batch Evaluating:  56%|█████▌    | 10/18 [00:06<00:04,  1.60it/s]\u001b[A\u001b[A\n",
            "\n",
            "Batch Evaluating:  61%|██████    | 11/18 [00:06<00:04,  1.60it/s]\u001b[A\u001b[A\n",
            "\n",
            "Batch Evaluating:  67%|██████▋   | 12/18 [00:07<00:03,  1.61it/s]\u001b[A\u001b[A\n",
            "\n",
            "Batch Evaluating:  72%|███████▏  | 13/18 [00:08<00:03,  1.60it/s]\u001b[A\u001b[A\n",
            "\n",
            "Batch Evaluating:  78%|███████▊  | 14/18 [00:08<00:02,  1.61it/s]\u001b[A\u001b[A\n",
            "\n",
            "Batch Evaluating:  83%|████████▎ | 15/18 [00:09<00:01,  1.61it/s]\u001b[A\u001b[A\n",
            "\n",
            "Batch Evaluating:  89%|████████▉ | 16/18 [00:09<00:01,  1.61it/s]\u001b[A\u001b[A\n",
            "\n",
            "Batch Evaluating:  94%|█████████▍| 17/18 [00:10<00:00,  1.60it/s]\u001b[A\u001b[A\n",
            "\n",
            "Batch Evaluating: 100%|██████████| 18/18 [00:11<00:00,  1.62it/s]\n"
          ],
          "name": "stderr"
        },
        {
          "output_type": "stream",
          "text": [
            "{\"eval_loss\": 0.4610838145017624, \"eval_accuracy\": 0.8614035087719298, \"learning_rate\": 2.6851851851851855e-05, \"training_loss\": 0.09345245994627475, \"step\": 250}\n"
          ],
          "name": "stdout"
        },
        {
          "output_type": "stream",
          "text": [
            "\n",
            "Batch Iteration:  63%|██████▎   | 34/54 [01:21<01:51,  5.60s/it]\u001b[A\n",
            "Batch Iteration:  65%|██████▍   | 35/54 [01:23<01:24,  4.43s/it]\u001b[A\n",
            "Batch Iteration:  67%|██████▋   | 36/54 [01:25<01:04,  3.59s/it]\u001b[A\n",
            "Batch Iteration:  69%|██████▊   | 37/54 [01:26<00:51,  3.01s/it]\u001b[A\n",
            "Batch Iteration:  70%|███████   | 38/54 [01:28<00:41,  2.60s/it]\u001b[A\n",
            "Batch Iteration:  72%|███████▏  | 39/54 [01:30<00:34,  2.31s/it]\u001b[A\n",
            "Batch Iteration:  74%|███████▍  | 40/54 [01:31<00:29,  2.11s/it]\u001b[A\n",
            "Batch Iteration:  76%|███████▌  | 41/54 [01:33<00:25,  1.97s/it]\u001b[A\n",
            "Batch Iteration:  78%|███████▊  | 42/54 [01:35<00:22,  1.87s/it]\u001b[A\n",
            "Batch Iteration:  80%|███████▉  | 43/54 [01:36<00:19,  1.81s/it]\u001b[A\n",
            "Batch Iteration:  81%|████████▏ | 44/54 [01:38<00:17,  1.76s/it]\u001b[A\n",
            "Batch Iteration:  83%|████████▎ | 45/54 [01:39<00:15,  1.73s/it]\u001b[A\n",
            "Batch Iteration:  85%|████████▌ | 46/54 [01:41<00:13,  1.70s/it]\u001b[A\n",
            "Batch Iteration:  87%|████████▋ | 47/54 [01:43<00:11,  1.69s/it]\u001b[A\n",
            "Batch Iteration:  89%|████████▉ | 48/54 [01:44<00:10,  1.67s/it]\u001b[A\n",
            "Batch Iteration:  91%|█████████ | 49/54 [01:46<00:08,  1.66s/it]\u001b[A\n",
            "Batch Iteration:  93%|█████████▎| 50/54 [01:48<00:06,  1.66s/it]\u001b[A\n",
            "Batch Iteration:  94%|█████████▍| 51/54 [01:49<00:04,  1.65s/it]\u001b[A\n",
            "Batch Iteration:  96%|█████████▋| 52/54 [01:51<00:03,  1.65s/it]\u001b[A\n",
            "Batch Iteration:  98%|█████████▊| 53/54 [01:53<00:01,  1.65s/it]\u001b[A\n",
            "Batch Iteration: 100%|██████████| 54/54 [01:53<00:00,  2.11s/it]\n",
            "\n",
            "Batch Evaluating:   0%|          | 0/18 [00:00<?, ?it/s]\u001b[A\n",
            "Batch Evaluating:   6%|▌         | 1/18 [00:00<00:10,  1.62it/s]\u001b[A\n",
            "Batch Evaluating:  11%|█         | 2/18 [00:01<00:09,  1.62it/s]\u001b[A\n",
            "Batch Evaluating:  17%|█▋        | 3/18 [00:01<00:09,  1.61it/s]\u001b[A\n",
            "Batch Evaluating:  22%|██▏       | 4/18 [00:02<00:08,  1.61it/s]\u001b[A\n",
            "Batch Evaluating:  28%|██▊       | 5/18 [00:03<00:08,  1.61it/s]\u001b[A\n",
            "Batch Evaluating:  33%|███▎      | 6/18 [00:03<00:07,  1.61it/s]\u001b[A\n",
            "Batch Evaluating:  39%|███▉      | 7/18 [00:04<00:06,  1.61it/s]\u001b[A\n",
            "Batch Evaluating:  44%|████▍     | 8/18 [00:04<00:06,  1.60it/s]\u001b[A\n",
            "Batch Evaluating:  50%|█████     | 9/18 [00:05<00:05,  1.61it/s]\u001b[A\n",
            "Batch Evaluating:  56%|█████▌    | 10/18 [00:06<00:04,  1.61it/s]\u001b[A\n",
            "Batch Evaluating:  61%|██████    | 11/18 [00:06<00:04,  1.61it/s]\u001b[A\n",
            "Batch Evaluating:  67%|██████▋   | 12/18 [00:07<00:03,  1.61it/s]\u001b[A\n",
            "Batch Evaluating:  72%|███████▏  | 13/18 [00:08<00:03,  1.61it/s]\u001b[A\n",
            "Batch Evaluating:  78%|███████▊  | 14/18 [00:08<00:02,  1.61it/s]\u001b[A\n",
            "Batch Evaluating:  83%|████████▎ | 15/18 [00:09<00:01,  1.61it/s]\u001b[A\n",
            "Batch Evaluating:  89%|████████▉ | 16/18 [00:09<00:01,  1.61it/s]\u001b[A\n",
            "Batch Evaluating:  94%|█████████▍| 17/18 [00:10<00:00,  1.61it/s]\u001b[A\n",
            "Batch Evaluating: 100%|██████████| 18/18 [00:11<00:00,  1.63it/s]\n",
            "Epoch:  50%|█████     | 5/10 [10:23<10:23, 124.68s/it]\n",
            "Batch Iteration:   0%|          | 0/54 [00:00<?, ?it/s]\u001b[A\n",
            "Batch Iteration:   2%|▏         | 1/54 [00:01<01:26,  1.63s/it]\u001b[A\n",
            "Batch Iteration:   4%|▎         | 2/54 [00:03<01:25,  1.64s/it]\u001b[A\n",
            "Batch Iteration:   6%|▌         | 3/54 [00:04<01:23,  1.64s/it]\u001b[A\n",
            "Batch Iteration:   7%|▋         | 4/54 [00:06<01:22,  1.64s/it]\u001b[A\n",
            "\n",
            "Batch Evaluating:   0%|          | 0/18 [00:00<?, ?it/s]\u001b[A\u001b[A\n",
            "\n",
            "Batch Evaluating:   6%|▌         | 1/18 [00:00<00:10,  1.63it/s]\u001b[A\u001b[A\n",
            "\n",
            "Batch Evaluating:  11%|█         | 2/18 [00:01<00:09,  1.62it/s]\u001b[A\u001b[A\n",
            "\n",
            "Batch Evaluating:  17%|█▋        | 3/18 [00:01<00:09,  1.62it/s]\u001b[A\u001b[A\n",
            "\n",
            "Batch Evaluating:  22%|██▏       | 4/18 [00:02<00:08,  1.61it/s]\u001b[A\u001b[A\n",
            "\n",
            "Batch Evaluating:  28%|██▊       | 5/18 [00:03<00:08,  1.61it/s]\u001b[A\u001b[A\n",
            "\n",
            "Batch Evaluating:  33%|███▎      | 6/18 [00:03<00:07,  1.61it/s]\u001b[A\u001b[A\n",
            "\n",
            "Batch Evaluating:  39%|███▉      | 7/18 [00:04<00:06,  1.61it/s]\u001b[A\u001b[A\n",
            "\n",
            "Batch Evaluating:  44%|████▍     | 8/18 [00:04<00:06,  1.60it/s]\u001b[A\u001b[A\n",
            "\n",
            "Batch Evaluating:  50%|█████     | 9/18 [00:05<00:05,  1.60it/s]\u001b[A\u001b[A\n",
            "\n",
            "Batch Evaluating:  56%|█████▌    | 10/18 [00:06<00:04,  1.60it/s]\u001b[A\u001b[A\n",
            "\n",
            "Batch Evaluating:  61%|██████    | 11/18 [00:06<00:04,  1.60it/s]\u001b[A\u001b[A\n",
            "\n",
            "Batch Evaluating:  67%|██████▋   | 12/18 [00:07<00:03,  1.61it/s]\u001b[A\u001b[A\n",
            "\n",
            "Batch Evaluating:  72%|███████▏  | 13/18 [00:08<00:03,  1.60it/s]\u001b[A\u001b[A\n",
            "\n",
            "Batch Evaluating:  78%|███████▊  | 14/18 [00:08<00:02,  1.60it/s]\u001b[A\u001b[A\n",
            "\n",
            "Batch Evaluating:  83%|████████▎ | 15/18 [00:09<00:01,  1.60it/s]\u001b[A\u001b[A\n",
            "\n",
            "Batch Evaluating:  89%|████████▉ | 16/18 [00:09<00:01,  1.61it/s]\u001b[A\u001b[A\n",
            "\n",
            "Batch Evaluating:  94%|█████████▍| 17/18 [00:10<00:00,  1.60it/s]\u001b[A\u001b[A\n",
            "\n",
            "Batch Evaluating: 100%|██████████| 18/18 [00:11<00:00,  1.62it/s]\n"
          ],
          "name": "stderr"
        },
        {
          "output_type": "stream",
          "text": [
            "{\"eval_loss\": 0.5561199933290482, \"eval_accuracy\": 0.8578947368421053, \"learning_rate\": 2.4537037037037038e-05, \"training_loss\": 0.09318407319486141, \"step\": 275}\n"
          ],
          "name": "stdout"
        },
        {
          "output_type": "stream",
          "text": [
            "\n",
            "Batch Iteration:   9%|▉         | 5/54 [00:21<04:32,  5.56s/it]\u001b[A\n",
            "Batch Iteration:  11%|█         | 6/54 [00:22<03:30,  4.39s/it]\u001b[A\n",
            "Batch Iteration:  13%|█▎        | 7/54 [00:24<02:47,  3.57s/it]\u001b[A\n",
            "Batch Iteration:  15%|█▍        | 8/54 [00:26<02:17,  2.98s/it]\u001b[A\n",
            "Batch Iteration:  17%|█▋        | 9/54 [00:27<01:55,  2.58s/it]\u001b[A\n",
            "Batch Iteration:  19%|█▊        | 10/54 [00:29<01:41,  2.30s/it]\u001b[A\n",
            "Batch Iteration:  20%|██        | 11/54 [00:31<01:30,  2.10s/it]\u001b[A\n",
            "Batch Iteration:  22%|██▏       | 12/54 [00:32<01:22,  1.96s/it]\u001b[A\n",
            "Batch Iteration:  24%|██▍       | 13/54 [00:34<01:16,  1.87s/it]\u001b[A\n",
            "Batch Iteration:  26%|██▌       | 14/54 [00:36<01:12,  1.80s/it]\u001b[A\n",
            "Batch Iteration:  28%|██▊       | 15/54 [00:37<01:08,  1.76s/it]\u001b[A\n",
            "Batch Iteration:  30%|██▉       | 16/54 [00:39<01:05,  1.72s/it]\u001b[A\n",
            "Batch Iteration:  31%|███▏      | 17/54 [00:41<01:02,  1.70s/it]\u001b[A\n",
            "Batch Iteration:  33%|███▎      | 18/54 [00:42<01:00,  1.69s/it]\u001b[A\n",
            "Batch Iteration:  35%|███▌      | 19/54 [00:44<00:58,  1.67s/it]\u001b[A\n",
            "Batch Iteration:  37%|███▋      | 20/54 [00:45<00:56,  1.67s/it]\u001b[A\n",
            "Batch Iteration:  39%|███▉      | 21/54 [00:47<00:54,  1.66s/it]\u001b[A\n",
            "Batch Iteration:  41%|████      | 22/54 [00:49<00:53,  1.66s/it]\u001b[A\n",
            "Batch Iteration:  43%|████▎     | 23/54 [00:50<00:51,  1.65s/it]\u001b[A\n",
            "Batch Iteration:  44%|████▍     | 24/54 [00:52<00:49,  1.65s/it]\u001b[A\n",
            "Batch Iteration:  46%|████▋     | 25/54 [00:54<00:47,  1.65s/it]\u001b[A\n",
            "Batch Iteration:  48%|████▊     | 26/54 [00:55<00:46,  1.65s/it]\u001b[A\n",
            "Batch Iteration:  50%|█████     | 27/54 [00:57<00:44,  1.65s/it]\u001b[A\n",
            "Batch Iteration:  52%|█████▏    | 28/54 [00:59<00:42,  1.64s/it]\u001b[A\n",
            "Batch Iteration:  54%|█████▎    | 29/54 [01:00<00:41,  1.64s/it]\u001b[A\n",
            "\n",
            "Batch Evaluating:   0%|          | 0/18 [00:00<?, ?it/s]\u001b[A\u001b[A\n",
            "\n",
            "Batch Evaluating:   6%|▌         | 1/18 [00:00<00:10,  1.63it/s]\u001b[A\u001b[A\n",
            "\n",
            "Batch Evaluating:  11%|█         | 2/18 [00:01<00:09,  1.62it/s]\u001b[A\u001b[A\n",
            "\n",
            "Batch Evaluating:  17%|█▋        | 3/18 [00:01<00:09,  1.61it/s]\u001b[A\u001b[A\n",
            "\n",
            "Batch Evaluating:  22%|██▏       | 4/18 [00:02<00:08,  1.61it/s]\u001b[A\u001b[A\n",
            "\n",
            "Batch Evaluating:  28%|██▊       | 5/18 [00:03<00:08,  1.61it/s]\u001b[A\u001b[A\n",
            "\n",
            "Batch Evaluating:  33%|███▎      | 6/18 [00:03<00:07,  1.61it/s]\u001b[A\u001b[A\n",
            "\n",
            "Batch Evaluating:  39%|███▉      | 7/18 [00:04<00:06,  1.61it/s]\u001b[A\u001b[A\n",
            "\n",
            "Batch Evaluating:  44%|████▍     | 8/18 [00:04<00:06,  1.61it/s]\u001b[A\u001b[A\n",
            "\n",
            "Batch Evaluating:  50%|█████     | 9/18 [00:05<00:05,  1.61it/s]\u001b[A\u001b[A\n",
            "\n",
            "Batch Evaluating:  56%|█████▌    | 10/18 [00:06<00:04,  1.61it/s]\u001b[A\u001b[A\n",
            "\n",
            "Batch Evaluating:  61%|██████    | 11/18 [00:06<00:04,  1.61it/s]\u001b[A\u001b[A\n",
            "\n",
            "Batch Evaluating:  67%|██████▋   | 12/18 [00:07<00:03,  1.60it/s]\u001b[A\u001b[A\n",
            "\n",
            "Batch Evaluating:  72%|███████▏  | 13/18 [00:08<00:03,  1.61it/s]\u001b[A\u001b[A\n",
            "\n",
            "Batch Evaluating:  78%|███████▊  | 14/18 [00:08<00:02,  1.60it/s]\u001b[A\u001b[A\n",
            "\n",
            "Batch Evaluating:  83%|████████▎ | 15/18 [00:09<00:01,  1.60it/s]\u001b[A\u001b[A\n",
            "\n",
            "Batch Evaluating:  89%|████████▉ | 16/18 [00:09<00:01,  1.61it/s]\u001b[A\u001b[A\n",
            "\n",
            "Batch Evaluating:  94%|█████████▍| 17/18 [00:10<00:00,  1.60it/s]\u001b[A\u001b[A\n",
            "\n",
            "Batch Evaluating: 100%|██████████| 18/18 [00:11<00:00,  1.62it/s]\n"
          ],
          "name": "stderr"
        },
        {
          "output_type": "stream",
          "text": [
            "{\"eval_loss\": 0.5858305858241187, \"eval_accuracy\": 0.8526315789473684, \"learning_rate\": 2.2222222222222223e-05, \"training_loss\": 0.0826831608824432, \"step\": 300}\n"
          ],
          "name": "stdout"
        },
        {
          "output_type": "stream",
          "text": [
            "\n",
            "Batch Iteration:  56%|█████▌    | 30/54 [01:15<02:12,  5.54s/it]\u001b[A\n",
            "Batch Iteration:  57%|█████▋    | 31/54 [01:17<01:40,  4.37s/it]\u001b[A\n",
            "Batch Iteration:  59%|█████▉    | 32/54 [01:18<01:18,  3.56s/it]\u001b[A\n",
            "Batch Iteration:  61%|██████    | 33/54 [01:20<01:02,  2.98s/it]\u001b[A\n",
            "Batch Iteration:  63%|██████▎   | 34/54 [01:21<00:51,  2.58s/it]\u001b[A\n",
            "Batch Iteration:  65%|██████▍   | 35/54 [01:23<00:43,  2.30s/it]\u001b[A\n",
            "Batch Iteration:  67%|██████▋   | 36/54 [01:25<00:37,  2.10s/it]\u001b[A\n",
            "Batch Iteration:  69%|██████▊   | 37/54 [01:26<00:33,  1.97s/it]\u001b[A\n",
            "Batch Iteration:  70%|███████   | 38/54 [01:28<00:29,  1.87s/it]\u001b[A\n",
            "Batch Iteration:  72%|███████▏  | 39/54 [01:30<00:27,  1.80s/it]\u001b[A\n",
            "Batch Iteration:  74%|███████▍  | 40/54 [01:31<00:24,  1.75s/it]\u001b[A\n",
            "Batch Iteration:  76%|███████▌  | 41/54 [01:33<00:22,  1.72s/it]\u001b[A\n",
            "Batch Iteration:  78%|███████▊  | 42/54 [01:35<00:20,  1.70s/it]\u001b[A\n",
            "Batch Iteration:  80%|███████▉  | 43/54 [01:36<00:18,  1.68s/it]\u001b[A\n",
            "Batch Iteration:  81%|████████▏ | 44/54 [01:38<00:16,  1.67s/it]\u001b[A\n",
            "Batch Iteration:  83%|████████▎ | 45/54 [01:40<00:14,  1.66s/it]\u001b[A\n",
            "Batch Iteration:  85%|████████▌ | 46/54 [01:41<00:13,  1.65s/it]\u001b[A\n",
            "Batch Iteration:  87%|████████▋ | 47/54 [01:43<00:11,  1.65s/it]\u001b[A\n",
            "Batch Iteration:  89%|████████▉ | 48/54 [01:44<00:09,  1.65s/it]\u001b[A\n",
            "Batch Iteration:  91%|█████████ | 49/54 [01:46<00:08,  1.65s/it]\u001b[A\n",
            "Batch Iteration:  93%|█████████▎| 50/54 [01:48<00:06,  1.65s/it]\u001b[A\n",
            "Batch Iteration:  94%|█████████▍| 51/54 [01:49<00:04,  1.64s/it]\u001b[A\n",
            "Batch Iteration:  96%|█████████▋| 52/54 [01:51<00:03,  1.64s/it]\u001b[A\n",
            "Batch Iteration:  98%|█████████▊| 53/54 [01:53<00:01,  1.64s/it]\u001b[A\n",
            "Batch Iteration: 100%|██████████| 54/54 [01:53<00:00,  2.11s/it]\n",
            "\n",
            "Batch Evaluating:   0%|          | 0/18 [00:00<?, ?it/s]\u001b[A\n",
            "Batch Evaluating:   6%|▌         | 1/18 [00:00<00:10,  1.62it/s]\u001b[A\n",
            "Batch Evaluating:  11%|█         | 2/18 [00:01<00:09,  1.62it/s]\u001b[A\n",
            "Batch Evaluating:  17%|█▋        | 3/18 [00:01<00:09,  1.61it/s]\u001b[A\n",
            "Batch Evaluating:  22%|██▏       | 4/18 [00:02<00:08,  1.61it/s]\u001b[A\n",
            "Batch Evaluating:  28%|██▊       | 5/18 [00:03<00:08,  1.61it/s]\u001b[A\n",
            "Batch Evaluating:  33%|███▎      | 6/18 [00:03<00:07,  1.60it/s]\u001b[A\n",
            "Batch Evaluating:  39%|███▉      | 7/18 [00:04<00:06,  1.61it/s]\u001b[A\n",
            "Batch Evaluating:  44%|████▍     | 8/18 [00:04<00:06,  1.60it/s]\u001b[A\n",
            "Batch Evaluating:  50%|█████     | 9/18 [00:05<00:05,  1.60it/s]\u001b[A\n",
            "Batch Evaluating:  56%|█████▌    | 10/18 [00:06<00:04,  1.60it/s]\u001b[A\n",
            "Batch Evaluating:  61%|██████    | 11/18 [00:06<00:04,  1.60it/s]\u001b[A\n",
            "Batch Evaluating:  67%|██████▋   | 12/18 [00:07<00:03,  1.61it/s]\u001b[A\n",
            "Batch Evaluating:  72%|███████▏  | 13/18 [00:08<00:03,  1.60it/s]\u001b[A\n",
            "Batch Evaluating:  78%|███████▊  | 14/18 [00:08<00:02,  1.61it/s]\u001b[A\n",
            "Batch Evaluating:  83%|████████▎ | 15/18 [00:09<00:01,  1.61it/s]\u001b[A\n",
            "Batch Evaluating:  89%|████████▉ | 16/18 [00:09<00:01,  1.60it/s]\u001b[A\n",
            "Batch Evaluating:  94%|█████████▍| 17/18 [00:10<00:00,  1.60it/s]\u001b[A\n",
            "Batch Evaluating: 100%|██████████| 18/18 [00:11<00:00,  1.62it/s]\n",
            "Epoch:  60%|██████    | 6/10 [12:28<08:19, 124.75s/it]\n",
            "Batch Iteration:   0%|          | 0/54 [00:00<?, ?it/s]\u001b[A\n",
            "\n",
            "Batch Evaluating:   0%|          | 0/18 [00:00<?, ?it/s]\u001b[A\u001b[A\n",
            "\n",
            "Batch Evaluating:   6%|▌         | 1/18 [00:00<00:10,  1.62it/s]\u001b[A\u001b[A\n",
            "\n",
            "Batch Evaluating:  11%|█         | 2/18 [00:01<00:09,  1.61it/s]\u001b[A\u001b[A\n",
            "\n",
            "Batch Evaluating:  17%|█▋        | 3/18 [00:01<00:09,  1.60it/s]\u001b[A\u001b[A\n",
            "\n",
            "Batch Evaluating:  22%|██▏       | 4/18 [00:02<00:08,  1.61it/s]\u001b[A\u001b[A\n",
            "\n",
            "Batch Evaluating:  28%|██▊       | 5/18 [00:03<00:08,  1.60it/s]\u001b[A\u001b[A\n",
            "\n",
            "Batch Evaluating:  33%|███▎      | 6/18 [00:03<00:07,  1.61it/s]\u001b[A\u001b[A\n",
            "\n",
            "Batch Evaluating:  39%|███▉      | 7/18 [00:04<00:06,  1.60it/s]\u001b[A\u001b[A\n",
            "\n",
            "Batch Evaluating:  44%|████▍     | 8/18 [00:04<00:06,  1.60it/s]\u001b[A\u001b[A\n",
            "\n",
            "Batch Evaluating:  50%|█████     | 9/18 [00:05<00:05,  1.60it/s]\u001b[A\u001b[A\n",
            "\n",
            "Batch Evaluating:  56%|█████▌    | 10/18 [00:06<00:04,  1.60it/s]\u001b[A\u001b[A\n",
            "\n",
            "Batch Evaluating:  61%|██████    | 11/18 [00:06<00:04,  1.60it/s]\u001b[A\u001b[A\n",
            "\n",
            "Batch Evaluating:  67%|██████▋   | 12/18 [00:07<00:03,  1.60it/s]\u001b[A\u001b[A\n",
            "\n",
            "Batch Evaluating:  72%|███████▏  | 13/18 [00:08<00:03,  1.60it/s]\u001b[A\u001b[A\n",
            "\n",
            "Batch Evaluating:  78%|███████▊  | 14/18 [00:08<00:02,  1.60it/s]\u001b[A\u001b[A\n",
            "\n",
            "Batch Evaluating:  83%|████████▎ | 15/18 [00:09<00:01,  1.60it/s]\u001b[A\u001b[A\n",
            "\n",
            "Batch Evaluating:  89%|████████▉ | 16/18 [00:09<00:01,  1.60it/s]\u001b[A\u001b[A\n",
            "\n",
            "Batch Evaluating:  94%|█████████▍| 17/18 [00:10<00:00,  1.60it/s]\u001b[A\u001b[A\n",
            "\n",
            "Batch Evaluating: 100%|██████████| 18/18 [00:11<00:00,  1.62it/s]\n"
          ],
          "name": "stderr"
        },
        {
          "output_type": "stream",
          "text": [
            "{\"eval_loss\": 0.6438455987307761, \"eval_accuracy\": 0.8456140350877193, \"learning_rate\": 1.990740740740741e-05, \"training_loss\": 0.036021495880559085, \"step\": 325}\n"
          ],
          "name": "stdout"
        },
        {
          "output_type": "stream",
          "text": [
            "\n",
            "Batch Iteration:   2%|▏         | 1/54 [00:14<12:52, 14.58s/it]\u001b[A\n",
            "Batch Iteration:   4%|▎         | 2/54 [00:16<09:16, 10.71s/it]\u001b[A\n",
            "Batch Iteration:   6%|▌         | 3/54 [00:17<06:47,  7.98s/it]\u001b[A\n",
            "Batch Iteration:   7%|▋         | 4/54 [00:19<05:03,  6.08s/it]\u001b[A\n",
            "Batch Iteration:   9%|▉         | 5/54 [00:21<03:52,  4.75s/it]\u001b[A\n",
            "Batch Iteration:  11%|█         | 6/54 [00:22<03:03,  3.82s/it]\u001b[A\n",
            "Batch Iteration:  13%|█▎        | 7/54 [00:24<02:28,  3.16s/it]\u001b[A\n",
            "Batch Iteration:  15%|█▍        | 8/54 [00:26<02:04,  2.71s/it]\u001b[A\n",
            "Batch Iteration:  17%|█▋        | 9/54 [00:27<01:47,  2.39s/it]\u001b[A\n",
            "Batch Iteration:  19%|█▊        | 10/54 [00:29<01:35,  2.16s/it]\u001b[A\n",
            "Batch Iteration:  20%|██        | 11/54 [00:31<01:26,  2.01s/it]\u001b[A\n",
            "Batch Iteration:  22%|██▏       | 12/54 [00:32<01:19,  1.90s/it]\u001b[A\n",
            "Batch Iteration:  24%|██▍       | 13/54 [00:34<01:14,  1.82s/it]\u001b[A\n",
            "Batch Iteration:  26%|██▌       | 14/54 [00:35<01:10,  1.77s/it]\u001b[A\n",
            "Batch Iteration:  28%|██▊       | 15/54 [00:37<01:07,  1.73s/it]\u001b[A\n",
            "Batch Iteration:  30%|██▉       | 16/54 [00:39<01:04,  1.70s/it]\u001b[A\n",
            "Batch Iteration:  31%|███▏      | 17/54 [00:40<01:02,  1.68s/it]\u001b[A\n",
            "Batch Iteration:  33%|███▎      | 18/54 [00:42<01:00,  1.67s/it]\u001b[A\n",
            "Batch Iteration:  35%|███▌      | 19/54 [00:44<00:58,  1.66s/it]\u001b[A\n",
            "Batch Iteration:  37%|███▋      | 20/54 [00:45<00:56,  1.66s/it]\u001b[A\n",
            "Batch Iteration:  39%|███▉      | 21/54 [00:47<00:54,  1.65s/it]\u001b[A\n",
            "Batch Iteration:  41%|████      | 22/54 [00:49<00:52,  1.65s/it]\u001b[A\n",
            "Batch Iteration:  43%|████▎     | 23/54 [00:50<00:50,  1.64s/it]\u001b[A\n",
            "Batch Iteration:  44%|████▍     | 24/54 [00:52<00:49,  1.64s/it]\u001b[A\n",
            "Batch Iteration:  46%|████▋     | 25/54 [00:54<00:47,  1.65s/it]\u001b[A\n",
            "\n",
            "Batch Evaluating:   0%|          | 0/18 [00:00<?, ?it/s]\u001b[A\u001b[A\n",
            "\n",
            "Batch Evaluating:   6%|▌         | 1/18 [00:00<00:10,  1.64it/s]\u001b[A\u001b[A\n",
            "\n",
            "Batch Evaluating:  11%|█         | 2/18 [00:01<00:09,  1.63it/s]\u001b[A\u001b[A\n",
            "\n",
            "Batch Evaluating:  17%|█▋        | 3/18 [00:01<00:09,  1.62it/s]\u001b[A\u001b[A\n",
            "\n",
            "Batch Evaluating:  22%|██▏       | 4/18 [00:02<00:08,  1.63it/s]\u001b[A\u001b[A\n",
            "\n",
            "Batch Evaluating:  28%|██▊       | 5/18 [00:03<00:08,  1.62it/s]\u001b[A\u001b[A\n",
            "\n",
            "Batch Evaluating:  33%|███▎      | 6/18 [00:03<00:07,  1.62it/s]\u001b[A\u001b[A\n",
            "\n",
            "Batch Evaluating:  39%|███▉      | 7/18 [00:04<00:06,  1.62it/s]\u001b[A\u001b[A\n",
            "\n",
            "Batch Evaluating:  44%|████▍     | 8/18 [00:04<00:06,  1.62it/s]\u001b[A\u001b[A\n",
            "\n",
            "Batch Evaluating:  50%|█████     | 9/18 [00:05<00:05,  1.62it/s]\u001b[A\u001b[A\n",
            "\n",
            "Batch Evaluating:  56%|█████▌    | 10/18 [00:06<00:04,  1.62it/s]\u001b[A\u001b[A\n",
            "\n",
            "Batch Evaluating:  61%|██████    | 11/18 [00:06<00:04,  1.62it/s]\u001b[A\u001b[A\n",
            "\n",
            "Batch Evaluating:  67%|██████▋   | 12/18 [00:07<00:03,  1.62it/s]\u001b[A\u001b[A\n",
            "\n",
            "Batch Evaluating:  72%|███████▏  | 13/18 [00:08<00:03,  1.62it/s]\u001b[A\u001b[A\n",
            "\n",
            "Batch Evaluating:  78%|███████▊  | 14/18 [00:08<00:02,  1.62it/s]\u001b[A\u001b[A\n",
            "\n",
            "Batch Evaluating:  83%|████████▎ | 15/18 [00:09<00:01,  1.62it/s]\u001b[A\u001b[A\n",
            "\n",
            "Batch Evaluating:  89%|████████▉ | 16/18 [00:09<00:01,  1.62it/s]\u001b[A\u001b[A\n",
            "\n",
            "Batch Evaluating:  94%|█████████▍| 17/18 [00:10<00:00,  1.62it/s]\u001b[A\u001b[A\n",
            "\n",
            "Batch Evaluating: 100%|██████████| 18/18 [00:10<00:00,  1.64it/s]\n"
          ],
          "name": "stderr"
        },
        {
          "output_type": "stream",
          "text": [
            "{\"eval_loss\": 0.6491188431779543, \"eval_accuracy\": 0.8526315789473684, \"learning_rate\": 1.7592592592592595e-05, \"training_loss\": 0.02775609032250941, \"step\": 350}\n"
          ],
          "name": "stdout"
        },
        {
          "output_type": "stream",
          "text": [
            "\n",
            "Batch Iteration:  48%|████▊     | 26/54 [01:08<02:34,  5.51s/it]\u001b[A\n",
            "Batch Iteration:  50%|█████     | 27/54 [01:10<01:57,  4.36s/it]\u001b[A\n",
            "Batch Iteration:  52%|█████▏    | 28/54 [01:11<01:31,  3.54s/it]\u001b[A\n",
            "Batch Iteration:  54%|█████▎    | 29/54 [01:13<01:14,  2.96s/it]\u001b[A\n",
            "Batch Iteration:  56%|█████▌    | 30/54 [01:15<01:01,  2.56s/it]\u001b[A\n",
            "Batch Iteration:  57%|█████▋    | 31/54 [01:16<00:52,  2.29s/it]\u001b[A\n",
            "Batch Iteration:  59%|█████▉    | 32/54 [01:18<00:46,  2.09s/it]\u001b[A\n",
            "Batch Iteration:  61%|██████    | 33/54 [01:19<00:41,  1.96s/it]\u001b[A\n",
            "Batch Iteration:  63%|██████▎   | 34/54 [01:21<00:37,  1.86s/it]\u001b[A\n",
            "Batch Iteration:  65%|██████▍   | 35/54 [01:23<00:34,  1.80s/it]\u001b[A\n",
            "Batch Iteration:  67%|██████▋   | 36/54 [01:24<00:31,  1.75s/it]\u001b[A\n",
            "Batch Iteration:  69%|██████▊   | 37/54 [01:26<00:29,  1.72s/it]\u001b[A\n",
            "Batch Iteration:  70%|███████   | 38/54 [01:28<00:27,  1.70s/it]\u001b[A\n",
            "Batch Iteration:  72%|███████▏  | 39/54 [01:29<00:25,  1.68s/it]\u001b[A\n",
            "Batch Iteration:  74%|███████▍  | 40/54 [01:31<00:23,  1.67s/it]\u001b[A\n",
            "Batch Iteration:  76%|███████▌  | 41/54 [01:33<00:21,  1.66s/it]\u001b[A\n",
            "Batch Iteration:  78%|███████▊  | 42/54 [01:34<00:19,  1.66s/it]\u001b[A\n",
            "Batch Iteration:  80%|███████▉  | 43/54 [01:36<00:18,  1.65s/it]\u001b[A\n",
            "Batch Iteration:  81%|████████▏ | 44/54 [01:38<00:16,  1.65s/it]\u001b[A\n",
            "Batch Iteration:  83%|████████▎ | 45/54 [01:39<00:14,  1.65s/it]\u001b[A\n",
            "Batch Iteration:  85%|████████▌ | 46/54 [01:41<00:13,  1.65s/it]\u001b[A\n",
            "Batch Iteration:  87%|████████▋ | 47/54 [01:43<00:11,  1.65s/it]\u001b[A\n",
            "Batch Iteration:  89%|████████▉ | 48/54 [01:44<00:09,  1.65s/it]\u001b[A\n",
            "Batch Iteration:  91%|█████████ | 49/54 [01:46<00:08,  1.65s/it]\u001b[A\n",
            "Batch Iteration:  93%|█████████▎| 50/54 [01:47<00:06,  1.64s/it]\u001b[A\n",
            "\n",
            "Batch Evaluating:   0%|          | 0/18 [00:00<?, ?it/s]\u001b[A\u001b[A\n",
            "\n",
            "Batch Evaluating:   6%|▌         | 1/18 [00:00<00:10,  1.61it/s]\u001b[A\u001b[A\n",
            "\n",
            "Batch Evaluating:  11%|█         | 2/18 [00:01<00:09,  1.61it/s]\u001b[A\u001b[A\n",
            "\n",
            "Batch Evaluating:  17%|█▋        | 3/18 [00:01<00:09,  1.61it/s]\u001b[A\u001b[A\n",
            "\n",
            "Batch Evaluating:  22%|██▏       | 4/18 [00:02<00:08,  1.61it/s]\u001b[A\u001b[A\n",
            "\n",
            "Batch Evaluating:  28%|██▊       | 5/18 [00:03<00:08,  1.60it/s]\u001b[A\u001b[A\n",
            "\n",
            "Batch Evaluating:  33%|███▎      | 6/18 [00:03<00:07,  1.60it/s]\u001b[A\u001b[A\n",
            "\n",
            "Batch Evaluating:  39%|███▉      | 7/18 [00:04<00:06,  1.60it/s]\u001b[A\u001b[A\n",
            "\n",
            "Batch Evaluating:  44%|████▍     | 8/18 [00:05<00:06,  1.60it/s]\u001b[A\u001b[A\n",
            "\n",
            "Batch Evaluating:  50%|█████     | 9/18 [00:05<00:05,  1.60it/s]\u001b[A\u001b[A\n",
            "\n",
            "Batch Evaluating:  56%|█████▌    | 10/18 [00:06<00:05,  1.60it/s]\u001b[A\u001b[A\n",
            "\n",
            "Batch Evaluating:  61%|██████    | 11/18 [00:06<00:04,  1.60it/s]\u001b[A\u001b[A\n",
            "\n",
            "Batch Evaluating:  67%|██████▋   | 12/18 [00:07<00:03,  1.60it/s]\u001b[A\u001b[A\n",
            "\n",
            "Batch Evaluating:  72%|███████▏  | 13/18 [00:08<00:03,  1.61it/s]\u001b[A\u001b[A\n",
            "\n",
            "Batch Evaluating:  78%|███████▊  | 14/18 [00:08<00:02,  1.61it/s]\u001b[A\u001b[A\n",
            "\n",
            "Batch Evaluating:  83%|████████▎ | 15/18 [00:09<00:01,  1.61it/s]\u001b[A\u001b[A\n",
            "\n",
            "Batch Evaluating:  89%|████████▉ | 16/18 [00:09<00:01,  1.61it/s]\u001b[A\u001b[A\n",
            "\n",
            "Batch Evaluating:  94%|█████████▍| 17/18 [00:10<00:00,  1.61it/s]\u001b[A\u001b[A\n",
            "\n",
            "Batch Evaluating: 100%|██████████| 18/18 [00:11<00:00,  1.62it/s]\n"
          ],
          "name": "stderr"
        },
        {
          "output_type": "stream",
          "text": [
            "{\"eval_loss\": 0.7523708840211233, \"eval_accuracy\": 0.8456140350877193, \"learning_rate\": 1.527777777777778e-05, \"training_loss\": 0.02860196357127279, \"step\": 375}\n"
          ],
          "name": "stdout"
        },
        {
          "output_type": "stream",
          "text": [
            "\n",
            "Batch Iteration:  94%|█████████▍| 51/54 [02:02<00:16,  5.54s/it]\u001b[A\n",
            "Batch Iteration:  96%|█████████▋| 52/54 [02:04<00:08,  4.37s/it]\u001b[A\n",
            "Batch Iteration:  98%|█████████▊| 53/54 [02:05<00:03,  3.55s/it]\u001b[A\n",
            "Batch Iteration: 100%|██████████| 54/54 [02:06<00:00,  2.34s/it]\n",
            "\n",
            "Batch Evaluating:   0%|          | 0/18 [00:00<?, ?it/s]\u001b[A\n",
            "Batch Evaluating:   6%|▌         | 1/18 [00:00<00:10,  1.65it/s]\u001b[A\n",
            "Batch Evaluating:  11%|█         | 2/18 [00:01<00:09,  1.64it/s]\u001b[A\n",
            "Batch Evaluating:  17%|█▋        | 3/18 [00:01<00:09,  1.63it/s]\u001b[A\n",
            "Batch Evaluating:  22%|██▏       | 4/18 [00:02<00:08,  1.63it/s]\u001b[A\n",
            "Batch Evaluating:  28%|██▊       | 5/18 [00:03<00:08,  1.62it/s]\u001b[A\n",
            "Batch Evaluating:  33%|███▎      | 6/18 [00:03<00:07,  1.62it/s]\u001b[A\n",
            "Batch Evaluating:  39%|███▉      | 7/18 [00:04<00:06,  1.62it/s]\u001b[A\n",
            "Batch Evaluating:  44%|████▍     | 8/18 [00:04<00:06,  1.62it/s]\u001b[A\n",
            "Batch Evaluating:  50%|█████     | 9/18 [00:05<00:05,  1.62it/s]\u001b[A\n",
            "Batch Evaluating:  56%|█████▌    | 10/18 [00:06<00:04,  1.61it/s]\u001b[A\n",
            "Batch Evaluating:  61%|██████    | 11/18 [00:06<00:04,  1.61it/s]\u001b[A\n",
            "Batch Evaluating:  67%|██████▋   | 12/18 [00:07<00:03,  1.62it/s]\u001b[A\n",
            "Batch Evaluating:  72%|███████▏  | 13/18 [00:08<00:03,  1.61it/s]\u001b[A\n",
            "Batch Evaluating:  78%|███████▊  | 14/18 [00:08<00:02,  1.61it/s]\u001b[A\n",
            "Batch Evaluating:  83%|████████▎ | 15/18 [00:09<00:01,  1.62it/s]\u001b[A\n",
            "Batch Evaluating:  89%|████████▉ | 16/18 [00:09<00:01,  1.61it/s]\u001b[A\n",
            "Batch Evaluating:  94%|█████████▍| 17/18 [00:10<00:00,  1.61it/s]\u001b[A\n",
            "Batch Evaluating: 100%|██████████| 18/18 [00:11<00:00,  1.63it/s]\n",
            "Epoch:  70%|███████   | 7/10 [14:46<06:25, 128.60s/it]\n",
            "Batch Iteration:   0%|          | 0/54 [00:00<?, ?it/s]\u001b[A\n",
            "Batch Iteration:   2%|▏         | 1/54 [00:01<01:26,  1.63s/it]\u001b[A\n",
            "Batch Iteration:   4%|▎         | 2/54 [00:03<01:24,  1.63s/it]\u001b[A\n",
            "Batch Iteration:   6%|▌         | 3/54 [00:04<01:23,  1.63s/it]\u001b[A\n",
            "Batch Iteration:   7%|▋         | 4/54 [00:06<01:21,  1.64s/it]\u001b[A\n",
            "Batch Iteration:   9%|▉         | 5/54 [00:08<01:20,  1.64s/it]\u001b[A\n",
            "Batch Iteration:  11%|█         | 6/54 [00:09<01:18,  1.64s/it]\u001b[A\n",
            "Batch Iteration:  13%|█▎        | 7/54 [00:11<01:17,  1.64s/it]\u001b[A\n",
            "Batch Iteration:  15%|█▍        | 8/54 [00:13<01:15,  1.64s/it]\u001b[A\n",
            "Batch Iteration:  17%|█▋        | 9/54 [00:14<01:13,  1.64s/it]\u001b[A\n",
            "Batch Iteration:  19%|█▊        | 10/54 [00:16<01:12,  1.64s/it]\u001b[A\n",
            "Batch Iteration:  20%|██        | 11/54 [00:18<01:10,  1.64s/it]\u001b[A\n",
            "Batch Iteration:  22%|██▏       | 12/54 [00:19<01:09,  1.64s/it]\u001b[A\n",
            "Batch Iteration:  24%|██▍       | 13/54 [00:21<01:07,  1.64s/it]\u001b[A\n",
            "Batch Iteration:  26%|██▌       | 14/54 [00:22<01:05,  1.64s/it]\u001b[A\n",
            "Batch Iteration:  28%|██▊       | 15/54 [00:24<01:04,  1.64s/it]\u001b[A\n",
            "Batch Iteration:  30%|██▉       | 16/54 [00:26<01:02,  1.64s/it]\u001b[A\n",
            "Batch Iteration:  31%|███▏      | 17/54 [00:27<01:00,  1.64s/it]\u001b[A\n",
            "Batch Iteration:  33%|███▎      | 18/54 [00:29<00:58,  1.64s/it]\u001b[A\n",
            "Batch Iteration:  35%|███▌      | 19/54 [00:31<00:57,  1.64s/it]\u001b[A\n",
            "Batch Iteration:  37%|███▋      | 20/54 [00:32<00:55,  1.64s/it]\u001b[A\n",
            "Batch Iteration:  39%|███▉      | 21/54 [00:34<00:54,  1.64s/it]\u001b[A\n",
            "\n",
            "Batch Evaluating:   0%|          | 0/18 [00:00<?, ?it/s]\u001b[A\u001b[A\n",
            "\n",
            "Batch Evaluating:   6%|▌         | 1/18 [00:00<00:10,  1.63it/s]\u001b[A\u001b[A\n",
            "\n",
            "Batch Evaluating:  11%|█         | 2/18 [00:01<00:09,  1.62it/s]\u001b[A\u001b[A\n",
            "\n",
            "Batch Evaluating:  17%|█▋        | 3/18 [00:01<00:09,  1.62it/s]\u001b[A\u001b[A\n",
            "\n",
            "Batch Evaluating:  22%|██▏       | 4/18 [00:02<00:08,  1.61it/s]\u001b[A\u001b[A\n",
            "\n",
            "Batch Evaluating:  28%|██▊       | 5/18 [00:03<00:08,  1.61it/s]\u001b[A\u001b[A\n",
            "\n",
            "Batch Evaluating:  33%|███▎      | 6/18 [00:03<00:07,  1.61it/s]\u001b[A\u001b[A\n",
            "\n",
            "Batch Evaluating:  39%|███▉      | 7/18 [00:04<00:06,  1.61it/s]\u001b[A\u001b[A\n",
            "\n",
            "Batch Evaluating:  44%|████▍     | 8/18 [00:04<00:06,  1.60it/s]\u001b[A\u001b[A\n",
            "\n",
            "Batch Evaluating:  50%|█████     | 9/18 [00:05<00:05,  1.61it/s]\u001b[A\u001b[A\n",
            "\n",
            "Batch Evaluating:  56%|█████▌    | 10/18 [00:06<00:04,  1.61it/s]\u001b[A\u001b[A\n",
            "\n",
            "Batch Evaluating:  61%|██████    | 11/18 [00:06<00:04,  1.61it/s]\u001b[A\u001b[A\n",
            "\n",
            "Batch Evaluating:  67%|██████▋   | 12/18 [00:07<00:03,  1.61it/s]\u001b[A\u001b[A\n",
            "\n",
            "Batch Evaluating:  72%|███████▏  | 13/18 [00:08<00:03,  1.60it/s]\u001b[A\u001b[A\n",
            "\n",
            "Batch Evaluating:  78%|███████▊  | 14/18 [00:08<00:02,  1.61it/s]\u001b[A\u001b[A\n",
            "\n",
            "Batch Evaluating:  83%|████████▎ | 15/18 [00:09<00:01,  1.61it/s]\u001b[A\u001b[A\n",
            "\n",
            "Batch Evaluating:  89%|████████▉ | 16/18 [00:09<00:01,  1.61it/s]\u001b[A\u001b[A\n",
            "\n",
            "Batch Evaluating:  94%|█████████▍| 17/18 [00:10<00:00,  1.61it/s]\u001b[A\u001b[A\n",
            "\n",
            "Batch Evaluating: 100%|██████████| 18/18 [00:11<00:00,  1.62it/s]\n"
          ],
          "name": "stderr"
        },
        {
          "output_type": "stream",
          "text": [
            "{\"eval_loss\": 0.7347874740759531, \"eval_accuracy\": 0.8473684210526315, \"learning_rate\": 1.2962962962962962e-05, \"training_loss\": 0.006807897901162505, \"step\": 400}\n"
          ],
          "name": "stdout"
        },
        {
          "output_type": "stream",
          "text": [
            "\n",
            "Batch Iteration:  41%|████      | 22/54 [00:49<02:56,  5.53s/it]\u001b[A\n",
            "Batch Iteration:  43%|████▎     | 23/54 [00:50<02:15,  4.37s/it]\u001b[A\n",
            "Batch Iteration:  44%|████▍     | 24/54 [00:52<01:46,  3.55s/it]\u001b[A\n",
            "Batch Iteration:  46%|████▋     | 25/54 [00:54<01:26,  2.98s/it]\u001b[A\n",
            "Batch Iteration:  48%|████▊     | 26/54 [00:55<01:12,  2.58s/it]\u001b[A\n",
            "Batch Iteration:  50%|█████     | 27/54 [00:57<01:02,  2.30s/it]\u001b[A\n",
            "Batch Iteration:  52%|█████▏    | 28/54 [00:58<00:54,  2.10s/it]\u001b[A\n",
            "Batch Iteration:  54%|█████▎    | 29/54 [01:00<00:49,  1.96s/it]\u001b[A\n",
            "Batch Iteration:  56%|█████▌    | 30/54 [01:02<00:44,  1.87s/it]\u001b[A\n",
            "Batch Iteration:  57%|█████▋    | 31/54 [01:03<00:41,  1.80s/it]\u001b[A\n",
            "Batch Iteration:  59%|█████▉    | 32/54 [01:05<00:38,  1.75s/it]\u001b[A\n",
            "Batch Iteration:  61%|██████    | 33/54 [01:07<00:36,  1.72s/it]\u001b[A\n",
            "Batch Iteration:  63%|██████▎   | 34/54 [01:08<00:33,  1.70s/it]\u001b[A\n",
            "Batch Iteration:  65%|██████▍   | 35/54 [01:10<00:31,  1.68s/it]\u001b[A\n",
            "Batch Iteration:  67%|██████▋   | 36/54 [01:12<00:30,  1.67s/it]\u001b[A\n",
            "Batch Iteration:  69%|██████▊   | 37/54 [01:13<00:28,  1.66s/it]\u001b[A\n",
            "Batch Iteration:  70%|███████   | 38/54 [01:15<00:26,  1.66s/it]\u001b[A\n",
            "Batch Iteration:  72%|███████▏  | 39/54 [01:17<00:24,  1.65s/it]\u001b[A\n",
            "Batch Iteration:  74%|███████▍  | 40/54 [01:18<00:23,  1.65s/it]\u001b[A\n",
            "Batch Iteration:  76%|███████▌  | 41/54 [01:20<00:21,  1.65s/it]\u001b[A\n",
            "Batch Iteration:  78%|███████▊  | 42/54 [01:21<00:19,  1.65s/it]\u001b[A\n",
            "Batch Iteration:  80%|███████▉  | 43/54 [01:23<00:18,  1.65s/it]\u001b[A\n",
            "Batch Iteration:  81%|████████▏ | 44/54 [01:25<00:16,  1.65s/it]\u001b[A\n",
            "Batch Iteration:  83%|████████▎ | 45/54 [01:26<00:14,  1.64s/it]\u001b[A\n",
            "Batch Iteration:  85%|████████▌ | 46/54 [01:28<00:13,  1.64s/it]\u001b[A\n",
            "\n",
            "Batch Evaluating:   0%|          | 0/18 [00:00<?, ?it/s]\u001b[A\u001b[A\n",
            "\n",
            "Batch Evaluating:   6%|▌         | 1/18 [00:00<00:10,  1.62it/s]\u001b[A\u001b[A\n",
            "\n",
            "Batch Evaluating:  11%|█         | 2/18 [00:01<00:09,  1.61it/s]\u001b[A\u001b[A\n",
            "\n",
            "Batch Evaluating:  17%|█▋        | 3/18 [00:01<00:09,  1.61it/s]\u001b[A\u001b[A\n",
            "\n",
            "Batch Evaluating:  22%|██▏       | 4/18 [00:02<00:08,  1.60it/s]\u001b[A\u001b[A\n",
            "\n",
            "Batch Evaluating:  28%|██▊       | 5/18 [00:03<00:08,  1.60it/s]\u001b[A\u001b[A\n",
            "\n",
            "Batch Evaluating:  33%|███▎      | 6/18 [00:03<00:07,  1.60it/s]\u001b[A\u001b[A\n",
            "\n",
            "Batch Evaluating:  39%|███▉      | 7/18 [00:04<00:06,  1.60it/s]\u001b[A\u001b[A\n",
            "\n",
            "Batch Evaluating:  44%|████▍     | 8/18 [00:05<00:06,  1.60it/s]\u001b[A\u001b[A\n",
            "\n",
            "Batch Evaluating:  50%|█████     | 9/18 [00:05<00:05,  1.60it/s]\u001b[A\u001b[A\n",
            "\n",
            "Batch Evaluating:  56%|█████▌    | 10/18 [00:06<00:05,  1.60it/s]\u001b[A\u001b[A\n",
            "\n",
            "Batch Evaluating:  61%|██████    | 11/18 [00:06<00:04,  1.60it/s]\u001b[A\u001b[A\n",
            "\n",
            "Batch Evaluating:  67%|██████▋   | 12/18 [00:07<00:03,  1.60it/s]\u001b[A\u001b[A\n",
            "\n",
            "Batch Evaluating:  72%|███████▏  | 13/18 [00:08<00:03,  1.60it/s]\u001b[A\u001b[A\n",
            "\n",
            "Batch Evaluating:  78%|███████▊  | 14/18 [00:08<00:02,  1.60it/s]\u001b[A\u001b[A\n",
            "\n",
            "Batch Evaluating:  83%|████████▎ | 15/18 [00:09<00:01,  1.60it/s]\u001b[A\u001b[A\n",
            "\n",
            "Batch Evaluating:  89%|████████▉ | 16/18 [00:10<00:01,  1.60it/s]\u001b[A\u001b[A\n",
            "\n",
            "Batch Evaluating:  94%|█████████▍| 17/18 [00:10<00:00,  1.61it/s]\u001b[A\u001b[A\n",
            "\n",
            "Batch Evaluating: 100%|██████████| 18/18 [00:11<00:00,  1.62it/s]\n"
          ],
          "name": "stderr"
        },
        {
          "output_type": "stream",
          "text": [
            "{\"eval_loss\": 0.7278827726840973, \"eval_accuracy\": 0.8543859649122807, \"learning_rate\": 1.0648148148148148e-05, \"training_loss\": 0.020879741325043142, \"step\": 425}\n"
          ],
          "name": "stdout"
        },
        {
          "output_type": "stream",
          "text": [
            "\n",
            "Batch Iteration:  87%|████████▋ | 47/54 [01:43<00:38,  5.53s/it]\u001b[A\n",
            "Batch Iteration:  89%|████████▉ | 48/54 [01:44<00:26,  4.36s/it]\u001b[A\n",
            "Batch Iteration:  91%|█████████ | 49/54 [01:46<00:17,  3.55s/it]\u001b[A\n",
            "Batch Iteration:  93%|█████████▎| 50/54 [01:48<00:11,  2.98s/it]\u001b[A\n",
            "Batch Iteration:  94%|█████████▍| 51/54 [01:49<00:07,  2.58s/it]\u001b[A\n",
            "Batch Iteration:  96%|█████████▋| 52/54 [01:51<00:04,  2.30s/it]\u001b[A\n",
            "Batch Iteration:  98%|█████████▊| 53/54 [01:53<00:02,  2.10s/it]\u001b[A\n",
            "Batch Iteration: 100%|██████████| 54/54 [01:53<00:00,  2.10s/it]\n",
            "\n",
            "Batch Evaluating:   0%|          | 0/18 [00:00<?, ?it/s]\u001b[A\n",
            "Batch Evaluating:   6%|▌         | 1/18 [00:00<00:10,  1.62it/s]\u001b[A\n",
            "Batch Evaluating:  11%|█         | 2/18 [00:01<00:09,  1.62it/s]\u001b[A\n",
            "Batch Evaluating:  17%|█▋        | 3/18 [00:01<00:09,  1.61it/s]\u001b[A\n",
            "Batch Evaluating:  22%|██▏       | 4/18 [00:02<00:08,  1.61it/s]\u001b[A\n",
            "Batch Evaluating:  28%|██▊       | 5/18 [00:03<00:08,  1.61it/s]\u001b[A\n",
            "Batch Evaluating:  33%|███▎      | 6/18 [00:03<00:07,  1.61it/s]\u001b[A\n",
            "Batch Evaluating:  39%|███▉      | 7/18 [00:04<00:06,  1.61it/s]\u001b[A\n",
            "Batch Evaluating:  44%|████▍     | 8/18 [00:04<00:06,  1.61it/s]\u001b[A\n",
            "Batch Evaluating:  50%|█████     | 9/18 [00:05<00:05,  1.61it/s]\u001b[A\n",
            "Batch Evaluating:  56%|█████▌    | 10/18 [00:06<00:04,  1.61it/s]\u001b[A\n",
            "Batch Evaluating:  61%|██████    | 11/18 [00:06<00:04,  1.61it/s]\u001b[A\n",
            "Batch Evaluating:  67%|██████▋   | 12/18 [00:07<00:03,  1.61it/s]\u001b[A\n",
            "Batch Evaluating:  72%|███████▏  | 13/18 [00:08<00:03,  1.61it/s]\u001b[A\n",
            "Batch Evaluating:  78%|███████▊  | 14/18 [00:08<00:02,  1.61it/s]\u001b[A\n",
            "Batch Evaluating:  83%|████████▎ | 15/18 [00:09<00:01,  1.61it/s]\u001b[A\n",
            "Batch Evaluating:  89%|████████▉ | 16/18 [00:09<00:01,  1.61it/s]\u001b[A\n",
            "Batch Evaluating:  94%|█████████▍| 17/18 [00:10<00:00,  1.61it/s]\u001b[A\n",
            "Batch Evaluating: 100%|██████████| 18/18 [00:11<00:00,  1.63it/s]\n",
            "Epoch:  80%|████████  | 8/10 [16:50<04:14, 127.43s/it]\n",
            "Batch Iteration:   0%|          | 0/54 [00:00<?, ?it/s]\u001b[A\n",
            "Batch Iteration:   2%|▏         | 1/54 [00:01<01:26,  1.63s/it]\u001b[A\n",
            "Batch Iteration:   4%|▎         | 2/54 [00:03<01:24,  1.63s/it]\u001b[A\n",
            "Batch Iteration:   6%|▌         | 3/54 [00:04<01:23,  1.64s/it]\u001b[A\n",
            "Batch Iteration:   7%|▋         | 4/54 [00:06<01:21,  1.64s/it]\u001b[A\n",
            "Batch Iteration:   9%|▉         | 5/54 [00:08<01:20,  1.64s/it]\u001b[A\n",
            "Batch Iteration:  11%|█         | 6/54 [00:09<01:18,  1.64s/it]\u001b[A\n",
            "Batch Iteration:  13%|█▎        | 7/54 [00:11<01:17,  1.64s/it]\u001b[A\n",
            "Batch Iteration:  15%|█▍        | 8/54 [00:13<01:15,  1.64s/it]\u001b[A\n",
            "Batch Iteration:  17%|█▋        | 9/54 [00:14<01:13,  1.64s/it]\u001b[A\n",
            "Batch Iteration:  19%|█▊        | 10/54 [00:16<01:12,  1.64s/it]\u001b[A\n",
            "Batch Iteration:  20%|██        | 11/54 [00:18<01:10,  1.64s/it]\u001b[A\n",
            "Batch Iteration:  22%|██▏       | 12/54 [00:19<01:09,  1.64s/it]\u001b[A\n",
            "Batch Iteration:  24%|██▍       | 13/54 [00:21<01:07,  1.64s/it]\u001b[A\n",
            "Batch Iteration:  26%|██▌       | 14/54 [00:23<01:05,  1.64s/it]\u001b[A\n",
            "Batch Iteration:  28%|██▊       | 15/54 [00:24<01:04,  1.64s/it]\u001b[A\n",
            "Batch Iteration:  30%|██▉       | 16/54 [00:26<01:02,  1.64s/it]\u001b[A\n",
            "Batch Iteration:  31%|███▏      | 17/54 [00:27<01:00,  1.64s/it]\u001b[A\n",
            "\n",
            "Batch Evaluating:   0%|          | 0/18 [00:00<?, ?it/s]\u001b[A\u001b[A\n",
            "\n",
            "Batch Evaluating:   6%|▌         | 1/18 [00:00<00:10,  1.63it/s]\u001b[A\u001b[A\n",
            "\n",
            "Batch Evaluating:  11%|█         | 2/18 [00:01<00:09,  1.62it/s]\u001b[A\u001b[A\n",
            "\n",
            "Batch Evaluating:  17%|█▋        | 3/18 [00:01<00:09,  1.62it/s]\u001b[A\u001b[A\n",
            "\n",
            "Batch Evaluating:  22%|██▏       | 4/18 [00:02<00:08,  1.62it/s]\u001b[A\u001b[A\n",
            "\n",
            "Batch Evaluating:  28%|██▊       | 5/18 [00:03<00:08,  1.61it/s]\u001b[A\u001b[A\n",
            "\n",
            "Batch Evaluating:  33%|███▎      | 6/18 [00:03<00:07,  1.61it/s]\u001b[A\u001b[A\n",
            "\n",
            "Batch Evaluating:  39%|███▉      | 7/18 [00:04<00:06,  1.61it/s]\u001b[A\u001b[A\n",
            "\n",
            "Batch Evaluating:  44%|████▍     | 8/18 [00:04<00:06,  1.61it/s]\u001b[A\u001b[A\n",
            "\n",
            "Batch Evaluating:  50%|█████     | 9/18 [00:05<00:05,  1.61it/s]\u001b[A\u001b[A\n",
            "\n",
            "Batch Evaluating:  56%|█████▌    | 10/18 [00:06<00:04,  1.61it/s]\u001b[A\u001b[A\n",
            "\n",
            "Batch Evaluating:  61%|██████    | 11/18 [00:06<00:04,  1.61it/s]\u001b[A\u001b[A\n",
            "\n",
            "Batch Evaluating:  67%|██████▋   | 12/18 [00:07<00:03,  1.60it/s]\u001b[A\u001b[A\n",
            "\n",
            "Batch Evaluating:  72%|███████▏  | 13/18 [00:08<00:03,  1.60it/s]\u001b[A\u001b[A\n",
            "\n",
            "Batch Evaluating:  78%|███████▊  | 14/18 [00:08<00:02,  1.60it/s]\u001b[A\u001b[A\n",
            "\n",
            "Batch Evaluating:  83%|████████▎ | 15/18 [00:09<00:01,  1.60it/s]\u001b[A\u001b[A\n",
            "\n",
            "Batch Evaluating:  89%|████████▉ | 16/18 [00:09<00:01,  1.60it/s]\u001b[A\u001b[A\n",
            "\n",
            "Batch Evaluating:  94%|█████████▍| 17/18 [00:10<00:00,  1.60it/s]\u001b[A\u001b[A\n",
            "\n",
            "Batch Evaluating: 100%|██████████| 18/18 [00:11<00:00,  1.62it/s]\n"
          ],
          "name": "stderr"
        },
        {
          "output_type": "stream",
          "text": [
            "{\"eval_loss\": 0.7713553127315309, \"eval_accuracy\": 0.856140350877193, \"learning_rate\": 8.333333333333334e-06, \"training_loss\": 0.020062972926534712, \"step\": 450}\n"
          ],
          "name": "stdout"
        },
        {
          "output_type": "stream",
          "text": [
            "\n",
            "Batch Iteration:  33%|███▎      | 18/54 [00:42<03:18,  5.53s/it]\u001b[A\n",
            "Batch Iteration:  35%|███▌      | 19/54 [00:44<02:32,  4.37s/it]\u001b[A\n",
            "Batch Iteration:  37%|███▋      | 20/54 [00:45<02:00,  3.54s/it]\u001b[A\n",
            "Batch Iteration:  39%|███▉      | 21/54 [00:47<01:38,  2.97s/it]\u001b[A\n",
            "Batch Iteration:  41%|████      | 22/54 [00:49<01:22,  2.58s/it]\u001b[A\n",
            "Batch Iteration:  43%|████▎     | 23/54 [00:50<01:11,  2.30s/it]\u001b[A\n",
            "Batch Iteration:  44%|████▍     | 24/54 [00:52<01:03,  2.10s/it]\u001b[A\n",
            "Batch Iteration:  46%|████▋     | 25/54 [00:54<00:57,  1.97s/it]\u001b[A\n",
            "Batch Iteration:  48%|████▊     | 26/54 [00:55<00:52,  1.87s/it]\u001b[A\n",
            "Batch Iteration:  50%|█████     | 27/54 [00:57<00:48,  1.80s/it]\u001b[A\n",
            "Batch Iteration:  52%|█████▏    | 28/54 [00:58<00:45,  1.76s/it]\u001b[A\n",
            "Batch Iteration:  54%|█████▎    | 29/54 [01:00<00:43,  1.72s/it]\u001b[A\n",
            "Batch Iteration:  56%|█████▌    | 30/54 [01:02<00:40,  1.70s/it]\u001b[A\n",
            "Batch Iteration:  57%|█████▋    | 31/54 [01:03<00:38,  1.69s/it]\u001b[A\n",
            "Batch Iteration:  59%|█████▉    | 32/54 [01:05<00:36,  1.67s/it]\u001b[A\n",
            "Batch Iteration:  61%|██████    | 33/54 [01:07<00:34,  1.67s/it]\u001b[A\n",
            "Batch Iteration:  63%|██████▎   | 34/54 [01:08<00:33,  1.66s/it]\u001b[A\n",
            "Batch Iteration:  65%|██████▍   | 35/54 [01:10<00:31,  1.66s/it]\u001b[A\n",
            "Batch Iteration:  67%|██████▋   | 36/54 [01:12<00:29,  1.65s/it]\u001b[A\n",
            "Batch Iteration:  69%|██████▊   | 37/54 [01:13<00:28,  1.65s/it]\u001b[A\n",
            "Batch Iteration:  70%|███████   | 38/54 [01:15<00:26,  1.65s/it]\u001b[A\n",
            "Batch Iteration:  72%|███████▏  | 39/54 [01:17<00:24,  1.65s/it]\u001b[A\n",
            "Batch Iteration:  74%|███████▍  | 40/54 [01:18<00:23,  1.65s/it]\u001b[A\n",
            "Batch Iteration:  76%|███████▌  | 41/54 [01:20<00:21,  1.64s/it]\u001b[A\n",
            "Batch Iteration:  78%|███████▊  | 42/54 [01:22<00:19,  1.64s/it]\u001b[A\n",
            "\n",
            "Batch Evaluating:   0%|          | 0/18 [00:00<?, ?it/s]\u001b[A\u001b[A\n",
            "\n",
            "Batch Evaluating:   6%|▌         | 1/18 [00:00<00:10,  1.63it/s]\u001b[A\u001b[A\n",
            "\n",
            "Batch Evaluating:  11%|█         | 2/18 [00:01<00:09,  1.62it/s]\u001b[A\u001b[A\n",
            "\n",
            "Batch Evaluating:  17%|█▋        | 3/18 [00:01<00:09,  1.62it/s]\u001b[A\u001b[A\n",
            "\n",
            "Batch Evaluating:  22%|██▏       | 4/18 [00:02<00:08,  1.61it/s]\u001b[A\u001b[A\n",
            "\n",
            "Batch Evaluating:  28%|██▊       | 5/18 [00:03<00:08,  1.60it/s]\u001b[A\u001b[A\n",
            "\n",
            "Batch Evaluating:  33%|███▎      | 6/18 [00:03<00:07,  1.60it/s]\u001b[A\u001b[A\n",
            "\n",
            "Batch Evaluating:  39%|███▉      | 7/18 [00:04<00:06,  1.60it/s]\u001b[A\u001b[A\n",
            "\n",
            "Batch Evaluating:  44%|████▍     | 8/18 [00:04<00:06,  1.60it/s]\u001b[A\u001b[A\n",
            "\n",
            "Batch Evaluating:  50%|█████     | 9/18 [00:05<00:05,  1.60it/s]\u001b[A\u001b[A\n",
            "\n",
            "Batch Evaluating:  56%|█████▌    | 10/18 [00:06<00:05,  1.60it/s]\u001b[A\u001b[A\n",
            "\n",
            "Batch Evaluating:  61%|██████    | 11/18 [00:06<00:04,  1.60it/s]\u001b[A\u001b[A\n",
            "\n",
            "Batch Evaluating:  67%|██████▋   | 12/18 [00:07<00:03,  1.60it/s]\u001b[A\u001b[A\n",
            "\n",
            "Batch Evaluating:  72%|███████▏  | 13/18 [00:08<00:03,  1.60it/s]\u001b[A\u001b[A\n",
            "\n",
            "Batch Evaluating:  78%|███████▊  | 14/18 [00:08<00:02,  1.60it/s]\u001b[A\u001b[A\n",
            "\n",
            "Batch Evaluating:  83%|████████▎ | 15/18 [00:09<00:01,  1.60it/s]\u001b[A\u001b[A\n",
            "\n",
            "Batch Evaluating:  89%|████████▉ | 16/18 [00:09<00:01,  1.61it/s]\u001b[A\u001b[A\n",
            "\n",
            "Batch Evaluating:  94%|█████████▍| 17/18 [00:10<00:00,  1.60it/s]\u001b[A\u001b[A\n",
            "\n",
            "Batch Evaluating: 100%|██████████| 18/18 [00:11<00:00,  1.62it/s]\n"
          ],
          "name": "stderr"
        },
        {
          "output_type": "stream",
          "text": [
            "{\"eval_loss\": 0.791953745815489, \"eval_accuracy\": 0.8543859649122807, \"learning_rate\": 6.0185185185185185e-06, \"training_loss\": 0.009401646722108126, \"step\": 475}\n"
          ],
          "name": "stdout"
        },
        {
          "output_type": "stream",
          "text": [
            "\n",
            "Batch Iteration:  80%|███████▉  | 43/54 [01:36<01:00,  5.53s/it]\u001b[A\n",
            "Batch Iteration:  81%|████████▏ | 44/54 [01:38<00:43,  4.36s/it]\u001b[A\n",
            "Batch Iteration:  83%|████████▎ | 45/54 [01:39<00:31,  3.54s/it]\u001b[A\n",
            "Batch Iteration:  85%|████████▌ | 46/54 [01:41<00:23,  2.97s/it]\u001b[A\n",
            "Batch Iteration:  87%|████████▋ | 47/54 [01:43<00:18,  2.57s/it]\u001b[A\n",
            "Batch Iteration:  89%|████████▉ | 48/54 [01:44<00:13,  2.30s/it]\u001b[A\n",
            "Batch Iteration:  91%|█████████ | 49/54 [01:46<00:10,  2.10s/it]\u001b[A\n",
            "Batch Iteration:  93%|█████████▎| 50/54 [01:48<00:07,  1.96s/it]\u001b[A\n",
            "Batch Iteration:  94%|█████████▍| 51/54 [01:49<00:05,  1.87s/it]\u001b[A\n",
            "Batch Iteration:  96%|█████████▋| 52/54 [01:51<00:03,  1.80s/it]\u001b[A\n",
            "Batch Iteration:  98%|█████████▊| 53/54 [01:53<00:01,  1.75s/it]\u001b[A\n",
            "Batch Iteration: 100%|██████████| 54/54 [01:53<00:00,  2.10s/it]\n",
            "\n",
            "Batch Evaluating:   0%|          | 0/18 [00:00<?, ?it/s]\u001b[A\n",
            "Batch Evaluating:   6%|▌         | 1/18 [00:00<00:10,  1.60it/s]\u001b[A\n",
            "Batch Evaluating:  11%|█         | 2/18 [00:01<00:09,  1.61it/s]\u001b[A\n",
            "Batch Evaluating:  17%|█▋        | 3/18 [00:01<00:09,  1.60it/s]\u001b[A\n",
            "Batch Evaluating:  22%|██▏       | 4/18 [00:02<00:08,  1.61it/s]\u001b[A\n",
            "Batch Evaluating:  28%|██▊       | 5/18 [00:03<00:08,  1.61it/s]\u001b[A\n",
            "Batch Evaluating:  33%|███▎      | 6/18 [00:03<00:07,  1.61it/s]\u001b[A\n",
            "Batch Evaluating:  39%|███▉      | 7/18 [00:04<00:06,  1.61it/s]\u001b[A\n",
            "Batch Evaluating:  44%|████▍     | 8/18 [00:04<00:06,  1.61it/s]\u001b[A\n",
            "Batch Evaluating:  50%|█████     | 9/18 [00:05<00:05,  1.61it/s]\u001b[A\n",
            "Batch Evaluating:  56%|█████▌    | 10/18 [00:06<00:04,  1.61it/s]\u001b[A\n",
            "Batch Evaluating:  61%|██████    | 11/18 [00:06<00:04,  1.61it/s]\u001b[A\n",
            "Batch Evaluating:  67%|██████▋   | 12/18 [00:07<00:03,  1.61it/s]\u001b[A\n",
            "Batch Evaluating:  72%|███████▏  | 13/18 [00:08<00:03,  1.61it/s]\u001b[A\n",
            "Batch Evaluating:  78%|███████▊  | 14/18 [00:08<00:02,  1.61it/s]\u001b[A\n",
            "Batch Evaluating:  83%|████████▎ | 15/18 [00:09<00:01,  1.61it/s]\u001b[A\n",
            "Batch Evaluating:  89%|████████▉ | 16/18 [00:09<00:01,  1.61it/s]\u001b[A\n",
            "Batch Evaluating:  94%|█████████▍| 17/18 [00:10<00:00,  1.61it/s]\u001b[A\n",
            "Batch Evaluating: 100%|██████████| 18/18 [00:11<00:00,  1.62it/s]\n",
            "Epoch:  80%|████████  | 8/10 [18:55<04:43, 141.94s/it]\n",
            "Some weights of the model checkpoint at bert-base-uncased were not used when initializing BertForSequenceClassification: ['cls.predictions.bias', 'cls.predictions.transform.dense.weight', 'cls.predictions.transform.dense.bias', 'cls.predictions.decoder.weight', 'cls.seq_relationship.weight', 'cls.seq_relationship.bias', 'cls.predictions.transform.LayerNorm.weight', 'cls.predictions.transform.LayerNorm.bias']\n",
            "- This IS expected if you are initializing BertForSequenceClassification from the checkpoint of a model trained on another task or with another architecture (e.g. initializing a BertForSequenceClassification model from a BertForPreTraining model).\n",
            "- This IS NOT expected if you are initializing BertForSequenceClassification from the checkpoint of a model that you expect to be exactly identical (initializing a BertForSequenceClassification model from a BertForSequenceClassification model).\n",
            "Some weights of BertForSequenceClassification were not initialized from the model checkpoint at bert-base-uncased and are newly initialized: ['classifier.weight', 'classifier.bias']\n",
            "You should probably TRAIN this model on a down-stream task to be able to use it for predictions and inference.\n"
          ],
          "name": "stderr"
        },
        {
          "output_type": "display_data",
          "data": {
            "text/html": [
              "<br/>Waiting for W&B process to finish, PID 293<br/>Program ended successfully."
            ],
            "text/plain": [
              "<IPython.core.display.HTML object>"
            ]
          },
          "metadata": {
            "tags": []
          }
        },
        {
          "output_type": "display_data",
          "data": {
            "application/vnd.jupyter.widget-view+json": {
              "model_id": "db118c8743cb4330ae57e0bbc56298a0",
              "version_major": 2,
              "version_minor": 0
            },
            "text/plain": [
              "VBox(children=(Label(value=' 0.00MB of 0.00MB uploaded (0.00MB deduped)\\r'), FloatProgress(value=1.0, max=1.0)…"
            ]
          },
          "metadata": {
            "tags": []
          }
        },
        {
          "output_type": "display_data",
          "data": {
            "text/html": [
              "Find user logs for this run at: <code>/content/drive/My Drive/LAP/wandb/run-20210317_001937-1iyczzol/logs/debug.log</code>"
            ],
            "text/plain": [
              "<IPython.core.display.HTML object>"
            ]
          },
          "metadata": {
            "tags": []
          }
        },
        {
          "output_type": "display_data",
          "data": {
            "text/html": [
              "Find internal logs for this run at: <code>/content/drive/My Drive/LAP/wandb/run-20210317_001937-1iyczzol/logs/debug-internal.log</code>"
            ],
            "text/plain": [
              "<IPython.core.display.HTML object>"
            ]
          },
          "metadata": {
            "tags": []
          }
        },
        {
          "output_type": "display_data",
          "data": {
            "text/html": [
              "Synced 5 W&B file(s), 0 media file(s), 0 artifact file(s) and 0 other file(s)"
            ],
            "text/plain": [
              "<IPython.core.display.HTML object>"
            ]
          },
          "metadata": {
            "tags": []
          }
        },
        {
          "output_type": "display_data",
          "data": {
            "text/html": [
              "\n",
              "                    <br/>Synced <strong style=\"color:#cdcd00\">Train_Findings_Texts_10</strong>: <a href=\"https://wandb.ai/lap_mmbtws2021/Text_Only/runs/1iyczzol\" target=\"_blank\">https://wandb.ai/lap_mmbtws2021/Text_Only/runs/1iyczzol</a><br/>\n",
              "                "
            ],
            "text/plain": [
              "<IPython.core.display.HTML object>"
            ]
          },
          "metadata": {
            "tags": []
          }
        }
      ]
    },
    {
      "cell_type": "markdown",
      "metadata": {
        "id": "Y3HT1vZmofkp"
      },
      "source": [
        "# Evaluation on Test set"
      ]
    },
    {
      "cell_type": "markdown",
      "metadata": {
        "id": "vOur0pn-oiay"
      },
      "source": [
        "## tokenizer and prepare test dataset\n",
        "\n",
        "use the saved tokenizer from the training step"
      ]
    },
    {
      "cell_type": "code",
      "metadata": {
        "colab": {
          "background_save": true
        },
        "id": "w-kuN61ooW1v",
        "outputId": "8d9bbd11-964b-4d04-ceca-e374b1265250"
      },
      "source": [
        "wandb.init(name=\"Test_Findings_Texts_10\", tags=['Findings', 'frontal'], project=\"Text_Only\", notes=\"10 epochs 256 size and 32 batch\", config=args.__dict__)\n",
        "# wandb.tensorboard.patch(root_logdir=\"...\")\n",
        "run_name = wandb.run.name\n",
        "wandb_config = wandb.config"
      ],
      "execution_count": null,
      "outputs": [
        {
          "output_type": "display_data",
          "data": {
            "text/html": [
              "\n",
              "                Tracking run with wandb version 0.10.22<br/>\n",
              "                Syncing run <strong style=\"color:#cdcd00\">Test_Findings_Texts_10</strong> to <a href=\"https://wandb.ai\" target=\"_blank\">Weights & Biases</a> <a href=\"https://docs.wandb.com/integrations/jupyter.html\" target=\"_blank\">(Documentation)</a>.<br/>\n",
              "                Project page: <a href=\"https://wandb.ai/lap_mmbtws2021/Text_Only\" target=\"_blank\">https://wandb.ai/lap_mmbtws2021/Text_Only</a><br/>\n",
              "                Run page: <a href=\"https://wandb.ai/lap_mmbtws2021/Text_Only/runs/wgm3glx2\" target=\"_blank\">https://wandb.ai/lap_mmbtws2021/Text_Only/runs/wgm3glx2</a><br/>\n",
              "                Run data is saved locally in <code>/content/drive/My Drive/LAP/wandb/run-20210317_003925-wgm3glx2</code><br/><br/>\n",
              "            "
            ],
            "text/plain": [
              "<IPython.core.display.HTML object>"
            ]
          },
          "metadata": {
            "tags": []
          }
        }
      ]
    },
    {
      "cell_type": "code",
      "metadata": {
        "colab": {
          "background_save": true
        },
        "id": "L6K5T2jEpJQx",
        "outputId": "0720ee90-ce84-4242-e0f2-5fa2966ac68d"
      },
      "source": [
        "test_dataset = make_tensor_dataset(test_sentences, test_labels, wandb_config, saved_model=True)"
      ],
      "execution_count": null,
      "outputs": [
        {
          "output_type": "stream",
          "text": [
            "Original:   Lungs are clear without focal consolidation, effusion or pneumothorax. Normal heart size. Bony thorax and soft tissues unremarkable\n",
            "Token IDs: tensor([  101,  8948,  2024,  3154,  2302, 15918, 17439,  1010,  1041,  4246,\n",
            "        14499,  2030,  1052,  2638,  2819, 29288,  2527,  2595,  1012,  3671,\n",
            "         2540,  2946,  1012, 22678, 15321,  8528,  1998,  3730, 14095,  4895,\n",
            "        28578, 17007,  3085,   102,     0,     0,     0,     0,     0,     0,\n",
            "            0,     0,     0,     0,     0,     0,     0,     0,     0,     0,\n",
            "            0,     0,     0,     0,     0,     0,     0,     0,     0,     0,\n",
            "            0,     0,     0,     0,     0,     0,     0,     0,     0,     0,\n",
            "            0,     0,     0,     0,     0,     0,     0,     0,     0,     0,\n",
            "            0,     0,     0,     0,     0,     0,     0,     0,     0,     0,\n",
            "            0,     0,     0,     0,     0,     0,     0,     0,     0,     0,\n",
            "            0,     0,     0,     0,     0,     0,     0,     0,     0,     0,\n",
            "            0,     0,     0,     0,     0,     0,     0,     0,     0,     0,\n",
            "            0,     0,     0,     0,     0,     0,     0,     0,     0,     0,\n",
            "            0,     0,     0,     0,     0,     0,     0,     0,     0,     0,\n",
            "            0,     0,     0,     0,     0,     0,     0,     0,     0,     0,\n",
            "            0,     0,     0,     0,     0,     0,     0,     0,     0,     0,\n",
            "            0,     0,     0,     0,     0,     0,     0,     0,     0,     0,\n",
            "            0,     0,     0,     0,     0,     0,     0,     0,     0,     0,\n",
            "            0,     0,     0,     0,     0,     0,     0,     0,     0,     0,\n",
            "            0,     0,     0,     0,     0,     0,     0,     0,     0,     0,\n",
            "            0,     0,     0,     0,     0,     0,     0,     0,     0,     0,\n",
            "            0,     0,     0,     0,     0,     0,     0,     0,     0,     0,\n",
            "            0,     0,     0,     0,     0,     0,     0,     0,     0,     0,\n",
            "            0,     0,     0,     0,     0,     0,     0,     0,     0,     0,\n",
            "            0,     0,     0,     0,     0,     0,     0,     0,     0,     0,\n",
            "            0,     0,     0,     0,     0,     0,     0,     0,     0,     0,\n",
            "            0,     0,     0,     0,     0,     0,     0,     0,     0,     0,\n",
            "            0,     0,     0,     0,     0,     0,     0,     0,     0,     0,\n",
            "            0,     0,     0,     0,     0,     0,     0,     0,     0,     0,\n",
            "            0,     0,     0,     0,     0,     0,     0,     0,     0,     0])\n",
            "Label: tensor(0)\n"
          ],
          "name": "stdout"
        }
      ]
    },
    {
      "cell_type": "code",
      "metadata": {
        "colab": {
          "background_save": true
        },
        "id": "k2dCKWr-oheZ"
      },
      "source": [
        "data_loaders['test'] = make_dataloader(test_dataset, wandb_config, eval=True)\n",
        "data_loaders['test_size'] = len(test_dataset)"
      ],
      "execution_count": null,
      "outputs": []
    },
    {
      "cell_type": "code",
      "metadata": {
        "id": "tFrWAi5AvjWs"
      },
      "source": [
        "# Evaluation\n",
        "results = {}\n",
        "if wandb_config.do_eval:\n",
        "    checkpoints = [wandb_config.output_dir]\n",
        "    if wandb_config.eval_all_checkpoints:\n",
        "        checkpoints = list(os.path.dirname(c) \n",
        "        for c in sorted(glob.glob(wandb_config.output_dir + \"/**/\" + \n",
        "                                  WEIGHTS_NAME, recursive=False)))\n",
        "        # recursive=False because otherwise the parent diretory gets included\n",
        "        # which is not what we want; only subdirectories\n",
        "\n",
        "    logger.info(\"Evaluate the following checkpoints: %s\", checkpoints)\n",
        "\n",
        "    for checkpoint in checkpoints:\n",
        "        global_step = checkpoint.split(\"-\")[-1] if len(checkpoints) > 1 else \"\"\n",
        "        prefix = checkpoint.split(\"/\")[-1] if checkpoint.find(\"checkpoint\") != -1 else \"\"\n",
        "        transformer_model = AutoModelForSequenceClassification.from_pretrained(wandb_config.model_name, config=transformer_config)\n",
        "        checkpoint = os.path.join(checkpoint, 'pytorch_model.bin')\n",
        "        transformer_model.load_state_dict(torch.load(checkpoint))\n",
        "        transformer_model.to(wandb_config.device)\n",
        "        if wandb_config.multiclass:\n",
        "            result = textBert_utils.evaluate(data_loaders, wandb_config, transformer_model, prefix=prefix, test=True, criterion=criterion)\n",
        "        else:\n",
        "            result = textBert_utils.evaluate(data_loaders, wandb_config, transformer_model, prefix=prefix, test=True) # test=True uses the test_dataset not val_dataset\n",
        "        result = dict((k + \"_{}\".format(global_step), v) for k, v in result.items())\n",
        "        results.update(result)\n",
        "    logger.info(\"***** Evaluation on Test Data Finished *****\")\n",
        "wandb.finish()"
      ],
      "execution_count": null,
      "outputs": []
    },
    {
      "cell_type": "markdown",
      "metadata": {
        "id": "8PBlhF6N_GUj"
      },
      "source": [
        "## Saving Test Eval Results\n",
        "\n",
        "The code automatically saved evaluation result from each checkpoint in its respective folder. This next cell simply saves all of them in one place."
      ]
    },
    {
      "cell_type": "code",
      "metadata": {
        "id": "oJq2ZUXBmsXW"
      },
      "source": [
        "with open(os.path.join(args.output_dir, f\"{os.path.splitext(args.test_file)[0]}_eval_results.txt\"), mode='w', encoding='utf-8') as out_f:\n",
        "    print(results, file=out_f)"
      ],
      "execution_count": null,
      "outputs": []
    }
  ]
}